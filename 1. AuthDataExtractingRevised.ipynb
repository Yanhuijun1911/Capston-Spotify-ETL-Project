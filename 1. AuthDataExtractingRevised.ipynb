{
 "nbformat": 4,
 "nbformat_minor": 0,
 "metadata": {
  "colab": {
   "name": "1.Auth.ipynb",
   "provenance": [],
   "collapsed_sections": []
  },
  "kernelspec": {
   "name": "python3",
   "display_name": "Python 3"
  },
  "language_info": {
   "name": "python"
  }
 },
 "cells": [
  {
   "cell_type": "code",
   "execution_count": 2,
   "metadata": {
    "id": "Q9DQmInjbCM2",
    "pycharm": {
     "name": "#%%\n"
    }
   },
   "outputs": [],
   "source": [
    "# import libaries\n",
    "import requests\n",
    "import pandas as pd\n",
    "import base64\n",
    "import numpy as np\n",
    "import json\n",
    "import itertools"
   ]
  },
  {
   "cell_type": "markdown",
   "source": [
    "# 1. Extracting data using Spotify API\n",
    "\n",
    "## Authorization"
   ],
   "metadata": {
    "collapsed": false,
    "pycharm": {
     "name": "#%% md\n"
    }
   }
  },
  {
   "cell_type": "code",
   "source": [
    "# ID\n",
    "client_id = '**********'\n",
    "client_secret = '*********'\n",
    "# id and secret are anonymised for security reason"
   ],
   "metadata": {
    "id": "HjuE8I2AbMQA",
    "pycharm": {
     "name": "#%%\n"
    }
   },
   "execution_count": 3,
   "outputs": []
  },
  {
   "cell_type": "code",
   "source": [
    "# base64 encoded client credentials\n",
    "try:\n",
    "    client_creds = f'{client_id}:{client_secret}'\n",
    "    client_creds_b64 = base64.b64encode(client_creds.encode()) # base64 can only encode bytes, so encode str to bytes first\n",
    "\n",
    "    #get token access following the format of Spotify API\n",
    "    token_url = 'https://accounts.spotify.com/api/token'\n",
    "    method = 'POST'\n",
    "    auth_data = {\n",
    "        'grant_type': \"client_credentials\"\n",
    "    }\n",
    "    auth_header = {\n",
    "        'Content-Type': 'application/x-www-form-urlencoded',\n",
    "        \"Authorization\": f'Basic {client_creds_b64.decode()}' #Basic <base64 encoded client_id:client_secret>\n",
    "    }\n",
    "    r = requests.post(token_url,data = auth_data, headers = auth_header)\n",
    "    token_response_data = r.json()\n",
    "\n",
    "    if 200<= r.status_code <= 299: # check if it connects to the API successfully\n",
    "        print(r.status_code)\n",
    "        access_token = token_response_data['access_token'] # get token access\n",
    "except:\n",
    "    print('Error',np.NAN)"
   ],
   "metadata": {
    "colab": {
     "base_uri": "https://localhost:8080/"
    },
    "id": "hCVyQIpbEpjE",
    "outputId": "4ad73ce3-514d-4493-c972-5e3228cbb0e5",
    "pycharm": {
     "name": "#%%\n"
    }
   },
   "execution_count": 4,
   "outputs": [
    {
     "name": "stdout",
     "output_type": "stream",
     "text": [
      "200\n"
     ]
    }
   ]
  },
  {
   "cell_type": "markdown",
   "source": [
    "## Get the tracks and the artists of my playlist"
   ],
   "metadata": {
    "collapsed": false,
    "pycharm": {
     "name": "#%% md\n"
    }
   }
  },
  {
   "cell_type": "code",
   "execution_count": 5,
   "outputs": [],
   "source": [
    "# create a function to request data\n",
    "def get_data(token, id, endpoint):\n",
    "    get_header = {\n",
    "        'Authorization': f'Bearer {token}',\n",
    "        'Content-Type': 'application/json',\n",
    "        'Accept': 'application/json'\n",
    "    }\n",
    "    res = requests.get(endpoint, headers = get_header, )\n",
    "    response = res.json()\n",
    "    return response"
   ],
   "metadata": {
    "collapsed": false,
    "pycharm": {
     "name": "#%%\n"
    }
   }
  },
  {
   "cell_type": "code",
   "execution_count": 6,
   "outputs": [],
   "source": [
    "# get the data of the tracks of my playlist\n",
    "playlist_id = '1mRlx7vfI14CKkavuMRczM?si=92373b41ffe8439a'\n",
    "tracks_endpoint = f'https://api.spotify.com/v1/playlists/{playlist_id}/tracks'\n",
    "token = access_token\n",
    "tracklist = get_data (token, playlist_id, tracks_endpoint)"
   ],
   "metadata": {
    "collapsed": false,
    "pycharm": {
     "name": "#%%\n"
    }
   }
  },
  {
   "cell_type": "code",
   "execution_count": 7,
   "outputs": [
    {
     "data": {
      "text/plain": "dict_keys(['collaborative', 'description', 'external_urls', 'followers', 'href', 'id', 'images', 'name', 'owner', 'primary_color', 'public', 'snapshot_id', 'tracks', 'type', 'uri'])"
     },
     "execution_count": 7,
     "metadata": {},
     "output_type": "execute_result"
    }
   ],
   "source": [
    "tracklist.keys() #check the keys of tracklist()"
   ],
   "metadata": {
    "collapsed": false,
    "pycharm": {
     "name": "#%%\n"
    }
   }
  },
  {
   "cell_type": "code",
   "execution_count": 8,
   "outputs": [
    {
     "data": {
      "text/plain": "dict_keys(['href', 'items', 'limit', 'next', 'offset', 'previous', 'total'])"
     },
     "execution_count": 8,
     "metadata": {},
     "output_type": "execute_result"
    }
   ],
   "source": [
    "tracklist['tracks'].keys() # locate where the useful data is"
   ],
   "metadata": {
    "collapsed": false,
    "pycharm": {
     "name": "#%%\n"
    }
   }
  },
  {
   "cell_type": "code",
   "execution_count": 9,
   "outputs": [
    {
     "data": {
      "text/plain": "dict_keys(['added_at', 'added_by', 'is_local', 'primary_color', 'track', 'video_thumbnail'])"
     },
     "execution_count": 9,
     "metadata": {},
     "output_type": "execute_result"
    }
   ],
   "source": [
    "tracklist['tracks']['items'][0].keys()"
   ],
   "metadata": {
    "collapsed": false,
    "pycharm": {
     "name": "#%%\n"
    }
   }
  },
  {
   "cell_type": "code",
   "execution_count": 10,
   "outputs": [
    {
     "data": {
      "text/plain": "dict_keys(['album', 'artists', 'available_markets', 'disc_number', 'duration_ms', 'episode', 'explicit', 'external_ids', 'external_urls', 'href', 'id', 'is_local', 'name', 'popularity', 'preview_url', 'track', 'track_number', 'type', 'uri'])"
     },
     "execution_count": 10,
     "metadata": {},
     "output_type": "execute_result"
    }
   ],
   "source": [
    "tracklist['tracks']['items'][0]['track'].keys()"
   ],
   "metadata": {
    "collapsed": false,
    "pycharm": {
     "name": "#%%\n"
    }
   }
  },
  {
   "cell_type": "code",
   "execution_count": 11,
   "outputs": [
    {
     "data": {
      "text/plain": "[{'external_urls': {'spotify': 'https://open.spotify.com/artist/2wY79sveU1sp5g7SokKOiI'},\n  'href': 'https://api.spotify.com/v1/artists/2wY79sveU1sp5g7SokKOiI',\n  'id': '2wY79sveU1sp5g7SokKOiI',\n  'name': 'Sam Smith',\n  'type': 'artist',\n  'uri': 'spotify:artist:2wY79sveU1sp5g7SokKOiI'}]"
     },
     "execution_count": 11,
     "metadata": {},
     "output_type": "execute_result"
    }
   ],
   "source": [
    "tracklist['tracks']['items'][0]['track']['artists']"
   ],
   "metadata": {
    "collapsed": false,
    "pycharm": {
     "name": "#%%\n"
    }
   }
  },
  {
   "cell_type": "code",
   "execution_count": 12,
   "outputs": [],
   "source": [
    "# get json format data in local drive\n",
    "with open ('tracklist.json','w') as f:\n",
    "    json.dump(tracklist,f)"
   ],
   "metadata": {
    "collapsed": false,
    "pycharm": {
     "name": "#%%\n"
    }
   }
  },
  {
   "cell_type": "code",
   "execution_count": 13,
   "outputs": [],
   "source": [
    "# create empty list for the data I need from the tracklist\n",
    "artist_names = []\n",
    "artist_id =[]\n",
    "artist_url = []\n",
    "track_names = []\n",
    "track_url = []\n",
    "track_id = []\n",
    "popularity = []"
   ],
   "metadata": {
    "collapsed": false,
    "pycharm": {
     "name": "#%%\n"
    }
   }
  },
  {
   "cell_type": "code",
   "execution_count": 14,
   "outputs": [],
   "source": [
    "# append the value to each specific list\n",
    "for i in tracklist['tracks']['items']:\n",
    "    artist_names.append(i['track']['artists'][0]['name']) # append the artist's name of each artist into the empty list artist_names\n",
    "    artist_url.append(i['track']['artists'][0]['external_urls']) # append the artist's url of each artist into the empty list artist_url\n",
    "    artist_id.append(i['track']['artists'][0]['id']) # append the artist's id of each artist into the empty list artist_id\n",
    "    track_names.append(i['track']['name']) # append the name of each track into the empty list track_names\n",
    "    track_url.append(i['track']['external_urls']) # append the track's url of each track into the empty list track_url\n",
    "    track_id.append(i['track']['id']) # append the  id of each track into the empty list track_id\n",
    "    popularity.append(i['track']['popularity']) # append the value of the popularity of each track into the empty list popularity\n"
   ],
   "metadata": {
    "collapsed": false,
    "pycharm": {
     "name": "#%%\n"
    }
   }
  },
  {
   "cell_type": "code",
   "execution_count": 15,
   "outputs": [],
   "source": [
    "#create a dictionary for the data I have gotten\n",
    "track_dic = {\n",
    "'artist_names': artist_names,\n",
    "'artist_url': artist_url,\n",
    "'artist_id':artist_id,\n",
    "'track_names': track_names,\n",
    "'track_url': track_url,\n",
    "'track_id': track_id,\n",
    "'popularity': popularity\n",
    "}"
   ],
   "metadata": {
    "collapsed": false,
    "pycharm": {
     "name": "#%%\n"
    }
   }
  },
  {
   "cell_type": "code",
   "execution_count": 16,
   "outputs": [],
   "source": [
    "# format the library to a dataframe\n",
    "df_tracklist = pd.DataFrame(track_dic)"
   ],
   "metadata": {
    "collapsed": false,
    "pycharm": {
     "name": "#%%\n"
    }
   }
  },
  {
   "cell_type": "code",
   "execution_count": 17,
   "outputs": [
    {
     "data": {
      "text/plain": "     artist_names                                         artist_url  \\\n0       Sam Smith  {'spotify': 'https://open.spotify.com/artist/2...   \n1        Doja Cat  {'spotify': 'https://open.spotify.com/artist/5...   \n2            Joji  {'spotify': 'https://open.spotify.com/artist/3...   \n3  Kendrick Lamar  {'spotify': 'https://open.spotify.com/artist/2...   \n4       Soft Lipa  {'spotify': 'https://open.spotify.com/artist/3...   \n\n                artist_id                          track_names  \\\n0  2wY79sveU1sp5g7SokKOiI                          Lay Me Down   \n1  5cj0lLjcoR7YOSnhnX0Po5  Kiss Me More (feat. Naomi Watanabe)   \n2  3MZsBdqDrRTJihTHQrO6Dq                        Glimpse of Us   \n3  2YZyLoL8N0Wb9xBt1NhZWg                     The Heart Part 5   \n4  3Xp3DA50zRP4TYOtNR7k1T                                 關於小熊   \n\n                                           track_url                track_id  \\\n0  {'spotify': 'https://open.spotify.com/track/74...  74sb4Gib0cL3TQeCjYF8vh   \n1  {'spotify': 'https://open.spotify.com/track/6X...  6XgBxK1v4li6dOI5to10Sz   \n2  {'spotify': 'https://open.spotify.com/track/6x...  6xGruZOHLs39ZbVccQTuPZ   \n3  {'spotify': 'https://open.spotify.com/track/5q...  5qbhVL3vB7HwWvb0042B7y   \n4  {'spotify': 'https://open.spotify.com/track/13...  13tJ9Mkj7cjXxrTjOh0LAN   \n\n   popularity  \n0          67  \n1          59  \n2          96  \n3          65  \n4          47  ",
      "text/html": "<div>\n<style scoped>\n    .dataframe tbody tr th:only-of-type {\n        vertical-align: middle;\n    }\n\n    .dataframe tbody tr th {\n        vertical-align: top;\n    }\n\n    .dataframe thead th {\n        text-align: right;\n    }\n</style>\n<table border=\"1\" class=\"dataframe\">\n  <thead>\n    <tr style=\"text-align: right;\">\n      <th></th>\n      <th>artist_names</th>\n      <th>artist_url</th>\n      <th>artist_id</th>\n      <th>track_names</th>\n      <th>track_url</th>\n      <th>track_id</th>\n      <th>popularity</th>\n    </tr>\n  </thead>\n  <tbody>\n    <tr>\n      <th>0</th>\n      <td>Sam Smith</td>\n      <td>{'spotify': 'https://open.spotify.com/artist/2...</td>\n      <td>2wY79sveU1sp5g7SokKOiI</td>\n      <td>Lay Me Down</td>\n      <td>{'spotify': 'https://open.spotify.com/track/74...</td>\n      <td>74sb4Gib0cL3TQeCjYF8vh</td>\n      <td>67</td>\n    </tr>\n    <tr>\n      <th>1</th>\n      <td>Doja Cat</td>\n      <td>{'spotify': 'https://open.spotify.com/artist/5...</td>\n      <td>5cj0lLjcoR7YOSnhnX0Po5</td>\n      <td>Kiss Me More (feat. Naomi Watanabe)</td>\n      <td>{'spotify': 'https://open.spotify.com/track/6X...</td>\n      <td>6XgBxK1v4li6dOI5to10Sz</td>\n      <td>59</td>\n    </tr>\n    <tr>\n      <th>2</th>\n      <td>Joji</td>\n      <td>{'spotify': 'https://open.spotify.com/artist/3...</td>\n      <td>3MZsBdqDrRTJihTHQrO6Dq</td>\n      <td>Glimpse of Us</td>\n      <td>{'spotify': 'https://open.spotify.com/track/6x...</td>\n      <td>6xGruZOHLs39ZbVccQTuPZ</td>\n      <td>96</td>\n    </tr>\n    <tr>\n      <th>3</th>\n      <td>Kendrick Lamar</td>\n      <td>{'spotify': 'https://open.spotify.com/artist/2...</td>\n      <td>2YZyLoL8N0Wb9xBt1NhZWg</td>\n      <td>The Heart Part 5</td>\n      <td>{'spotify': 'https://open.spotify.com/track/5q...</td>\n      <td>5qbhVL3vB7HwWvb0042B7y</td>\n      <td>65</td>\n    </tr>\n    <tr>\n      <th>4</th>\n      <td>Soft Lipa</td>\n      <td>{'spotify': 'https://open.spotify.com/artist/3...</td>\n      <td>3Xp3DA50zRP4TYOtNR7k1T</td>\n      <td>關於小熊</td>\n      <td>{'spotify': 'https://open.spotify.com/track/13...</td>\n      <td>13tJ9Mkj7cjXxrTjOh0LAN</td>\n      <td>47</td>\n    </tr>\n  </tbody>\n</table>\n</div>"
     },
     "execution_count": 17,
     "metadata": {},
     "output_type": "execute_result"
    }
   ],
   "source": [
    "df_tracklist.head() # check the dataframe"
   ],
   "metadata": {
    "collapsed": false,
    "pycharm": {
     "name": "#%%\n"
    }
   }
  },
  {
   "cell_type": "code",
   "execution_count": 18,
   "outputs": [],
   "source": [
    "# save the dataframe as csv file in local drive\n",
    "df_tracklist.to_csv('tracklist.csv',index = False)"
   ],
   "metadata": {
    "collapsed": false,
    "pycharm": {
     "name": "#%%\n"
    }
   }
  },
  {
   "cell_type": "markdown",
   "source": [
    "## Get artists_features data"
   ],
   "metadata": {
    "collapsed": false,
    "pycharm": {
     "name": "#%% md\n"
    }
   }
  },
  {
   "cell_type": "code",
   "execution_count": 19,
   "outputs": [],
   "source": [
    "# create empty lists of the data I need\n",
    "\n",
    "followers = []\n",
    "genres = []\n",
    "id = []\n",
    "artist_name = []\n",
    "artist_popularity = []\n",
    "artist_url = []\n",
    "\n",
    "# create a dictionary of the data I need\n",
    "artists_features_dic = {\n",
    "    'followers':followers,\n",
    "    'genres':genres,\n",
    "    'id':id,\n",
    "    'artist_name':artist_name,\n",
    "    'artist_popularity':artist_popularity,\n",
    "    'artist_url':artist_url\n",
    "}"
   ],
   "metadata": {
    "collapsed": false,
    "pycharm": {
     "name": "#%%\n"
    }
   }
  },
  {
   "cell_type": "code",
   "execution_count": 20,
   "outputs": [],
   "source": [
    "# created a function to get the data for artists features\n",
    "def get_artists_features(token,artist_id):\n",
    "    artists_features_endpoint = f'https://api.spotify.com/v1/artists/{artist_id}'\n",
    "    get_header = {\n",
    "        'Authorization': f'Bearer {token}',\n",
    "        'Content-Type': 'application/json',\n",
    "        'Accept': 'application/json'\n",
    "\n",
    "    }\n",
    "    r = requests.get(artists_features_endpoint, headers = get_header, )\n",
    "    artists_features_response = r.json()\n",
    "    return artists_features_response"
   ],
   "metadata": {
    "collapsed": false,
    "pycharm": {
     "name": "#%%\n"
    }
   }
  },
  {
   "cell_type": "code",
   "execution_count": 21,
   "outputs": [],
   "source": [
    "# create a empty list for the data I request\n",
    "artists_features = []\n",
    "token = access_token\n",
    "for artist_id in df_tracklist['artist_id']: # use for loop to get the artist's features of each artist who is in the tracklist\n",
    "    artists_features_list = get_artists_features(token, artist_id )\n",
    "    artists_features.append(artists_features_list) # append the features in the empty list"
   ],
   "metadata": {
    "collapsed": false,
    "pycharm": {
     "name": "#%%\n"
    }
   }
  },
  {
   "cell_type": "code",
   "execution_count": 22,
   "outputs": [
    {
     "data": {
      "text/plain": "[{'external_urls': {'spotify': 'https://open.spotify.com/artist/2wY79sveU1sp5g7SokKOiI'},\n  'followers': {'href': None, 'total': 20044493},\n  'genres': ['dance pop', 'pop', 'uk pop'],\n  'href': 'https://api.spotify.com/v1/artists/2wY79sveU1sp5g7SokKOiI',\n  'id': '2wY79sveU1sp5g7SokKOiI',\n  'images': [{'height': 640,\n    'url': 'https://i.scdn.co/image/ab6761610000e5eb7f9cb6cb3ac6f8a055153ced',\n    'width': 640},\n   {'height': 320,\n    'url': 'https://i.scdn.co/image/ab676161000051747f9cb6cb3ac6f8a055153ced',\n    'width': 320},\n   {'height': 160,\n    'url': 'https://i.scdn.co/image/ab6761610000f1787f9cb6cb3ac6f8a055153ced',\n    'width': 160}],\n  'name': 'Sam Smith',\n  'popularity': 82,\n  'type': 'artist',\n  'uri': 'spotify:artist:2wY79sveU1sp5g7SokKOiI'},\n {'external_urls': {'spotify': 'https://open.spotify.com/artist/5cj0lLjcoR7YOSnhnX0Po5'},\n  'followers': {'href': None, 'total': 21552164},\n  'genres': ['dance pop', 'pop'],\n  'href': 'https://api.spotify.com/v1/artists/5cj0lLjcoR7YOSnhnX0Po5',\n  'id': '5cj0lLjcoR7YOSnhnX0Po5',\n  'images': [{'height': 640,\n    'url': 'https://i.scdn.co/image/ab6761610000e5eb727a2ac15afe659be999beba',\n    'width': 640},\n   {'height': 320,\n    'url': 'https://i.scdn.co/image/ab67616100005174727a2ac15afe659be999beba',\n    'width': 320},\n   {'height': 160,\n    'url': 'https://i.scdn.co/image/ab6761610000f178727a2ac15afe659be999beba',\n    'width': 160}],\n  'name': 'Doja Cat',\n  'popularity': 88,\n  'type': 'artist',\n  'uri': 'spotify:artist:5cj0lLjcoR7YOSnhnX0Po5'},\n {'external_urls': {'spotify': 'https://open.spotify.com/artist/3MZsBdqDrRTJihTHQrO6Dq'},\n  'followers': {'href': None, 'total': 6828617},\n  'genres': ['viral pop'],\n  'href': 'https://api.spotify.com/v1/artists/3MZsBdqDrRTJihTHQrO6Dq',\n  'id': '3MZsBdqDrRTJihTHQrO6Dq',\n  'images': [{'height': 640,\n    'url': 'https://i.scdn.co/image/ab6761610000e5eb4111c95b5f430c3265c7304b',\n    'width': 640},\n   {'height': 320,\n    'url': 'https://i.scdn.co/image/ab676161000051744111c95b5f430c3265c7304b',\n    'width': 320},\n   {'height': 160,\n    'url': 'https://i.scdn.co/image/ab6761610000f1784111c95b5f430c3265c7304b',\n    'width': 160}],\n  'name': 'Joji',\n  'popularity': 85,\n  'type': 'artist',\n  'uri': 'spotify:artist:3MZsBdqDrRTJihTHQrO6Dq'},\n {'external_urls': {'spotify': 'https://open.spotify.com/artist/2YZyLoL8N0Wb9xBt1NhZWg'},\n  'followers': {'href': None, 'total': 21436080},\n  'genres': ['conscious hip hop', 'hip hop', 'rap', 'west coast rap'],\n  'href': 'https://api.spotify.com/v1/artists/2YZyLoL8N0Wb9xBt1NhZWg',\n  'id': '2YZyLoL8N0Wb9xBt1NhZWg',\n  'images': [{'height': 640,\n    'url': 'https://i.scdn.co/image/ab6761610000e5eb437b9e2a82505b3d93ff1022',\n    'width': 640},\n   {'height': 320,\n    'url': 'https://i.scdn.co/image/ab67616100005174437b9e2a82505b3d93ff1022',\n    'width': 320},\n   {'height': 160,\n    'url': 'https://i.scdn.co/image/ab6761610000f178437b9e2a82505b3d93ff1022',\n    'width': 160}],\n  'name': 'Kendrick Lamar',\n  'popularity': 88,\n  'type': 'artist',\n  'uri': 'spotify:artist:2YZyLoL8N0Wb9xBt1NhZWg'},\n {'external_urls': {'spotify': 'https://open.spotify.com/artist/3Xp3DA50zRP4TYOtNR7k1T'},\n  'followers': {'href': None, 'total': 110514},\n  'genres': ['chinese indie',\n   'mandopop',\n   'taiwan hip hop',\n   'taiwan pop',\n   'taiwan singer-songwriter'],\n  'href': 'https://api.spotify.com/v1/artists/3Xp3DA50zRP4TYOtNR7k1T',\n  'id': '3Xp3DA50zRP4TYOtNR7k1T',\n  'images': [{'height': 640,\n    'url': 'https://i.scdn.co/image/ab67616d0000b273002a9043bf1e4c11126e30c9',\n    'width': 640},\n   {'height': 300,\n    'url': 'https://i.scdn.co/image/ab67616d00001e02002a9043bf1e4c11126e30c9',\n    'width': 300},\n   {'height': 64,\n    'url': 'https://i.scdn.co/image/ab67616d00004851002a9043bf1e4c11126e30c9',\n    'width': 64}],\n  'name': 'Soft Lipa',\n  'popularity': 45,\n  'type': 'artist',\n  'uri': 'spotify:artist:3Xp3DA50zRP4TYOtNR7k1T'},\n {'external_urls': {'spotify': 'https://open.spotify.com/artist/164Uj4eKjl6zTBKfJLFKKK'},\n  'followers': {'href': None, 'total': 452543},\n  'genres': ['modern indie pop'],\n  'href': 'https://api.spotify.com/v1/artists/164Uj4eKjl6zTBKfJLFKKK',\n  'id': '164Uj4eKjl6zTBKfJLFKKK',\n  'images': [{'height': 640,\n    'url': 'https://i.scdn.co/image/ab6761610000e5eb9a72fa882a4f81aecd85d1fd',\n    'width': 640},\n   {'height': 320,\n    'url': 'https://i.scdn.co/image/ab676161000051749a72fa882a4f81aecd85d1fd',\n    'width': 320},\n   {'height': 160,\n    'url': 'https://i.scdn.co/image/ab6761610000f1789a72fa882a4f81aecd85d1fd',\n    'width': 160}],\n  'name': 'JVKE',\n  'popularity': 73,\n  'type': 'artist',\n  'uri': 'spotify:artist:164Uj4eKjl6zTBKfJLFKKK'},\n {'external_urls': {'spotify': 'https://open.spotify.com/artist/0Kekt6CKSo0m5mivKcoH51'},\n  'followers': {'href': None, 'total': 583103},\n  'genres': ['classical',\n   'post-romantic era',\n   'russian romanticism',\n   'ukrainian classical'],\n  'href': 'https://api.spotify.com/v1/artists/0Kekt6CKSo0m5mivKcoH51',\n  'id': '0Kekt6CKSo0m5mivKcoH51',\n  'images': [{'height': 1205,\n    'url': 'https://i.scdn.co/image/463e3c5c3e814761532f554913cf2af456bcba59',\n    'width': 1000},\n   {'height': 771,\n    'url': 'https://i.scdn.co/image/774dbc0919edd260d091aace2787caf4a8e59448',\n    'width': 640},\n   {'height': 241,\n    'url': 'https://i.scdn.co/image/fccf9d0d652d13bb34b1cd8a5f6aa37f839a2a27',\n    'width': 200},\n   {'height': 77,\n    'url': 'https://i.scdn.co/image/b8330117c874452738ae70abd12561af07c9867f',\n    'width': 64}],\n  'name': 'Sergei Rachmaninoff',\n  'popularity': 61,\n  'type': 'artist',\n  'uri': 'spotify:artist:0Kekt6CKSo0m5mivKcoH51'},\n {'external_urls': {'spotify': 'https://open.spotify.com/artist/2Tglaf8nvDzwSQnpSrjLHP'},\n  'followers': {'href': None, 'total': 1815789},\n  'genres': ['bedroom pop', 'dream pop'],\n  'href': 'https://api.spotify.com/v1/artists/2Tglaf8nvDzwSQnpSrjLHP',\n  'id': '2Tglaf8nvDzwSQnpSrjLHP',\n  'images': [{'height': 640,\n    'url': 'https://i.scdn.co/image/ab6761610000e5eb984c79f06c0890fdbc73e114',\n    'width': 640},\n   {'height': 320,\n    'url': 'https://i.scdn.co/image/ab67616100005174984c79f06c0890fdbc73e114',\n    'width': 320},\n   {'height': 160,\n    'url': 'https://i.scdn.co/image/ab6761610000f178984c79f06c0890fdbc73e114',\n    'width': 160}],\n  'name': 'Cuco',\n  'popularity': 70,\n  'type': 'artist',\n  'uri': 'spotify:artist:2Tglaf8nvDzwSQnpSrjLHP'},\n {'external_urls': {'spotify': 'https://open.spotify.com/artist/3jNm5wvIx1eR5NDdXhMkNV'},\n  'followers': {'href': None, 'total': 45250},\n  'genres': ['uk dance'],\n  'href': 'https://api.spotify.com/v1/artists/3jNm5wvIx1eR5NDdXhMkNV',\n  'id': '3jNm5wvIx1eR5NDdXhMkNV',\n  'images': [{'height': 640,\n    'url': 'https://i.scdn.co/image/ab6761610000e5ebaddf92359984c28595848441',\n    'width': 640},\n   {'height': 320,\n    'url': 'https://i.scdn.co/image/ab67616100005174addf92359984c28595848441',\n    'width': 320},\n   {'height': 160,\n    'url': 'https://i.scdn.co/image/ab6761610000f178addf92359984c28595848441',\n    'width': 160}],\n  'name': 'Duke & Jones',\n  'popularity': 63,\n  'type': 'artist',\n  'uri': 'spotify:artist:3jNm5wvIx1eR5NDdXhMkNV'},\n {'external_urls': {'spotify': 'https://open.spotify.com/artist/73sIBHcqh3Z3NyqHKZ7FOL'},\n  'followers': {'href': None, 'total': 9812313},\n  'genres': ['atl hip hop', 'hip hop', 'rap'],\n  'href': 'https://api.spotify.com/v1/artists/73sIBHcqh3Z3NyqHKZ7FOL',\n  'id': '73sIBHcqh3Z3NyqHKZ7FOL',\n  'images': [{'height': 640,\n    'url': 'https://i.scdn.co/image/ab6761610000e5eb3ef779aa0d271adb2b6a3ded',\n    'width': 640},\n   {'height': 320,\n    'url': 'https://i.scdn.co/image/ab676161000051743ef779aa0d271adb2b6a3ded',\n    'width': 320},\n   {'height': 160,\n    'url': 'https://i.scdn.co/image/ab6761610000f1783ef779aa0d271adb2b6a3ded',\n    'width': 160}],\n  'name': 'Childish Gambino',\n  'popularity': 78,\n  'type': 'artist',\n  'uri': 'spotify:artist:73sIBHcqh3Z3NyqHKZ7FOL'},\n {'external_urls': {'spotify': 'https://open.spotify.com/artist/2YZyLoL8N0Wb9xBt1NhZWg'},\n  'followers': {'href': None, 'total': 21436080},\n  'genres': ['conscious hip hop', 'hip hop', 'rap', 'west coast rap'],\n  'href': 'https://api.spotify.com/v1/artists/2YZyLoL8N0Wb9xBt1NhZWg',\n  'id': '2YZyLoL8N0Wb9xBt1NhZWg',\n  'images': [{'height': 640,\n    'url': 'https://i.scdn.co/image/ab6761610000e5eb437b9e2a82505b3d93ff1022',\n    'width': 640},\n   {'height': 320,\n    'url': 'https://i.scdn.co/image/ab67616100005174437b9e2a82505b3d93ff1022',\n    'width': 320},\n   {'height': 160,\n    'url': 'https://i.scdn.co/image/ab6761610000f178437b9e2a82505b3d93ff1022',\n    'width': 160}],\n  'name': 'Kendrick Lamar',\n  'popularity': 88,\n  'type': 'artist',\n  'uri': 'spotify:artist:2YZyLoL8N0Wb9xBt1NhZWg'},\n {'external_urls': {'spotify': 'https://open.spotify.com/artist/2YZyLoL8N0Wb9xBt1NhZWg'},\n  'followers': {'href': None, 'total': 21436080},\n  'genres': ['conscious hip hop', 'hip hop', 'rap', 'west coast rap'],\n  'href': 'https://api.spotify.com/v1/artists/2YZyLoL8N0Wb9xBt1NhZWg',\n  'id': '2YZyLoL8N0Wb9xBt1NhZWg',\n  'images': [{'height': 640,\n    'url': 'https://i.scdn.co/image/ab6761610000e5eb437b9e2a82505b3d93ff1022',\n    'width': 640},\n   {'height': 320,\n    'url': 'https://i.scdn.co/image/ab67616100005174437b9e2a82505b3d93ff1022',\n    'width': 320},\n   {'height': 160,\n    'url': 'https://i.scdn.co/image/ab6761610000f178437b9e2a82505b3d93ff1022',\n    'width': 160}],\n  'name': 'Kendrick Lamar',\n  'popularity': 88,\n  'type': 'artist',\n  'uri': 'spotify:artist:2YZyLoL8N0Wb9xBt1NhZWg'},\n {'external_urls': {'spotify': 'https://open.spotify.com/artist/2tAqnHDAgnGtjnlzyoa38L'},\n  'followers': {'href': None, 'total': 222878},\n  'genres': ['alternative r&b',\n   'indie r&b',\n   'indie soul',\n   'r&b',\n   'uk contemporary r&b'],\n  'href': 'https://api.spotify.com/v1/artists/2tAqnHDAgnGtjnlzyoa38L',\n  'id': '2tAqnHDAgnGtjnlzyoa38L',\n  'images': [{'height': 640,\n    'url': 'https://i.scdn.co/image/ab6761610000e5ebd281f519d1fd9fe83a021715',\n    'width': 640},\n   {'height': 320,\n    'url': 'https://i.scdn.co/image/ab67616100005174d281f519d1fd9fe83a021715',\n    'width': 320},\n   {'height': 160,\n    'url': 'https://i.scdn.co/image/ab6761610000f178d281f519d1fd9fe83a021715',\n    'width': 160}],\n  'name': 'Ama Lou',\n  'popularity': 49,\n  'type': 'artist',\n  'uri': 'spotify:artist:2tAqnHDAgnGtjnlzyoa38L'},\n {'external_urls': {'spotify': 'https://open.spotify.com/artist/4fxd5Ee7UefO4CUXgwJ7IP'},\n  'followers': {'href': None, 'total': 2419343},\n  'genres': ['pop', 'r&b'],\n  'href': 'https://api.spotify.com/v1/artists/4fxd5Ee7UefO4CUXgwJ7IP',\n  'id': '4fxd5Ee7UefO4CUXgwJ7IP',\n  'images': [{'height': 640,\n    'url': 'https://i.scdn.co/image/ab6761610000e5eb2c0b7791c1b134d65b587e26',\n    'width': 640},\n   {'height': 320,\n    'url': 'https://i.scdn.co/image/ab676161000051742c0b7791c1b134d65b587e26',\n    'width': 320},\n   {'height': 160,\n    'url': 'https://i.scdn.co/image/ab6761610000f1782c0b7791c1b134d65b587e26',\n    'width': 160}],\n  'name': 'Giveon',\n  'popularity': 80,\n  'type': 'artist',\n  'uri': 'spotify:artist:4fxd5Ee7UefO4CUXgwJ7IP'},\n {'external_urls': {'spotify': 'https://open.spotify.com/artist/1uNFoZAHBGtllmzznpCI3s'},\n  'followers': {'href': None, 'total': 65019060},\n  'genres': ['canadian pop', 'pop'],\n  'href': 'https://api.spotify.com/v1/artists/1uNFoZAHBGtllmzznpCI3s',\n  'id': '1uNFoZAHBGtllmzznpCI3s',\n  'images': [{'height': 640,\n    'url': 'https://i.scdn.co/image/ab6761610000e5eb8ae7f2aaa9817a704a87ea36',\n    'width': 640},\n   {'height': 320,\n    'url': 'https://i.scdn.co/image/ab676161000051748ae7f2aaa9817a704a87ea36',\n    'width': 320},\n   {'height': 160,\n    'url': 'https://i.scdn.co/image/ab6761610000f1788ae7f2aaa9817a704a87ea36',\n    'width': 160}],\n  'name': 'Justin Bieber',\n  'popularity': 90,\n  'type': 'artist',\n  'uri': 'spotify:artist:1uNFoZAHBGtllmzznpCI3s'},\n {'external_urls': {'spotify': 'https://open.spotify.com/artist/0eRbECAGCLLiTyVXPBRexU'},\n  'followers': {'href': None, 'total': 288540},\n  'genres': ['new orleans jazz'],\n  'href': 'https://api.spotify.com/v1/artists/0eRbECAGCLLiTyVXPBRexU',\n  'id': '0eRbECAGCLLiTyVXPBRexU',\n  'images': [{'height': 640,\n    'url': 'https://i.scdn.co/image/ab6761610000e5eb1198217b59542375be5548f1',\n    'width': 640},\n   {'height': 320,\n    'url': 'https://i.scdn.co/image/ab676161000051741198217b59542375be5548f1',\n    'width': 320},\n   {'height': 160,\n    'url': 'https://i.scdn.co/image/ab6761610000f1781198217b59542375be5548f1',\n    'width': 160}],\n  'name': 'Jon Batiste',\n  'popularity': 57,\n  'type': 'artist',\n  'uri': 'spotify:artist:0eRbECAGCLLiTyVXPBRexU'},\n {'external_urls': {'spotify': 'https://open.spotify.com/artist/2dd5mrQZvg6SmahdgVKDzh'},\n  'followers': {'href': None, 'total': 1482241},\n  'genres': ['k-pop', 'k-rap', 'korean old school hip hop'],\n  'href': 'https://api.spotify.com/v1/artists/2dd5mrQZvg6SmahdgVKDzh',\n  'id': '2dd5mrQZvg6SmahdgVKDzh',\n  'images': [{'height': 640,\n    'url': 'https://i.scdn.co/image/ab6761610000e5eb24b5185226d5b7c6aa91db5a',\n    'width': 640},\n   {'height': 320,\n    'url': 'https://i.scdn.co/image/ab6761610000517424b5185226d5b7c6aa91db5a',\n    'width': 320},\n   {'height': 160,\n    'url': 'https://i.scdn.co/image/ab6761610000f17824b5185226d5b7c6aa91db5a',\n    'width': 160}],\n  'name': 'PSY',\n  'popularity': 67,\n  'type': 'artist',\n  'uri': 'spotify:artist:2dd5mrQZvg6SmahdgVKDzh'},\n {'external_urls': {'spotify': 'https://open.spotify.com/artist/2dd5mrQZvg6SmahdgVKDzh'},\n  'followers': {'href': None, 'total': 1482241},\n  'genres': ['k-pop', 'k-rap', 'korean old school hip hop'],\n  'href': 'https://api.spotify.com/v1/artists/2dd5mrQZvg6SmahdgVKDzh',\n  'id': '2dd5mrQZvg6SmahdgVKDzh',\n  'images': [{'height': 640,\n    'url': 'https://i.scdn.co/image/ab6761610000e5eb24b5185226d5b7c6aa91db5a',\n    'width': 640},\n   {'height': 320,\n    'url': 'https://i.scdn.co/image/ab6761610000517424b5185226d5b7c6aa91db5a',\n    'width': 320},\n   {'height': 160,\n    'url': 'https://i.scdn.co/image/ab6761610000f17824b5185226d5b7c6aa91db5a',\n    'width': 160}],\n  'name': 'PSY',\n  'popularity': 67,\n  'type': 'artist',\n  'uri': 'spotify:artist:2dd5mrQZvg6SmahdgVKDzh'},\n {'external_urls': {'spotify': 'https://open.spotify.com/artist/2dd5mrQZvg6SmahdgVKDzh'},\n  'followers': {'href': None, 'total': 1482241},\n  'genres': ['k-pop', 'k-rap', 'korean old school hip hop'],\n  'href': 'https://api.spotify.com/v1/artists/2dd5mrQZvg6SmahdgVKDzh',\n  'id': '2dd5mrQZvg6SmahdgVKDzh',\n  'images': [{'height': 640,\n    'url': 'https://i.scdn.co/image/ab6761610000e5eb24b5185226d5b7c6aa91db5a',\n    'width': 640},\n   {'height': 320,\n    'url': 'https://i.scdn.co/image/ab6761610000517424b5185226d5b7c6aa91db5a',\n    'width': 320},\n   {'height': 160,\n    'url': 'https://i.scdn.co/image/ab6761610000f17824b5185226d5b7c6aa91db5a',\n    'width': 160}],\n  'name': 'PSY',\n  'popularity': 67,\n  'type': 'artist',\n  'uri': 'spotify:artist:2dd5mrQZvg6SmahdgVKDzh'},\n {'external_urls': {'spotify': 'https://open.spotify.com/artist/2dd5mrQZvg6SmahdgVKDzh'},\n  'followers': {'href': None, 'total': 1482241},\n  'genres': ['k-pop', 'k-rap', 'korean old school hip hop'],\n  'href': 'https://api.spotify.com/v1/artists/2dd5mrQZvg6SmahdgVKDzh',\n  'id': '2dd5mrQZvg6SmahdgVKDzh',\n  'images': [{'height': 640,\n    'url': 'https://i.scdn.co/image/ab6761610000e5eb24b5185226d5b7c6aa91db5a',\n    'width': 640},\n   {'height': 320,\n    'url': 'https://i.scdn.co/image/ab6761610000517424b5185226d5b7c6aa91db5a',\n    'width': 320},\n   {'height': 160,\n    'url': 'https://i.scdn.co/image/ab6761610000f17824b5185226d5b7c6aa91db5a',\n    'width': 160}],\n  'name': 'PSY',\n  'popularity': 67,\n  'type': 'artist',\n  'uri': 'spotify:artist:2dd5mrQZvg6SmahdgVKDzh'},\n {'external_urls': {'spotify': 'https://open.spotify.com/artist/2dd5mrQZvg6SmahdgVKDzh'},\n  'followers': {'href': None, 'total': 1482241},\n  'genres': ['k-pop', 'k-rap', 'korean old school hip hop'],\n  'href': 'https://api.spotify.com/v1/artists/2dd5mrQZvg6SmahdgVKDzh',\n  'id': '2dd5mrQZvg6SmahdgVKDzh',\n  'images': [{'height': 640,\n    'url': 'https://i.scdn.co/image/ab6761610000e5eb24b5185226d5b7c6aa91db5a',\n    'width': 640},\n   {'height': 320,\n    'url': 'https://i.scdn.co/image/ab6761610000517424b5185226d5b7c6aa91db5a',\n    'width': 320},\n   {'height': 160,\n    'url': 'https://i.scdn.co/image/ab6761610000f17824b5185226d5b7c6aa91db5a',\n    'width': 160}],\n  'name': 'PSY',\n  'popularity': 67,\n  'type': 'artist',\n  'uri': 'spotify:artist:2dd5mrQZvg6SmahdgVKDzh'},\n {'external_urls': {'spotify': 'https://open.spotify.com/artist/6KImCVD70vtIoJWnq6nGn3'},\n  'followers': {'href': None, 'total': 22969654},\n  'genres': ['pop'],\n  'href': 'https://api.spotify.com/v1/artists/6KImCVD70vtIoJWnq6nGn3',\n  'id': '6KImCVD70vtIoJWnq6nGn3',\n  'images': [{'height': 640,\n    'url': 'https://i.scdn.co/image/ab6761610000e5ebf7db7c8ede90a019c54590bb',\n    'width': 640},\n   {'height': 320,\n    'url': 'https://i.scdn.co/image/ab67616100005174f7db7c8ede90a019c54590bb',\n    'width': 320},\n   {'height': 160,\n    'url': 'https://i.scdn.co/image/ab6761610000f178f7db7c8ede90a019c54590bb',\n    'width': 160}],\n  'name': 'Harry Styles',\n  'popularity': 91,\n  'type': 'artist',\n  'uri': 'spotify:artist:6KImCVD70vtIoJWnq6nGn3'},\n {'external_urls': {'spotify': 'https://open.spotify.com/artist/0Kekt6CKSo0m5mivKcoH51'},\n  'followers': {'href': None, 'total': 583103},\n  'genres': ['classical',\n   'post-romantic era',\n   'russian romanticism',\n   'ukrainian classical'],\n  'href': 'https://api.spotify.com/v1/artists/0Kekt6CKSo0m5mivKcoH51',\n  'id': '0Kekt6CKSo0m5mivKcoH51',\n  'images': [{'height': 1205,\n    'url': 'https://i.scdn.co/image/463e3c5c3e814761532f554913cf2af456bcba59',\n    'width': 1000},\n   {'height': 771,\n    'url': 'https://i.scdn.co/image/774dbc0919edd260d091aace2787caf4a8e59448',\n    'width': 640},\n   {'height': 241,\n    'url': 'https://i.scdn.co/image/fccf9d0d652d13bb34b1cd8a5f6aa37f839a2a27',\n    'width': 200},\n   {'height': 77,\n    'url': 'https://i.scdn.co/image/b8330117c874452738ae70abd12561af07c9867f',\n    'width': 64}],\n  'name': 'Sergei Rachmaninoff',\n  'popularity': 61,\n  'type': 'artist',\n  'uri': 'spotify:artist:0Kekt6CKSo0m5mivKcoH51'},\n {'external_urls': {'spotify': 'https://open.spotify.com/artist/6l3HvQ5sa6mXTsMTB19rO5'},\n  'followers': {'href': None, 'total': 17738789},\n  'genres': ['conscious hip hop', 'hip hop', 'north carolina hip hop', 'rap'],\n  'href': 'https://api.spotify.com/v1/artists/6l3HvQ5sa6mXTsMTB19rO5',\n  'id': '6l3HvQ5sa6mXTsMTB19rO5',\n  'images': [{'height': 640,\n    'url': 'https://i.scdn.co/image/ab6761610000e5ebadd503b411a712e277895c8a',\n    'width': 640},\n   {'height': 320,\n    'url': 'https://i.scdn.co/image/ab67616100005174add503b411a712e277895c8a',\n    'width': 320},\n   {'height': 160,\n    'url': 'https://i.scdn.co/image/ab6761610000f178add503b411a712e277895c8a',\n    'width': 160}],\n  'name': 'J. Cole',\n  'popularity': 85,\n  'type': 'artist',\n  'uri': 'spotify:artist:6l3HvQ5sa6mXTsMTB19rO5'},\n {'external_urls': {'spotify': 'https://open.spotify.com/artist/07YZf4WDAMNwqr4jfgOZ8y'},\n  'followers': {'href': None, 'total': 11496804},\n  'genres': ['dance pop', 'pop', 'pop rap', 'post-teen pop'],\n  'href': 'https://api.spotify.com/v1/artists/07YZf4WDAMNwqr4jfgOZ8y',\n  'id': '07YZf4WDAMNwqr4jfgOZ8y',\n  'images': [{'height': 640,\n    'url': 'https://i.scdn.co/image/ab6761610000e5eb654972693e0efed3f3f4d090',\n    'width': 640},\n   {'height': 320,\n    'url': 'https://i.scdn.co/image/ab67616100005174654972693e0efed3f3f4d090',\n    'width': 320},\n   {'height': 160,\n    'url': 'https://i.scdn.co/image/ab6761610000f178654972693e0efed3f3f4d090',\n    'width': 160}],\n  'name': 'Jason Derulo',\n  'popularity': 80,\n  'type': 'artist',\n  'uri': 'spotify:artist:07YZf4WDAMNwqr4jfgOZ8y'},\n {'external_urls': {'spotify': 'https://open.spotify.com/artist/4GvOygVQquMaPm8oAc0vXi'},\n  'followers': {'href': None, 'total': 418790},\n  'genres': ['birmingham hip hop', 'grime', 'uk garage'],\n  'href': 'https://api.spotify.com/v1/artists/4GvOygVQquMaPm8oAc0vXi',\n  'id': '4GvOygVQquMaPm8oAc0vXi',\n  'images': [{'height': 640,\n    'url': 'https://i.scdn.co/image/ab6761610000e5eb0a36c8ecc5b923a02c185345',\n    'width': 640},\n   {'height': 320,\n    'url': 'https://i.scdn.co/image/ab676161000051740a36c8ecc5b923a02c185345',\n    'width': 320},\n   {'height': 160,\n    'url': 'https://i.scdn.co/image/ab6761610000f1780a36c8ecc5b923a02c185345',\n    'width': 160}],\n  'name': 'The Streets',\n  'popularity': 56,\n  'type': 'artist',\n  'uri': 'spotify:artist:4GvOygVQquMaPm8oAc0vXi'},\n {'external_urls': {'spotify': 'https://open.spotify.com/artist/63XBtGSEZINSyXylZxEUbv'},\n  'followers': {'href': None, 'total': 575176},\n  'genres': ['alternative r&b',\n   'dance pop',\n   'indie r&b',\n   'pop',\n   'post-teen pop',\n   'r&b'],\n  'href': 'https://api.spotify.com/v1/artists/63XBtGSEZINSyXylZxEUbv',\n  'id': '63XBtGSEZINSyXylZxEUbv',\n  'images': [{'height': 640,\n    'url': 'https://i.scdn.co/image/ab6761610000e5eb971c717691df845ab7365740',\n    'width': 640},\n   {'height': 320,\n    'url': 'https://i.scdn.co/image/ab67616100005174971c717691df845ab7365740',\n    'width': 320},\n   {'height': 160,\n    'url': 'https://i.scdn.co/image/ab6761610000f178971c717691df845ab7365740',\n    'width': 160}],\n  'name': 'Victoria Monét',\n  'popularity': 61,\n  'type': 'artist',\n  'uri': 'spotify:artist:63XBtGSEZINSyXylZxEUbv'},\n {'external_urls': {'spotify': 'https://open.spotify.com/artist/5cj0lLjcoR7YOSnhnX0Po5'},\n  'followers': {'href': None, 'total': 21552163},\n  'genres': ['dance pop', 'pop'],\n  'href': 'https://api.spotify.com/v1/artists/5cj0lLjcoR7YOSnhnX0Po5',\n  'id': '5cj0lLjcoR7YOSnhnX0Po5',\n  'images': [{'height': 640,\n    'url': 'https://i.scdn.co/image/ab6761610000e5eb727a2ac15afe659be999beba',\n    'width': 640},\n   {'height': 320,\n    'url': 'https://i.scdn.co/image/ab67616100005174727a2ac15afe659be999beba',\n    'width': 320},\n   {'height': 160,\n    'url': 'https://i.scdn.co/image/ab6761610000f178727a2ac15afe659be999beba',\n    'width': 160}],\n  'name': 'Doja Cat',\n  'popularity': 88,\n  'type': 'artist',\n  'uri': 'spotify:artist:5cj0lLjcoR7YOSnhnX0Po5'},\n {'external_urls': {'spotify': 'https://open.spotify.com/artist/7tYKF4w9nC0nq9CsPZTHyP'},\n  'followers': {'href': None, 'total': 8301002},\n  'genres': ['pop', 'r&b'],\n  'href': 'https://api.spotify.com/v1/artists/7tYKF4w9nC0nq9CsPZTHyP',\n  'id': '7tYKF4w9nC0nq9CsPZTHyP',\n  'images': [{'height': 640,\n    'url': 'https://i.scdn.co/image/ab6761610000e5eb529f2198b3e9e77c0d5a665b',\n    'width': 640},\n   {'height': 320,\n    'url': 'https://i.scdn.co/image/ab67616100005174529f2198b3e9e77c0d5a665b',\n    'width': 320},\n   {'height': 160,\n    'url': 'https://i.scdn.co/image/ab6761610000f178529f2198b3e9e77c0d5a665b',\n    'width': 160}],\n  'name': 'SZA',\n  'popularity': 82,\n  'type': 'artist',\n  'uri': 'spotify:artist:7tYKF4w9nC0nq9CsPZTHyP'},\n {'external_urls': {'spotify': 'https://open.spotify.com/artist/7tYKF4w9nC0nq9CsPZTHyP'},\n  'followers': {'href': None, 'total': 8301002},\n  'genres': ['pop', 'r&b'],\n  'href': 'https://api.spotify.com/v1/artists/7tYKF4w9nC0nq9CsPZTHyP',\n  'id': '7tYKF4w9nC0nq9CsPZTHyP',\n  'images': [{'height': 640,\n    'url': 'https://i.scdn.co/image/ab6761610000e5eb529f2198b3e9e77c0d5a665b',\n    'width': 640},\n   {'height': 320,\n    'url': 'https://i.scdn.co/image/ab67616100005174529f2198b3e9e77c0d5a665b',\n    'width': 320},\n   {'height': 160,\n    'url': 'https://i.scdn.co/image/ab6761610000f178529f2198b3e9e77c0d5a665b',\n    'width': 160}],\n  'name': 'SZA',\n  'popularity': 82,\n  'type': 'artist',\n  'uri': 'spotify:artist:7tYKF4w9nC0nq9CsPZTHyP'},\n {'external_urls': {'spotify': 'https://open.spotify.com/artist/40tNK2YedBV2jRFAHxpifB'},\n  'followers': {'href': None, 'total': 296195},\n  'genres': ['c-pop',\n   'chinese r&b',\n   'mandopop',\n   'taiwan pop',\n   'taiwan singer-songwriter'],\n  'href': 'https://api.spotify.com/v1/artists/40tNK2YedBV2jRFAHxpifB',\n  'id': '40tNK2YedBV2jRFAHxpifB',\n  'images': [{'height': 640,\n    'url': 'https://i.scdn.co/image/ab67616d0000b2737c20fb440980c4f2f24346c5',\n    'width': 640},\n   {'height': 300,\n    'url': 'https://i.scdn.co/image/ab67616d00001e027c20fb440980c4f2f24346c5',\n    'width': 300},\n   {'height': 64,\n    'url': 'https://i.scdn.co/image/ab67616d000048517c20fb440980c4f2f24346c5',\n    'width': 64}],\n  'name': 'David Tao',\n  'popularity': 52,\n  'type': 'artist',\n  'uri': 'spotify:artist:40tNK2YedBV2jRFAHxpifB'},\n {'external_urls': {'spotify': 'https://open.spotify.com/artist/2UqjDAXnDxejEyE0CzfUrZ'},\n  'followers': {'href': None, 'total': 497951},\n  'genres': ['classical', 'early romantic era', 'german romanticism'],\n  'href': 'https://api.spotify.com/v1/artists/2UqjDAXnDxejEyE0CzfUrZ',\n  'id': '2UqjDAXnDxejEyE0CzfUrZ',\n  'images': [{'height': 1106,\n    'url': 'https://i.scdn.co/image/795f15e4d860456a306055ccc995075c5dad9fa6',\n    'width': 1000},\n   {'height': 708,\n    'url': 'https://i.scdn.co/image/55c5a95549820a9d19f02c31e16e79fa9f2bc3dd',\n    'width': 640},\n   {'height': 221,\n    'url': 'https://i.scdn.co/image/f6e54b847e866ea410cfa19af2e270e6fe414df0',\n    'width': 200},\n   {'height': 71,\n    'url': 'https://i.scdn.co/image/4ed99d3b6ed0913e5ef534e28d4363826bd85f38',\n    'width': 64}],\n  'name': 'Robert Schumann',\n  'popularity': 61,\n  'type': 'artist',\n  'uri': 'spotify:artist:2UqjDAXnDxejEyE0CzfUrZ'},\n {'external_urls': {'spotify': 'https://open.spotify.com/artist/0fyaEHmSmZs2YWMgbruITA'},\n  'followers': {'href': None, 'total': 39262},\n  'genres': ['chinese hip hop'],\n  'href': 'https://api.spotify.com/v1/artists/0fyaEHmSmZs2YWMgbruITA',\n  'id': '0fyaEHmSmZs2YWMgbruITA',\n  'images': [{'height': 640,\n    'url': 'https://i.scdn.co/image/ab6761610000e5ebfe03d4a0474f6228aa231c56',\n    'width': 640},\n   {'height': 320,\n    'url': 'https://i.scdn.co/image/ab67616100005174fe03d4a0474f6228aa231c56',\n    'width': 320},\n   {'height': 160,\n    'url': 'https://i.scdn.co/image/ab6761610000f178fe03d4a0474f6228aa231c56',\n    'width': 160}],\n  'name': 'Masiwei',\n  'popularity': 44,\n  'type': 'artist',\n  'uri': 'spotify:artist:0fyaEHmSmZs2YWMgbruITA'},\n {'external_urls': {'spotify': 'https://open.spotify.com/artist/0fyaEHmSmZs2YWMgbruITA'},\n  'followers': {'href': None, 'total': 39262},\n  'genres': ['chinese hip hop'],\n  'href': 'https://api.spotify.com/v1/artists/0fyaEHmSmZs2YWMgbruITA',\n  'id': '0fyaEHmSmZs2YWMgbruITA',\n  'images': [{'height': 640,\n    'url': 'https://i.scdn.co/image/ab6761610000e5ebfe03d4a0474f6228aa231c56',\n    'width': 640},\n   {'height': 320,\n    'url': 'https://i.scdn.co/image/ab67616100005174fe03d4a0474f6228aa231c56',\n    'width': 320},\n   {'height': 160,\n    'url': 'https://i.scdn.co/image/ab6761610000f178fe03d4a0474f6228aa231c56',\n    'width': 160}],\n  'name': 'Masiwei',\n  'popularity': 44,\n  'type': 'artist',\n  'uri': 'spotify:artist:0fyaEHmSmZs2YWMgbruITA'},\n {'external_urls': {'spotify': 'https://open.spotify.com/artist/7352aRY2mqSxBZwzUb6LmA'},\n  'followers': {'href': None, 'total': 1186375},\n  'genres': ['dance pop',\n   'hip hop',\n   'hip pop',\n   'pop rap',\n   'r&b',\n   'rap',\n   'southern hip hop',\n   'urban contemporary'],\n  'href': 'https://api.spotify.com/v1/artists/7352aRY2mqSxBZwzUb6LmA',\n  'id': '7352aRY2mqSxBZwzUb6LmA',\n  'images': [{'height': 1500,\n    'url': 'https://i.scdn.co/image/f67a804bc8323d2b5bf616926561a072649f15e4',\n    'width': 1000},\n   {'height': 960,\n    'url': 'https://i.scdn.co/image/d37c3c8cec7b1d0440d1d1cadafc27843abc632f',\n    'width': 640},\n   {'height': 300,\n    'url': 'https://i.scdn.co/image/2710d85618fb6df29f2cd1d64e38d65cfe33800b',\n    'width': 200},\n   {'height': 96,\n    'url': 'https://i.scdn.co/image/c7395d3da5037bb7f94bd01a8dfcac4b0e12d1ff',\n    'width': 64}],\n  'name': 'Bow Wow',\n  'popularity': 60,\n  'type': 'artist',\n  'uri': 'spotify:artist:7352aRY2mqSxBZwzUb6LmA'},\n {'external_urls': {'spotify': 'https://open.spotify.com/artist/74CcYmmNeHKe5PrZaISk8e'},\n  'followers': {'href': None, 'total': 126572},\n  'genres': ['alternative r&b', 'chill r&b', 'indie r&b', 'indie soul'],\n  'href': 'https://api.spotify.com/v1/artists/74CcYmmNeHKe5PrZaISk8e',\n  'id': '74CcYmmNeHKe5PrZaISk8e',\n  'images': [{'height': 640,\n    'url': 'https://i.scdn.co/image/ab6761610000e5eb855cf7d321173f8c021f8b1c',\n    'width': 640},\n   {'height': 320,\n    'url': 'https://i.scdn.co/image/ab67616100005174855cf7d321173f8c021f8b1c',\n    'width': 320},\n   {'height': 160,\n    'url': 'https://i.scdn.co/image/ab6761610000f178855cf7d321173f8c021f8b1c',\n    'width': 160}],\n  'name': 'Hope Tala',\n  'popularity': 54,\n  'type': 'artist',\n  'uri': 'spotify:artist:74CcYmmNeHKe5PrZaISk8e'},\n {'external_urls': {'spotify': 'https://open.spotify.com/artist/74CcYmmNeHKe5PrZaISk8e'},\n  'followers': {'href': None, 'total': 126572},\n  'genres': ['alternative r&b', 'chill r&b', 'indie r&b', 'indie soul'],\n  'href': 'https://api.spotify.com/v1/artists/74CcYmmNeHKe5PrZaISk8e',\n  'id': '74CcYmmNeHKe5PrZaISk8e',\n  'images': [{'height': 640,\n    'url': 'https://i.scdn.co/image/ab6761610000e5eb855cf7d321173f8c021f8b1c',\n    'width': 640},\n   {'height': 320,\n    'url': 'https://i.scdn.co/image/ab67616100005174855cf7d321173f8c021f8b1c',\n    'width': 320},\n   {'height': 160,\n    'url': 'https://i.scdn.co/image/ab6761610000f178855cf7d321173f8c021f8b1c',\n    'width': 160}],\n  'name': 'Hope Tala',\n  'popularity': 54,\n  'type': 'artist',\n  'uri': 'spotify:artist:74CcYmmNeHKe5PrZaISk8e'},\n {'external_urls': {'spotify': 'https://open.spotify.com/artist/74CcYmmNeHKe5PrZaISk8e'},\n  'followers': {'href': None, 'total': 126572},\n  'genres': ['alternative r&b', 'chill r&b', 'indie r&b', 'indie soul'],\n  'href': 'https://api.spotify.com/v1/artists/74CcYmmNeHKe5PrZaISk8e',\n  'id': '74CcYmmNeHKe5PrZaISk8e',\n  'images': [{'height': 640,\n    'url': 'https://i.scdn.co/image/ab6761610000e5eb855cf7d321173f8c021f8b1c',\n    'width': 640},\n   {'height': 320,\n    'url': 'https://i.scdn.co/image/ab67616100005174855cf7d321173f8c021f8b1c',\n    'width': 320},\n   {'height': 160,\n    'url': 'https://i.scdn.co/image/ab6761610000f178855cf7d321173f8c021f8b1c',\n    'width': 160}],\n  'name': 'Hope Tala',\n  'popularity': 54,\n  'type': 'artist',\n  'uri': 'spotify:artist:74CcYmmNeHKe5PrZaISk8e'},\n {'external_urls': {'spotify': 'https://open.spotify.com/artist/0rTP0x4vRFSDbhtqcCqc8K'},\n  'followers': {'href': None, 'total': 523849},\n  'genres': ['chinese singer-songwriter', 'mainland chinese pop', 'mandopop'],\n  'href': 'https://api.spotify.com/v1/artists/0rTP0x4vRFSDbhtqcCqc8K',\n  'id': '0rTP0x4vRFSDbhtqcCqc8K',\n  'images': [{'height': 640,\n    'url': 'https://i.scdn.co/image/ab6761610000e5eb1ba162cda3aac049822a8850',\n    'width': 640},\n   {'height': 320,\n    'url': 'https://i.scdn.co/image/ab676161000051741ba162cda3aac049822a8850',\n    'width': 320},\n   {'height': 160,\n    'url': 'https://i.scdn.co/image/ab6761610000f1781ba162cda3aac049822a8850',\n    'width': 160}],\n  'name': 'Ronghao Li',\n  'popularity': 56,\n  'type': 'artist',\n  'uri': 'spotify:artist:0rTP0x4vRFSDbhtqcCqc8K'},\n {'external_urls': {'spotify': 'https://open.spotify.com/artist/1jdSKlrCsJ5qLsT7YuOiwM'},\n  'followers': {'href': None, 'total': 1345},\n  'genres': ['k-indie'],\n  'href': 'https://api.spotify.com/v1/artists/1jdSKlrCsJ5qLsT7YuOiwM',\n  'id': '1jdSKlrCsJ5qLsT7YuOiwM',\n  'images': [{'height': 640,\n    'url': 'https://i.scdn.co/image/ab67616d0000b2731a5795caaebd046a8ebd2b72',\n    'width': 640},\n   {'height': 300,\n    'url': 'https://i.scdn.co/image/ab67616d00001e021a5795caaebd046a8ebd2b72',\n    'width': 300},\n   {'height': 64,\n    'url': 'https://i.scdn.co/image/ab67616d000048511a5795caaebd046a8ebd2b72',\n    'width': 64}],\n  'name': 'deulrejang',\n  'popularity': 29,\n  'type': 'artist',\n  'uri': 'spotify:artist:1jdSKlrCsJ5qLsT7YuOiwM'},\n {'external_urls': {'spotify': 'https://open.spotify.com/artist/6wxfx1yhyqjCPYwwxJktR2'},\n  'followers': {'href': None, 'total': 2363942},\n  'genres': ['j-pop'],\n  'href': 'https://api.spotify.com/v1/artists/6wxfx1yhyqjCPYwwxJktR2',\n  'id': '6wxfx1yhyqjCPYwwxJktR2',\n  'images': [{'height': 640,\n    'url': 'https://i.scdn.co/image/ab6761610000e5eb7f34daf0448f63f37f9dc35d',\n    'width': 640},\n   {'height': 320,\n    'url': 'https://i.scdn.co/image/ab676161000051747f34daf0448f63f37f9dc35d',\n    'width': 320},\n   {'height': 160,\n    'url': 'https://i.scdn.co/image/ab6761610000f1787f34daf0448f63f37f9dc35d',\n    'width': 160}],\n  'name': 'King Gnu',\n  'popularity': 69,\n  'type': 'artist',\n  'uri': 'spotify:artist:6wxfx1yhyqjCPYwwxJktR2'},\n {'external_urls': {'spotify': 'https://open.spotify.com/artist/3kU8TgZ3WouCr0GDkYnPbN'},\n  'followers': {'href': None, 'total': 1207},\n  'genres': [],\n  'href': 'https://api.spotify.com/v1/artists/3kU8TgZ3WouCr0GDkYnPbN',\n  'id': '3kU8TgZ3WouCr0GDkYnPbN',\n  'images': [{'height': 640,\n    'url': 'https://i.scdn.co/image/ab67616d0000b273088f47b9e15f0dfc2a3af5e3',\n    'width': 640},\n   {'height': 300,\n    'url': 'https://i.scdn.co/image/ab67616d00001e028ca0f7548cf0c37b01686762',\n    'width': 300},\n   {'height': 64,\n    'url': 'https://i.scdn.co/image/ab67616d000048518ca0f7548cf0c37b01686762',\n    'width': 64}],\n  'name': '许钧',\n  'popularity': 20,\n  'type': 'artist',\n  'uri': 'spotify:artist:3kU8TgZ3WouCr0GDkYnPbN'},\n {'external_urls': {'spotify': 'https://open.spotify.com/artist/5PVlXEAvlt6SfYpWBYTM4C'},\n  'followers': {'href': None, 'total': 36031},\n  'genres': ['chennai indie', 'indian indie', 'indian rock'],\n  'href': 'https://api.spotify.com/v1/artists/5PVlXEAvlt6SfYpWBYTM4C',\n  'id': '5PVlXEAvlt6SfYpWBYTM4C',\n  'images': [{'height': 640,\n    'url': 'https://i.scdn.co/image/ab6761610000e5eb509277e4d37eeb404c4655b4',\n    'width': 640},\n   {'height': 320,\n    'url': 'https://i.scdn.co/image/ab67616100005174509277e4d37eeb404c4655b4',\n    'width': 320},\n   {'height': 160,\n    'url': 'https://i.scdn.co/image/ab6761610000f178509277e4d37eeb404c4655b4',\n    'width': 160}],\n  'name': 'The F16s',\n  'popularity': 35,\n  'type': 'artist',\n  'uri': 'spotify:artist:5PVlXEAvlt6SfYpWBYTM4C'},\n {'external_urls': {'spotify': 'https://open.spotify.com/artist/1eDyy2XYcoDiJpzCEIR7bd'},\n  'followers': {'href': None, 'total': 1237},\n  'genres': [],\n  'href': 'https://api.spotify.com/v1/artists/1eDyy2XYcoDiJpzCEIR7bd',\n  'id': '1eDyy2XYcoDiJpzCEIR7bd',\n  'images': [{'height': 640,\n    'url': 'https://i.scdn.co/image/ab6761610000e5eb66f76a8a69b731981cb1224f',\n    'width': 640},\n   {'height': 320,\n    'url': 'https://i.scdn.co/image/ab6761610000517466f76a8a69b731981cb1224f',\n    'width': 320},\n   {'height': 160,\n    'url': 'https://i.scdn.co/image/ab6761610000f17866f76a8a69b731981cb1224f',\n    'width': 160}],\n  'name': 'ARAI',\n  'popularity': 27,\n  'type': 'artist',\n  'uri': 'spotify:artist:1eDyy2XYcoDiJpzCEIR7bd'},\n {'external_urls': {'spotify': 'https://open.spotify.com/artist/74CcYmmNeHKe5PrZaISk8e'},\n  'followers': {'href': None, 'total': 126572},\n  'genres': ['alternative r&b', 'chill r&b', 'indie r&b', 'indie soul'],\n  'href': 'https://api.spotify.com/v1/artists/74CcYmmNeHKe5PrZaISk8e',\n  'id': '74CcYmmNeHKe5PrZaISk8e',\n  'images': [{'height': 640,\n    'url': 'https://i.scdn.co/image/ab6761610000e5eb855cf7d321173f8c021f8b1c',\n    'width': 640},\n   {'height': 320,\n    'url': 'https://i.scdn.co/image/ab67616100005174855cf7d321173f8c021f8b1c',\n    'width': 320},\n   {'height': 160,\n    'url': 'https://i.scdn.co/image/ab6761610000f178855cf7d321173f8c021f8b1c',\n    'width': 160}],\n  'name': 'Hope Tala',\n  'popularity': 54,\n  'type': 'artist',\n  'uri': 'spotify:artist:74CcYmmNeHKe5PrZaISk8e'},\n {'external_urls': {'spotify': 'https://open.spotify.com/artist/5cj0lLjcoR7YOSnhnX0Po5'},\n  'followers': {'href': None, 'total': 21552163},\n  'genres': ['dance pop', 'pop'],\n  'href': 'https://api.spotify.com/v1/artists/5cj0lLjcoR7YOSnhnX0Po5',\n  'id': '5cj0lLjcoR7YOSnhnX0Po5',\n  'images': [{'height': 640,\n    'url': 'https://i.scdn.co/image/ab6761610000e5eb727a2ac15afe659be999beba',\n    'width': 640},\n   {'height': 320,\n    'url': 'https://i.scdn.co/image/ab67616100005174727a2ac15afe659be999beba',\n    'width': 320},\n   {'height': 160,\n    'url': 'https://i.scdn.co/image/ab6761610000f178727a2ac15afe659be999beba',\n    'width': 160}],\n  'name': 'Doja Cat',\n  'popularity': 88,\n  'type': 'artist',\n  'uri': 'spotify:artist:5cj0lLjcoR7YOSnhnX0Po5'},\n {'external_urls': {'spotify': 'https://open.spotify.com/artist/3MZsBdqDrRTJihTHQrO6Dq'},\n  'followers': {'href': None, 'total': 6828617},\n  'genres': ['viral pop'],\n  'href': 'https://api.spotify.com/v1/artists/3MZsBdqDrRTJihTHQrO6Dq',\n  'id': '3MZsBdqDrRTJihTHQrO6Dq',\n  'images': [{'height': 640,\n    'url': 'https://i.scdn.co/image/ab6761610000e5eb4111c95b5f430c3265c7304b',\n    'width': 640},\n   {'height': 320,\n    'url': 'https://i.scdn.co/image/ab676161000051744111c95b5f430c3265c7304b',\n    'width': 320},\n   {'height': 160,\n    'url': 'https://i.scdn.co/image/ab6761610000f1784111c95b5f430c3265c7304b',\n    'width': 160}],\n  'name': 'Joji',\n  'popularity': 85,\n  'type': 'artist',\n  'uri': 'spotify:artist:3MZsBdqDrRTJihTHQrO6Dq'},\n {'external_urls': {'spotify': 'https://open.spotify.com/artist/0QHgL1lAIqAw0HtD7YldmP'},\n  'followers': {'href': None, 'total': 8211754},\n  'genres': ['hip hop',\n   'miami hip hop',\n   'pop',\n   'pop rap',\n   'rap',\n   'southern hip hop',\n   'trap'],\n  'href': 'https://api.spotify.com/v1/artists/0QHgL1lAIqAw0HtD7YldmP',\n  'id': '0QHgL1lAIqAw0HtD7YldmP',\n  'images': [{'height': 640,\n    'url': 'https://i.scdn.co/image/ab6761610000e5eb33509c0d518064344545f35c',\n    'width': 640},\n   {'height': 320,\n    'url': 'https://i.scdn.co/image/ab6761610000517433509c0d518064344545f35c',\n    'width': 320},\n   {'height': 160,\n    'url': 'https://i.scdn.co/image/ab6761610000f17833509c0d518064344545f35c',\n    'width': 160}],\n  'name': 'DJ Khaled',\n  'popularity': 82,\n  'type': 'artist',\n  'uri': 'spotify:artist:0QHgL1lAIqAw0HtD7YldmP'},\n {'external_urls': {'spotify': 'https://open.spotify.com/artist/3tVQdUvClmAT7URs9V3rsp'},\n  'followers': {'href': None, 'total': 2518815},\n  'genres': ['afro dancehall',\n   'afropop',\n   'azonto',\n   'nigerian hip hop',\n   'nigerian pop'],\n  'href': 'https://api.spotify.com/v1/artists/3tVQdUvClmAT7URs9V3rsp',\n  'id': '3tVQdUvClmAT7URs9V3rsp',\n  'images': [{'height': 640,\n    'url': 'https://i.scdn.co/image/ab6761610000e5eb9050b61368975fda051cdc06',\n    'width': 640},\n   {'height': 320,\n    'url': 'https://i.scdn.co/image/ab676161000051749050b61368975fda051cdc06',\n    'width': 320},\n   {'height': 160,\n    'url': 'https://i.scdn.co/image/ab6761610000f1789050b61368975fda051cdc06',\n    'width': 160}],\n  'name': 'WizKid',\n  'popularity': 76,\n  'type': 'artist',\n  'uri': 'spotify:artist:3tVQdUvClmAT7URs9V3rsp'},\n {'external_urls': {'spotify': 'https://open.spotify.com/artist/7dOswEYzOtTMECumrZ3NHY'},\n  'followers': {'href': None, 'total': 137113},\n  'genres': ['indonesian indie',\n   'indonesian jazz',\n   'indonesian pop',\n   'indonesian singer-songwriter'],\n  'href': 'https://api.spotify.com/v1/artists/7dOswEYzOtTMECumrZ3NHY',\n  'id': '7dOswEYzOtTMECumrZ3NHY',\n  'images': [{'height': 640,\n    'url': 'https://i.scdn.co/image/ab6761610000e5ebf49f074f27ede2214e48a15a',\n    'width': 640},\n   {'height': 320,\n    'url': 'https://i.scdn.co/image/ab67616100005174f49f074f27ede2214e48a15a',\n    'width': 320},\n   {'height': 160,\n    'url': 'https://i.scdn.co/image/ab6761610000f178f49f074f27ede2214e48a15a',\n    'width': 160}],\n  'name': 'Teddy Adhitya',\n  'popularity': 54,\n  'type': 'artist',\n  'uri': 'spotify:artist:7dOswEYzOtTMECumrZ3NHY'},\n {'external_urls': {'spotify': 'https://open.spotify.com/artist/41X1TR6hrK8Q2ZCpp2EqCz'},\n  'followers': {'href': None, 'total': 1117355},\n  'genres': ['canadian hip hop', 'dark trap', 'vapor trap'],\n  'href': 'https://api.spotify.com/v1/artists/41X1TR6hrK8Q2ZCpp2EqCz',\n  'id': '41X1TR6hrK8Q2ZCpp2EqCz',\n  'images': [{'height': 640,\n    'url': 'https://i.scdn.co/image/ab6761610000e5eb6bca811e558018074bbc1b05',\n    'width': 640},\n   {'height': 320,\n    'url': 'https://i.scdn.co/image/ab676161000051746bca811e558018074bbc1b05',\n    'width': 320},\n   {'height': 160,\n    'url': 'https://i.scdn.co/image/ab6761610000f1786bca811e558018074bbc1b05',\n    'width': 160}],\n  'name': 'bbno$',\n  'popularity': 73,\n  'type': 'artist',\n  'uri': 'spotify:artist:41X1TR6hrK8Q2ZCpp2EqCz'},\n {'external_urls': {'spotify': 'https://open.spotify.com/artist/7sBtBCNVRujQhaHDODkfTN'},\n  'followers': {'href': None, 'total': 263494},\n  'genres': ['visual kei'],\n  'href': 'https://api.spotify.com/v1/artists/7sBtBCNVRujQhaHDODkfTN',\n  'id': '7sBtBCNVRujQhaHDODkfTN',\n  'images': [{'height': 640,\n    'url': 'https://i.scdn.co/image/ab6761610000e5eb4a1f300e8e2e3053e60149da',\n    'width': 640},\n   {'height': 320,\n    'url': 'https://i.scdn.co/image/ab676161000051744a1f300e8e2e3053e60149da',\n    'width': 320},\n   {'height': 160,\n    'url': 'https://i.scdn.co/image/ab6761610000f1784a1f300e8e2e3053e60149da',\n    'width': 160}],\n  'name': 'MIYAVI',\n  'popularity': 55,\n  'type': 'artist',\n  'uri': 'spotify:artist:7sBtBCNVRujQhaHDODkfTN'},\n {'external_urls': {'spotify': 'https://open.spotify.com/artist/6USMTwO0MNDnKte5a5h0xx'},\n  'followers': {'href': None, 'total': 284311},\n  'genres': ['pop rap'],\n  'href': 'https://api.spotify.com/v1/artists/6USMTwO0MNDnKte5a5h0xx',\n  'id': '6USMTwO0MNDnKte5a5h0xx',\n  'images': [{'height': 640,\n    'url': 'https://i.scdn.co/image/ab6761610000e5ebcf5885d1297ec7697ae2f3f1',\n    'width': 640},\n   {'height': 320,\n    'url': 'https://i.scdn.co/image/ab67616100005174cf5885d1297ec7697ae2f3f1',\n    'width': 320},\n   {'height': 160,\n    'url': 'https://i.scdn.co/image/ab6761610000f178cf5885d1297ec7697ae2f3f1',\n    'width': 160}],\n  'name': 'Y2K',\n  'popularity': 63,\n  'type': 'artist',\n  'uri': 'spotify:artist:6USMTwO0MNDnKte5a5h0xx'},\n {'external_urls': {'spotify': 'https://open.spotify.com/artist/41X1TR6hrK8Q2ZCpp2EqCz'},\n  'followers': {'href': None, 'total': 1117355},\n  'genres': ['canadian hip hop', 'dark trap', 'vapor trap'],\n  'href': 'https://api.spotify.com/v1/artists/41X1TR6hrK8Q2ZCpp2EqCz',\n  'id': '41X1TR6hrK8Q2ZCpp2EqCz',\n  'images': [{'height': 640,\n    'url': 'https://i.scdn.co/image/ab6761610000e5eb6bca811e558018074bbc1b05',\n    'width': 640},\n   {'height': 320,\n    'url': 'https://i.scdn.co/image/ab676161000051746bca811e558018074bbc1b05',\n    'width': 320},\n   {'height': 160,\n    'url': 'https://i.scdn.co/image/ab6761610000f1786bca811e558018074bbc1b05',\n    'width': 160}],\n  'name': 'bbno$',\n  'popularity': 73,\n  'type': 'artist',\n  'uri': 'spotify:artist:41X1TR6hrK8Q2ZCpp2EqCz'},\n {'external_urls': {'spotify': 'https://open.spotify.com/artist/63gizE0cqalXVpwZdZHY47'},\n  'followers': {'href': None, 'total': 23836},\n  'genres': ['british folk',\n   'celtic',\n   'celtic rock',\n   'irish folk',\n   'scottish folk'],\n  'href': 'https://api.spotify.com/v1/artists/63gizE0cqalXVpwZdZHY47',\n  'id': '63gizE0cqalXVpwZdZHY47',\n  'images': [{'height': 640,\n    'url': 'https://i.scdn.co/image/ab67616d0000b273f33c6affa47accb93fe277d6',\n    'width': 640},\n   {'height': 300,\n    'url': 'https://i.scdn.co/image/ab67616d00001e02f33c6affa47accb93fe277d6',\n    'width': 300},\n   {'height': 64,\n    'url': 'https://i.scdn.co/image/ab67616d00004851f33c6affa47accb93fe277d6',\n    'width': 64}],\n  'name': 'Dougie MacLean',\n  'popularity': 39,\n  'type': 'artist',\n  'uri': 'spotify:artist:63gizE0cqalXVpwZdZHY47'},\n {'external_urls': {'spotify': 'https://open.spotify.com/artist/1E4g32yGNzPxk7GOhJBulj'},\n  'followers': {'href': None, 'total': 37184},\n  'genres': ['chinese idol pop'],\n  'href': 'https://api.spotify.com/v1/artists/1E4g32yGNzPxk7GOhJBulj',\n  'id': '1E4g32yGNzPxk7GOhJBulj',\n  'images': [{'height': 640,\n    'url': 'https://i.scdn.co/image/ab6761610000e5ebbe1a0ab77068b591e46783a6',\n    'width': 640},\n   {'height': 320,\n    'url': 'https://i.scdn.co/image/ab67616100005174be1a0ab77068b591e46783a6',\n    'width': 320},\n   {'height': 160,\n    'url': 'https://i.scdn.co/image/ab6761610000f178be1a0ab77068b591e46783a6',\n    'width': 160}],\n  'name': 'Adam Fan',\n  'popularity': 38,\n  'type': 'artist',\n  'uri': 'spotify:artist:1E4g32yGNzPxk7GOhJBulj'},\n {'external_urls': {'spotify': 'https://open.spotify.com/artist/22JbAaWA5Abf5esf6N4PHY'},\n  'followers': {'href': None, 'total': 57223},\n  'genres': ['taiwan classical performance'],\n  'href': 'https://api.spotify.com/v1/artists/22JbAaWA5Abf5esf6N4PHY',\n  'id': '22JbAaWA5Abf5esf6N4PHY',\n  'images': [{'height': 640,\n    'url': 'https://i.scdn.co/image/ab6761610000e5eb48b8711c020ee58cb998feee',\n    'width': 640},\n   {'height': 320,\n    'url': 'https://i.scdn.co/image/ab6761610000517448b8711c020ee58cb998feee',\n    'width': 320},\n   {'height': 160,\n    'url': 'https://i.scdn.co/image/ab6761610000f17848b8711c020ee58cb998feee',\n    'width': 160}],\n  'name': 'Nana Ou-Yang',\n  'popularity': 44,\n  'type': 'artist',\n  'uri': 'spotify:artist:22JbAaWA5Abf5esf6N4PHY'},\n {'external_urls': {'spotify': 'https://open.spotify.com/artist/4fxd5Ee7UefO4CUXgwJ7IP'},\n  'followers': {'href': None, 'total': 2419344},\n  'genres': ['pop', 'r&b'],\n  'href': 'https://api.spotify.com/v1/artists/4fxd5Ee7UefO4CUXgwJ7IP',\n  'id': '4fxd5Ee7UefO4CUXgwJ7IP',\n  'images': [{'height': 640,\n    'url': 'https://i.scdn.co/image/ab6761610000e5eb2c0b7791c1b134d65b587e26',\n    'width': 640},\n   {'height': 320,\n    'url': 'https://i.scdn.co/image/ab676161000051742c0b7791c1b134d65b587e26',\n    'width': 320},\n   {'height': 160,\n    'url': 'https://i.scdn.co/image/ab6761610000f1782c0b7791c1b134d65b587e26',\n    'width': 160}],\n  'name': 'Giveon',\n  'popularity': 80,\n  'type': 'artist',\n  'uri': 'spotify:artist:4fxd5Ee7UefO4CUXgwJ7IP'},\n {'external_urls': {'spotify': 'https://open.spotify.com/artist/2h93pZq0e7k5yf4dywlkpM'},\n  'followers': {'href': None, 'total': 9937975},\n  'genres': ['hip hop', 'lgbtq+ hip hop', 'neo soul', 'pop'],\n  'href': 'https://api.spotify.com/v1/artists/2h93pZq0e7k5yf4dywlkpM',\n  'id': '2h93pZq0e7k5yf4dywlkpM',\n  'images': [{'height': 640,\n    'url': 'https://i.scdn.co/image/ab6761610000e5ebfbc3faec4a370d8393bee7f1',\n    'width': 640},\n   {'height': 320,\n    'url': 'https://i.scdn.co/image/ab67616100005174fbc3faec4a370d8393bee7f1',\n    'width': 320},\n   {'height': 160,\n    'url': 'https://i.scdn.co/image/ab6761610000f178fbc3faec4a370d8393bee7f1',\n    'width': 160}],\n  'name': 'Frank Ocean',\n  'popularity': 82,\n  'type': 'artist',\n  'uri': 'spotify:artist:2h93pZq0e7k5yf4dywlkpM'},\n {'external_urls': {'spotify': 'https://open.spotify.com/artist/1QeC5GwDENQv78O3PCLeZB'},\n  'followers': {'href': None, 'total': 5388},\n  'genres': ['american romanticism', 'post-romantic era'],\n  'href': 'https://api.spotify.com/v1/artists/1QeC5GwDENQv78O3PCLeZB',\n  'id': '1QeC5GwDENQv78O3PCLeZB',\n  'images': [{'height': 1000,\n    'url': 'https://i.scdn.co/image/54b6b5baa50368b4dd2e0673ba71230450047d7f',\n    'width': 1000},\n   {'height': 640,\n    'url': 'https://i.scdn.co/image/21d37e56fdc4a70c18c5c24dfb72cd3232541dae',\n    'width': 640},\n   {'height': 200,\n    'url': 'https://i.scdn.co/image/55f4b992b95ca0bc873843fc7257374442368821',\n    'width': 200},\n   {'height': 64,\n    'url': 'https://i.scdn.co/image/3965f249031d56a774b4179999cc76a6ec728e57',\n    'width': 64}],\n  'name': 'Amy Beach',\n  'popularity': 44,\n  'type': 'artist',\n  'uri': 'spotify:artist:1QeC5GwDENQv78O3PCLeZB'},\n {'external_urls': {'spotify': 'https://open.spotify.com/artist/6trIghKwHRUyxwvm66HLHH'},\n  'followers': {'href': None, 'total': 154804},\n  'genres': ['indie r&b'],\n  'href': 'https://api.spotify.com/v1/artists/6trIghKwHRUyxwvm66HLHH',\n  'id': '6trIghKwHRUyxwvm66HLHH',\n  'images': [{'height': 640,\n    'url': 'https://i.scdn.co/image/ab6761610000e5eb0ea3a1bcd792b8a088f24f7b',\n    'width': 640},\n   {'height': 320,\n    'url': 'https://i.scdn.co/image/ab676161000051740ea3a1bcd792b8a088f24f7b',\n    'width': 320},\n   {'height': 160,\n    'url': 'https://i.scdn.co/image/ab6761610000f1780ea3a1bcd792b8a088f24f7b',\n    'width': 160}],\n  'name': 'Fousheé',\n  'popularity': 64,\n  'type': 'artist',\n  'uri': 'spotify:artist:6trIghKwHRUyxwvm66HLHH'},\n {'external_urls': {'spotify': 'https://open.spotify.com/artist/2G9gEEtYueq2WQqzfzWK0H'},\n  'followers': {'href': None, 'total': 2405},\n  'genres': [],\n  'href': 'https://api.spotify.com/v1/artists/2G9gEEtYueq2WQqzfzWK0H',\n  'id': '2G9gEEtYueq2WQqzfzWK0H',\n  'images': [{'height': 640,\n    'url': 'https://i.scdn.co/image/ab67616d0000b273c06ef40fceffb4780e563763',\n    'width': 640},\n   {'height': 300,\n    'url': 'https://i.scdn.co/image/ab67616d00001e02c06ef40fceffb4780e563763',\n    'width': 300},\n   {'height': 64,\n    'url': 'https://i.scdn.co/image/ab67616d00004851c06ef40fceffb4780e563763',\n    'width': 64}],\n  'name': 'Robert Prizeman',\n  'popularity': 39,\n  'type': 'artist',\n  'uri': 'spotify:artist:2G9gEEtYueq2WQqzfzWK0H'},\n {'external_urls': {'spotify': 'https://open.spotify.com/artist/22JbAaWA5Abf5esf6N4PHY'},\n  'followers': {'href': None, 'total': 57223},\n  'genres': ['taiwan classical performance'],\n  'href': 'https://api.spotify.com/v1/artists/22JbAaWA5Abf5esf6N4PHY',\n  'id': '22JbAaWA5Abf5esf6N4PHY',\n  'images': [{'height': 640,\n    'url': 'https://i.scdn.co/image/ab6761610000e5eb48b8711c020ee58cb998feee',\n    'width': 640},\n   {'height': 320,\n    'url': 'https://i.scdn.co/image/ab6761610000517448b8711c020ee58cb998feee',\n    'width': 320},\n   {'height': 160,\n    'url': 'https://i.scdn.co/image/ab6761610000f17848b8711c020ee58cb998feee',\n    'width': 160}],\n  'name': 'Nana Ou-Yang',\n  'popularity': 44,\n  'type': 'artist',\n  'uri': 'spotify:artist:22JbAaWA5Abf5esf6N4PHY'},\n {'external_urls': {'spotify': 'https://open.spotify.com/artist/2PSJ6YriU7JsFucxACpU7Y'},\n  'followers': {'href': None, 'total': 1968589},\n  'genres': ['k-pop'],\n  'href': 'https://api.spotify.com/v1/artists/2PSJ6YriU7JsFucxACpU7Y',\n  'id': '2PSJ6YriU7JsFucxACpU7Y',\n  'images': [{'height': 640,\n    'url': 'https://i.scdn.co/image/ab6761610000e5eb93c6f21062da1ef012275ff6',\n    'width': 640},\n   {'height': 320,\n    'url': 'https://i.scdn.co/image/ab6761610000517493c6f21062da1ef012275ff6',\n    'width': 320},\n   {'height': 160,\n    'url': 'https://i.scdn.co/image/ab6761610000f17893c6f21062da1ef012275ff6',\n    'width': 160}],\n  'name': 'CHUNG HA',\n  'popularity': 64,\n  'type': 'artist',\n  'uri': 'spotify:artist:2PSJ6YriU7JsFucxACpU7Y'},\n {'external_urls': {'spotify': 'https://open.spotify.com/artist/6qqNVTkY8uBg9cP3Jd7DAH'},\n  'followers': {'href': None, 'total': 68719405},\n  'genres': ['art pop', 'electropop', 'pop'],\n  'href': 'https://api.spotify.com/v1/artists/6qqNVTkY8uBg9cP3Jd7DAH',\n  'id': '6qqNVTkY8uBg9cP3Jd7DAH',\n  'images': [{'height': 640,\n    'url': 'https://i.scdn.co/image/ab6761610000e5ebd8b9980db67272cb4d2c3daf',\n    'width': 640},\n   {'height': 320,\n    'url': 'https://i.scdn.co/image/ab67616100005174d8b9980db67272cb4d2c3daf',\n    'width': 320},\n   {'height': 160,\n    'url': 'https://i.scdn.co/image/ab6761610000f178d8b9980db67272cb4d2c3daf',\n    'width': 160}],\n  'name': 'Billie Eilish',\n  'popularity': 88,\n  'type': 'artist',\n  'uri': 'spotify:artist:6qqNVTkY8uBg9cP3Jd7DAH'},\n {'external_urls': {'spotify': 'https://open.spotify.com/artist/1kfWoWgCugPkyxQP8lkRlY'},\n  'followers': {'href': None, 'total': 3344015},\n  'genres': ['k-pop'],\n  'href': 'https://api.spotify.com/v1/artists/1kfWoWgCugPkyxQP8lkRlY',\n  'id': '1kfWoWgCugPkyxQP8lkRlY',\n  'images': [{'height': 640,\n    'url': 'https://i.scdn.co/image/ab6761610000e5eba164e038c8bb4f7c86f80baa',\n    'width': 640},\n   {'height': 320,\n    'url': 'https://i.scdn.co/image/ab67616100005174a164e038c8bb4f7c86f80baa',\n    'width': 320},\n   {'height': 160,\n    'url': 'https://i.scdn.co/image/ab6761610000f178a164e038c8bb4f7c86f80baa',\n    'width': 160}],\n  'name': 'Jackson Wang',\n  'popularity': 65,\n  'type': 'artist',\n  'uri': 'spotify:artist:1kfWoWgCugPkyxQP8lkRlY'},\n {'external_urls': {'spotify': 'https://open.spotify.com/artist/2yzaWNFV3cxmcRZtwtr5WC'},\n  'followers': {'href': None, 'total': 20671},\n  'genres': ['early romantic era', 'german romanticism'],\n  'href': 'https://api.spotify.com/v1/artists/2yzaWNFV3cxmcRZtwtr5WC',\n  'id': '2yzaWNFV3cxmcRZtwtr5WC',\n  'images': [{'height': 1159,\n    'url': 'https://i.scdn.co/image/08c9068e3e64a29e3e613a80057fd8408cfc363e',\n    'width': 828},\n   {'height': 896,\n    'url': 'https://i.scdn.co/image/725e5ca806465643c15199a52836ea258efa8f84',\n    'width': 640},\n   {'height': 280,\n    'url': 'https://i.scdn.co/image/5a1548643b5f13536846bb925fbfdfa9d6302b03',\n    'width': 200},\n   {'height': 90,\n    'url': 'https://i.scdn.co/image/9bfb39b522bbdebd8c8f712184ce885668459543',\n    'width': 64}],\n  'name': 'Clara Schumann',\n  'popularity': 46,\n  'type': 'artist',\n  'uri': 'spotify:artist:2yzaWNFV3cxmcRZtwtr5WC'},\n {'external_urls': {'spotify': 'https://open.spotify.com/artist/2yzaWNFV3cxmcRZtwtr5WC'},\n  'followers': {'href': None, 'total': 20671},\n  'genres': ['early romantic era', 'german romanticism'],\n  'href': 'https://api.spotify.com/v1/artists/2yzaWNFV3cxmcRZtwtr5WC',\n  'id': '2yzaWNFV3cxmcRZtwtr5WC',\n  'images': [{'height': 1159,\n    'url': 'https://i.scdn.co/image/08c9068e3e64a29e3e613a80057fd8408cfc363e',\n    'width': 828},\n   {'height': 896,\n    'url': 'https://i.scdn.co/image/725e5ca806465643c15199a52836ea258efa8f84',\n    'width': 640},\n   {'height': 280,\n    'url': 'https://i.scdn.co/image/5a1548643b5f13536846bb925fbfdfa9d6302b03',\n    'width': 200},\n   {'height': 90,\n    'url': 'https://i.scdn.co/image/9bfb39b522bbdebd8c8f712184ce885668459543',\n    'width': 64}],\n  'name': 'Clara Schumann',\n  'popularity': 46,\n  'type': 'artist',\n  'uri': 'spotify:artist:2yzaWNFV3cxmcRZtwtr5WC'},\n {'external_urls': {'spotify': 'https://open.spotify.com/artist/41X1TR6hrK8Q2ZCpp2EqCz'},\n  'followers': {'href': None, 'total': 1117355},\n  'genres': ['canadian hip hop', 'dark trap', 'vapor trap'],\n  'href': 'https://api.spotify.com/v1/artists/41X1TR6hrK8Q2ZCpp2EqCz',\n  'id': '41X1TR6hrK8Q2ZCpp2EqCz',\n  'images': [{'height': 640,\n    'url': 'https://i.scdn.co/image/ab6761610000e5eb6bca811e558018074bbc1b05',\n    'width': 640},\n   {'height': 320,\n    'url': 'https://i.scdn.co/image/ab676161000051746bca811e558018074bbc1b05',\n    'width': 320},\n   {'height': 160,\n    'url': 'https://i.scdn.co/image/ab6761610000f1786bca811e558018074bbc1b05',\n    'width': 160}],\n  'name': 'bbno$',\n  'popularity': 73,\n  'type': 'artist',\n  'uri': 'spotify:artist:41X1TR6hrK8Q2ZCpp2EqCz'},\n {'external_urls': {'spotify': 'https://open.spotify.com/artist/1AhjOkOLkbHUfcHDSErXQs'},\n  'followers': {'href': None, 'total': 839894},\n  'genres': ['asian american hip hop'],\n  'href': 'https://api.spotify.com/v1/artists/1AhjOkOLkbHUfcHDSErXQs',\n  'id': '1AhjOkOLkbHUfcHDSErXQs',\n  'images': [{'height': 640,\n    'url': 'https://i.scdn.co/image/ab6761610000e5eb2f8dfdfeb85c3fc2d11b2ae2',\n    'width': 640},\n   {'height': 320,\n    'url': 'https://i.scdn.co/image/ab676161000051742f8dfdfeb85c3fc2d11b2ae2',\n    'width': 320},\n   {'height': 160,\n    'url': 'https://i.scdn.co/image/ab6761610000f1782f8dfdfeb85c3fc2d11b2ae2',\n    'width': 160}],\n  'name': '88rising',\n  'popularity': 69,\n  'type': 'artist',\n  'uri': 'spotify:artist:1AhjOkOLkbHUfcHDSErXQs'},\n {'external_urls': {'spotify': 'https://open.spotify.com/artist/68kEuyFKyqrdQQLLsmiatm'},\n  'followers': {'href': None, 'total': 1647126},\n  'genres': ['conscious hip hop', 'hip hop', 'rap', 'underground hip hop'],\n  'href': 'https://api.spotify.com/v1/artists/68kEuyFKyqrdQQLLsmiatm',\n  'id': '68kEuyFKyqrdQQLLsmiatm',\n  'images': [{'height': 640,\n    'url': 'https://i.scdn.co/image/ab6761610000e5eb53054f8bc7e0153daefe12cc',\n    'width': 640},\n   {'height': 320,\n    'url': 'https://i.scdn.co/image/ab6761610000517453054f8bc7e0153daefe12cc',\n    'width': 320},\n   {'height': 160,\n    'url': 'https://i.scdn.co/image/ab6761610000f17853054f8bc7e0153daefe12cc',\n    'width': 160}],\n  'name': 'Vince Staples',\n  'popularity': 68,\n  'type': 'artist',\n  'uri': 'spotify:artist:68kEuyFKyqrdQQLLsmiatm'},\n {'external_urls': {'spotify': 'https://open.spotify.com/artist/3MZsBdqDrRTJihTHQrO6Dq'},\n  'followers': {'href': None, 'total': 6828617},\n  'genres': ['viral pop'],\n  'href': 'https://api.spotify.com/v1/artists/3MZsBdqDrRTJihTHQrO6Dq',\n  'id': '3MZsBdqDrRTJihTHQrO6Dq',\n  'images': [{'height': 640,\n    'url': 'https://i.scdn.co/image/ab6761610000e5eb4111c95b5f430c3265c7304b',\n    'width': 640},\n   {'height': 320,\n    'url': 'https://i.scdn.co/image/ab676161000051744111c95b5f430c3265c7304b',\n    'width': 320},\n   {'height': 160,\n    'url': 'https://i.scdn.co/image/ab6761610000f1784111c95b5f430c3265c7304b',\n    'width': 160}],\n  'name': 'Joji',\n  'popularity': 85,\n  'type': 'artist',\n  'uri': 'spotify:artist:3MZsBdqDrRTJihTHQrO6Dq'},\n {'external_urls': {'spotify': 'https://open.spotify.com/artist/3MZsBdqDrRTJihTHQrO6Dq'},\n  'followers': {'href': None, 'total': 6828617},\n  'genres': ['viral pop'],\n  'href': 'https://api.spotify.com/v1/artists/3MZsBdqDrRTJihTHQrO6Dq',\n  'id': '3MZsBdqDrRTJihTHQrO6Dq',\n  'images': [{'height': 640,\n    'url': 'https://i.scdn.co/image/ab6761610000e5eb4111c95b5f430c3265c7304b',\n    'width': 640},\n   {'height': 320,\n    'url': 'https://i.scdn.co/image/ab676161000051744111c95b5f430c3265c7304b',\n    'width': 320},\n   {'height': 160,\n    'url': 'https://i.scdn.co/image/ab6761610000f1784111c95b5f430c3265c7304b',\n    'width': 160}],\n  'name': 'Joji',\n  'popularity': 85,\n  'type': 'artist',\n  'uri': 'spotify:artist:3MZsBdqDrRTJihTHQrO6Dq'},\n {'external_urls': {'spotify': 'https://open.spotify.com/artist/3MZsBdqDrRTJihTHQrO6Dq'},\n  'followers': {'href': None, 'total': 6828617},\n  'genres': ['viral pop'],\n  'href': 'https://api.spotify.com/v1/artists/3MZsBdqDrRTJihTHQrO6Dq',\n  'id': '3MZsBdqDrRTJihTHQrO6Dq',\n  'images': [{'height': 640,\n    'url': 'https://i.scdn.co/image/ab6761610000e5eb4111c95b5f430c3265c7304b',\n    'width': 640},\n   {'height': 320,\n    'url': 'https://i.scdn.co/image/ab676161000051744111c95b5f430c3265c7304b',\n    'width': 320},\n   {'height': 160,\n    'url': 'https://i.scdn.co/image/ab6761610000f1784111c95b5f430c3265c7304b',\n    'width': 160}],\n  'name': 'Joji',\n  'popularity': 85,\n  'type': 'artist',\n  'uri': 'spotify:artist:3MZsBdqDrRTJihTHQrO6Dq'},\n {'external_urls': {'spotify': 'https://open.spotify.com/artist/1AhjOkOLkbHUfcHDSErXQs'},\n  'followers': {'href': None, 'total': 839894},\n  'genres': ['asian american hip hop'],\n  'href': 'https://api.spotify.com/v1/artists/1AhjOkOLkbHUfcHDSErXQs',\n  'id': '1AhjOkOLkbHUfcHDSErXQs',\n  'images': [{'height': 640,\n    'url': 'https://i.scdn.co/image/ab6761610000e5eb2f8dfdfeb85c3fc2d11b2ae2',\n    'width': 640},\n   {'height': 320,\n    'url': 'https://i.scdn.co/image/ab676161000051742f8dfdfeb85c3fc2d11b2ae2',\n    'width': 320},\n   {'height': 160,\n    'url': 'https://i.scdn.co/image/ab6761610000f1782f8dfdfeb85c3fc2d11b2ae2',\n    'width': 160}],\n  'name': '88rising',\n  'popularity': 69,\n  'type': 'artist',\n  'uri': 'spotify:artist:1AhjOkOLkbHUfcHDSErXQs'},\n {'external_urls': {'spotify': 'https://open.spotify.com/artist/21ZpqFOa1Viho0YiuEB8lG'},\n  'followers': {'href': None, 'total': 23982},\n  'genres': ['alternative r&b', 'indie r&b', 'kentucky hip hop', 'pop r&b'],\n  'href': 'https://api.spotify.com/v1/artists/21ZpqFOa1Viho0YiuEB8lG',\n  'id': '21ZpqFOa1Viho0YiuEB8lG',\n  'images': [{'height': 640,\n    'url': 'https://i.scdn.co/image/ab6761610000e5eb31685ac129ba275c490085d1',\n    'width': 640},\n   {'height': 320,\n    'url': 'https://i.scdn.co/image/ab6761610000517431685ac129ba275c490085d1',\n    'width': 320},\n   {'height': 160,\n    'url': 'https://i.scdn.co/image/ab6761610000f17831685ac129ba275c490085d1',\n    'width': 160}],\n  'name': 'Marzz',\n  'popularity': 43,\n  'type': 'artist',\n  'uri': 'spotify:artist:21ZpqFOa1Viho0YiuEB8lG'},\n {'external_urls': {'spotify': 'https://open.spotify.com/artist/37M5pPGs6V1fchFJSgCguX'},\n  'followers': {'href': None, 'total': 1747331},\n  'genres': ['alt z', 'electropop', 'la indie', 'pop'],\n  'href': 'https://api.spotify.com/v1/artists/37M5pPGs6V1fchFJSgCguX',\n  'id': '37M5pPGs6V1fchFJSgCguX',\n  'images': [{'height': 640,\n    'url': 'https://i.scdn.co/image/ab6761610000e5ebd1e2c2636101af74819bbe1a',\n    'width': 640},\n   {'height': 320,\n    'url': 'https://i.scdn.co/image/ab67616100005174d1e2c2636101af74819bbe1a',\n    'width': 320},\n   {'height': 160,\n    'url': 'https://i.scdn.co/image/ab6761610000f178d1e2c2636101af74819bbe1a',\n    'width': 160}],\n  'name': 'FINNEAS',\n  'popularity': 69,\n  'type': 'artist',\n  'uri': 'spotify:artist:37M5pPGs6V1fchFJSgCguX'},\n {'external_urls': {'spotify': 'https://open.spotify.com/artist/37M5pPGs6V1fchFJSgCguX'},\n  'followers': {'href': None, 'total': 1747331},\n  'genres': ['alt z', 'electropop', 'la indie', 'pop'],\n  'href': 'https://api.spotify.com/v1/artists/37M5pPGs6V1fchFJSgCguX',\n  'id': '37M5pPGs6V1fchFJSgCguX',\n  'images': [{'height': 640,\n    'url': 'https://i.scdn.co/image/ab6761610000e5ebd1e2c2636101af74819bbe1a',\n    'width': 640},\n   {'height': 320,\n    'url': 'https://i.scdn.co/image/ab67616100005174d1e2c2636101af74819bbe1a',\n    'width': 320},\n   {'height': 160,\n    'url': 'https://i.scdn.co/image/ab6761610000f178d1e2c2636101af74819bbe1a',\n    'width': 160}],\n  'name': 'FINNEAS',\n  'popularity': 69,\n  'type': 'artist',\n  'uri': 'spotify:artist:37M5pPGs6V1fchFJSgCguX'},\n {'external_urls': {'spotify': 'https://open.spotify.com/artist/7pbDxGE6nQSZVfiFdq9lOL'},\n  'followers': {'href': None, 'total': 4439766},\n  'genres': ['bedroom pop', 'pop'],\n  'href': 'https://api.spotify.com/v1/artists/7pbDxGE6nQSZVfiFdq9lOL',\n  'id': '7pbDxGE6nQSZVfiFdq9lOL',\n  'images': [{'height': 640,\n    'url': 'https://i.scdn.co/image/ab6761610000e5ebffb90f91cb2f487d7309f7bc',\n    'width': 640},\n   {'height': 320,\n    'url': 'https://i.scdn.co/image/ab67616100005174ffb90f91cb2f487d7309f7bc',\n    'width': 320},\n   {'height': 160,\n    'url': 'https://i.scdn.co/image/ab6761610000f178ffb90f91cb2f487d7309f7bc',\n    'width': 160}],\n  'name': 'Rex Orange County',\n  'popularity': 80,\n  'type': 'artist',\n  'uri': 'spotify:artist:7pbDxGE6nQSZVfiFdq9lOL'},\n {'external_urls': {'spotify': 'https://open.spotify.com/artist/6qqNVTkY8uBg9cP3Jd7DAH'},\n  'followers': {'href': None, 'total': 68719405},\n  'genres': ['art pop', 'electropop', 'pop'],\n  'href': 'https://api.spotify.com/v1/artists/6qqNVTkY8uBg9cP3Jd7DAH',\n  'id': '6qqNVTkY8uBg9cP3Jd7DAH',\n  'images': [{'height': 640,\n    'url': 'https://i.scdn.co/image/ab6761610000e5ebd8b9980db67272cb4d2c3daf',\n    'width': 640},\n   {'height': 320,\n    'url': 'https://i.scdn.co/image/ab67616100005174d8b9980db67272cb4d2c3daf',\n    'width': 320},\n   {'height': 160,\n    'url': 'https://i.scdn.co/image/ab6761610000f178d8b9980db67272cb4d2c3daf',\n    'width': 160}],\n  'name': 'Billie Eilish',\n  'popularity': 88,\n  'type': 'artist',\n  'uri': 'spotify:artist:6qqNVTkY8uBg9cP3Jd7DAH'},\n {'external_urls': {'spotify': 'https://open.spotify.com/artist/4XZNROthOZV5k7sPAG3UTX'},\n  'followers': {'href': None, 'total': 4242},\n  'genres': ['chinese indie', 'taiwan hip hop', 'taiwan pop'],\n  'href': 'https://api.spotify.com/v1/artists/4XZNROthOZV5k7sPAG3UTX',\n  'id': '4XZNROthOZV5k7sPAG3UTX',\n  'images': [{'height': 640,\n    'url': 'https://i.scdn.co/image/ab67616d0000b273cece0ddcf9cdbd00de389faf',\n    'width': 640},\n   {'height': 300,\n    'url': 'https://i.scdn.co/image/ab67616d00001e02cece0ddcf9cdbd00de389faf',\n    'width': 300},\n   {'height': 64,\n    'url': 'https://i.scdn.co/image/ab67616d00004851cece0ddcf9cdbd00de389faf',\n    'width': 64}],\n  'name': '蛋堡 x 黃玠',\n  'popularity': 20,\n  'type': 'artist',\n  'uri': 'spotify:artist:4XZNROthOZV5k7sPAG3UTX'},\n {'external_urls': {'spotify': 'https://open.spotify.com/artist/2UqjDAXnDxejEyE0CzfUrZ'},\n  'followers': {'href': None, 'total': 497951},\n  'genres': ['classical', 'early romantic era', 'german romanticism'],\n  'href': 'https://api.spotify.com/v1/artists/2UqjDAXnDxejEyE0CzfUrZ',\n  'id': '2UqjDAXnDxejEyE0CzfUrZ',\n  'images': [{'height': 1106,\n    'url': 'https://i.scdn.co/image/795f15e4d860456a306055ccc995075c5dad9fa6',\n    'width': 1000},\n   {'height': 708,\n    'url': 'https://i.scdn.co/image/55c5a95549820a9d19f02c31e16e79fa9f2bc3dd',\n    'width': 640},\n   {'height': 221,\n    'url': 'https://i.scdn.co/image/f6e54b847e866ea410cfa19af2e270e6fe414df0',\n    'width': 200},\n   {'height': 71,\n    'url': 'https://i.scdn.co/image/4ed99d3b6ed0913e5ef534e28d4363826bd85f38',\n    'width': 64}],\n  'name': 'Robert Schumann',\n  'popularity': 61,\n  'type': 'artist',\n  'uri': 'spotify:artist:2UqjDAXnDxejEyE0CzfUrZ'},\n {'external_urls': {'spotify': 'https://open.spotify.com/artist/2elBjNSdBE2Y3f0j1mjrql'},\n  'followers': {'href': None, 'total': 3472192},\n  'genres': ['c-pop', 'mandopop', 'taiwan pop', 'zhongguo feng'],\n  'href': 'https://api.spotify.com/v1/artists/2elBjNSdBE2Y3f0j1mjrql',\n  'id': '2elBjNSdBE2Y3f0j1mjrql',\n  'images': [{'height': 640,\n    'url': 'https://i.scdn.co/image/ab6761610000e5eb02b3aa55ba238b2ceafb09da',\n    'width': 640},\n   {'height': 320,\n    'url': 'https://i.scdn.co/image/ab6761610000517402b3aa55ba238b2ceafb09da',\n    'width': 320},\n   {'height': 160,\n    'url': 'https://i.scdn.co/image/ab6761610000f17802b3aa55ba238b2ceafb09da',\n    'width': 160}],\n  'name': 'Jay Chou',\n  'popularity': 73,\n  'type': 'artist',\n  'uri': 'spotify:artist:2elBjNSdBE2Y3f0j1mjrql'},\n {'external_urls': {'spotify': 'https://open.spotify.com/artist/2IDLDx25HU1nQMKde4n61a'},\n  'followers': {'href': None, 'total': 2060332},\n  'genres': ['indonesian hip hop'],\n  'href': 'https://api.spotify.com/v1/artists/2IDLDx25HU1nQMKde4n61a',\n  'id': '2IDLDx25HU1nQMKde4n61a',\n  'images': [{'height': 640,\n    'url': 'https://i.scdn.co/image/ab6761610000e5eb39d2db28841d007ee7f8d782',\n    'width': 640},\n   {'height': 320,\n    'url': 'https://i.scdn.co/image/ab6761610000517439d2db28841d007ee7f8d782',\n    'width': 320},\n   {'height': 160,\n    'url': 'https://i.scdn.co/image/ab6761610000f17839d2db28841d007ee7f8d782',\n    'width': 160}],\n  'name': 'Rich Brian',\n  'popularity': 70,\n  'type': 'artist',\n  'uri': 'spotify:artist:2IDLDx25HU1nQMKde4n61a'},\n {'external_urls': {'spotify': 'https://open.spotify.com/artist/1AhjOkOLkbHUfcHDSErXQs'},\n  'followers': {'href': None, 'total': 839894},\n  'genres': ['asian american hip hop'],\n  'href': 'https://api.spotify.com/v1/artists/1AhjOkOLkbHUfcHDSErXQs',\n  'id': '1AhjOkOLkbHUfcHDSErXQs',\n  'images': [{'height': 640,\n    'url': 'https://i.scdn.co/image/ab6761610000e5eb2f8dfdfeb85c3fc2d11b2ae2',\n    'width': 640},\n   {'height': 320,\n    'url': 'https://i.scdn.co/image/ab676161000051742f8dfdfeb85c3fc2d11b2ae2',\n    'width': 320},\n   {'height': 160,\n    'url': 'https://i.scdn.co/image/ab6761610000f1782f8dfdfeb85c3fc2d11b2ae2',\n    'width': 160}],\n  'name': '88rising',\n  'popularity': 69,\n  'type': 'artist',\n  'uri': 'spotify:artist:1AhjOkOLkbHUfcHDSErXQs'},\n {'external_urls': {'spotify': 'https://open.spotify.com/artist/2UqjDAXnDxejEyE0CzfUrZ'},\n  'followers': {'href': None, 'total': 497951},\n  'genres': ['classical', 'early romantic era', 'german romanticism'],\n  'href': 'https://api.spotify.com/v1/artists/2UqjDAXnDxejEyE0CzfUrZ',\n  'id': '2UqjDAXnDxejEyE0CzfUrZ',\n  'images': [{'height': 1106,\n    'url': 'https://i.scdn.co/image/795f15e4d860456a306055ccc995075c5dad9fa6',\n    'width': 1000},\n   {'height': 708,\n    'url': 'https://i.scdn.co/image/55c5a95549820a9d19f02c31e16e79fa9f2bc3dd',\n    'width': 640},\n   {'height': 221,\n    'url': 'https://i.scdn.co/image/f6e54b847e866ea410cfa19af2e270e6fe414df0',\n    'width': 200},\n   {'height': 71,\n    'url': 'https://i.scdn.co/image/4ed99d3b6ed0913e5ef534e28d4363826bd85f38',\n    'width': 64}],\n  'name': 'Robert Schumann',\n  'popularity': 61,\n  'type': 'artist',\n  'uri': 'spotify:artist:2UqjDAXnDxejEyE0CzfUrZ'},\n {'external_urls': {'spotify': 'https://open.spotify.com/artist/2UqjDAXnDxejEyE0CzfUrZ'},\n  'followers': {'href': None, 'total': 497951},\n  'genres': ['classical', 'early romantic era', 'german romanticism'],\n  'href': 'https://api.spotify.com/v1/artists/2UqjDAXnDxejEyE0CzfUrZ',\n  'id': '2UqjDAXnDxejEyE0CzfUrZ',\n  'images': [{'height': 1106,\n    'url': 'https://i.scdn.co/image/795f15e4d860456a306055ccc995075c5dad9fa6',\n    'width': 1000},\n   {'height': 708,\n    'url': 'https://i.scdn.co/image/55c5a95549820a9d19f02c31e16e79fa9f2bc3dd',\n    'width': 640},\n   {'height': 221,\n    'url': 'https://i.scdn.co/image/f6e54b847e866ea410cfa19af2e270e6fe414df0',\n    'width': 200},\n   {'height': 71,\n    'url': 'https://i.scdn.co/image/4ed99d3b6ed0913e5ef534e28d4363826bd85f38',\n    'width': 64}],\n  'name': 'Robert Schumann',\n  'popularity': 61,\n  'type': 'artist',\n  'uri': 'spotify:artist:2UqjDAXnDxejEyE0CzfUrZ'},\n {'external_urls': {'spotify': 'https://open.spotify.com/artist/2UqjDAXnDxejEyE0CzfUrZ'},\n  'followers': {'href': None, 'total': 497951},\n  'genres': ['classical', 'early romantic era', 'german romanticism'],\n  'href': 'https://api.spotify.com/v1/artists/2UqjDAXnDxejEyE0CzfUrZ',\n  'id': '2UqjDAXnDxejEyE0CzfUrZ',\n  'images': [{'height': 1106,\n    'url': 'https://i.scdn.co/image/795f15e4d860456a306055ccc995075c5dad9fa6',\n    'width': 1000},\n   {'height': 708,\n    'url': 'https://i.scdn.co/image/55c5a95549820a9d19f02c31e16e79fa9f2bc3dd',\n    'width': 640},\n   {'height': 221,\n    'url': 'https://i.scdn.co/image/f6e54b847e866ea410cfa19af2e270e6fe414df0',\n    'width': 200},\n   {'height': 71,\n    'url': 'https://i.scdn.co/image/4ed99d3b6ed0913e5ef534e28d4363826bd85f38',\n    'width': 64}],\n  'name': 'Robert Schumann',\n  'popularity': 61,\n  'type': 'artist',\n  'uri': 'spotify:artist:2UqjDAXnDxejEyE0CzfUrZ'},\n {'external_urls': {'spotify': 'https://open.spotify.com/artist/3MZsBdqDrRTJihTHQrO6Dq'},\n  'followers': {'href': None, 'total': 6828617},\n  'genres': ['viral pop'],\n  'href': 'https://api.spotify.com/v1/artists/3MZsBdqDrRTJihTHQrO6Dq',\n  'id': '3MZsBdqDrRTJihTHQrO6Dq',\n  'images': [{'height': 640,\n    'url': 'https://i.scdn.co/image/ab6761610000e5eb4111c95b5f430c3265c7304b',\n    'width': 640},\n   {'height': 320,\n    'url': 'https://i.scdn.co/image/ab676161000051744111c95b5f430c3265c7304b',\n    'width': 320},\n   {'height': 160,\n    'url': 'https://i.scdn.co/image/ab6761610000f1784111c95b5f430c3265c7304b',\n    'width': 160}],\n  'name': 'Joji',\n  'popularity': 85,\n  'type': 'artist',\n  'uri': 'spotify:artist:3MZsBdqDrRTJihTHQrO6Dq'},\n {'external_urls': {'spotify': 'https://open.spotify.com/artist/4DEItwf281SHmTnS8q3Mn9'},\n  'followers': {'href': None, 'total': 127213},\n  'genres': ['mandopop', 'taiwan pop', 'taiwan singer-songwriter'],\n  'href': 'https://api.spotify.com/v1/artists/4DEItwf281SHmTnS8q3Mn9',\n  'id': '4DEItwf281SHmTnS8q3Mn9',\n  'images': [{'height': 640,\n    'url': 'https://i.scdn.co/image/ab6761610000e5eb18f60a29d8ee0b7d5e52e70d',\n    'width': 640},\n   {'height': 320,\n    'url': 'https://i.scdn.co/image/ab6761610000517418f60a29d8ee0b7d5e52e70d',\n    'width': 320},\n   {'height': 160,\n    'url': 'https://i.scdn.co/image/ab6761610000f17818f60a29d8ee0b7d5e52e70d',\n    'width': 160}],\n  'name': 'J.Sheon',\n  'popularity': 47,\n  'type': 'artist',\n  'uri': 'spotify:artist:4DEItwf281SHmTnS8q3Mn9'},\n {'external_urls': {'spotify': 'https://open.spotify.com/artist/4DEItwf281SHmTnS8q3Mn9'},\n  'followers': {'href': None, 'total': 127213},\n  'genres': ['mandopop', 'taiwan pop', 'taiwan singer-songwriter'],\n  'href': 'https://api.spotify.com/v1/artists/4DEItwf281SHmTnS8q3Mn9',\n  'id': '4DEItwf281SHmTnS8q3Mn9',\n  'images': [{'height': 640,\n    'url': 'https://i.scdn.co/image/ab6761610000e5eb18f60a29d8ee0b7d5e52e70d',\n    'width': 640},\n   {'height': 320,\n    'url': 'https://i.scdn.co/image/ab6761610000517418f60a29d8ee0b7d5e52e70d',\n    'width': 320},\n   {'height': 160,\n    'url': 'https://i.scdn.co/image/ab6761610000f17818f60a29d8ee0b7d5e52e70d',\n    'width': 160}],\n  'name': 'J.Sheon',\n  'popularity': 47,\n  'type': 'artist',\n  'uri': 'spotify:artist:4DEItwf281SHmTnS8q3Mn9'},\n {'external_urls': {'spotify': 'https://open.spotify.com/artist/78EWtfjj7daNa4FrTSPQsD'},\n  'followers': {'href': None, 'total': 30625},\n  'genres': ['chinese hip hop', 'chinese viral pop'],\n  'href': 'https://api.spotify.com/v1/artists/78EWtfjj7daNa4FrTSPQsD',\n  'id': '78EWtfjj7daNa4FrTSPQsD',\n  'images': [{'height': 640,\n    'url': 'https://i.scdn.co/image/ab6761610000e5ebbebe2fbbb9e99ab01bc47f31',\n    'width': 640},\n   {'height': 320,\n    'url': 'https://i.scdn.co/image/ab67616100005174bebe2fbbb9e99ab01bc47f31',\n    'width': 320},\n   {'height': 160,\n    'url': 'https://i.scdn.co/image/ab6761610000f178bebe2fbbb9e99ab01bc47f31',\n    'width': 160}],\n  'name': 'Ryan.B',\n  'popularity': 46,\n  'type': 'artist',\n  'uri': 'spotify:artist:78EWtfjj7daNa4FrTSPQsD'},\n {'external_urls': {'spotify': 'https://open.spotify.com/artist/5K4W6rqBFWDnAN6FQUkS6x'},\n  'followers': {'href': None, 'total': 18142698},\n  'genres': ['chicago rap', 'rap'],\n  'href': 'https://api.spotify.com/v1/artists/5K4W6rqBFWDnAN6FQUkS6x',\n  'id': '5K4W6rqBFWDnAN6FQUkS6x',\n  'images': [{'height': 640,\n    'url': 'https://i.scdn.co/image/ab6761610000e5eb867008a971fae0f4d913f63a',\n    'width': 640},\n   {'height': 320,\n    'url': 'https://i.scdn.co/image/ab67616100005174867008a971fae0f4d913f63a',\n    'width': 320},\n   {'height': 160,\n    'url': 'https://i.scdn.co/image/ab6761610000f178867008a971fae0f4d913f63a',\n    'width': 160}],\n  'name': 'Kanye West',\n  'popularity': 90,\n  'type': 'artist',\n  'uri': 'spotify:artist:5K4W6rqBFWDnAN6FQUkS6x'},\n {'external_urls': {'spotify': 'https://open.spotify.com/artist/6l3HvQ5sa6mXTsMTB19rO5'},\n  'followers': {'href': None, 'total': 17738788},\n  'genres': ['conscious hip hop', 'hip hop', 'north carolina hip hop', 'rap'],\n  'href': 'https://api.spotify.com/v1/artists/6l3HvQ5sa6mXTsMTB19rO5',\n  'id': '6l3HvQ5sa6mXTsMTB19rO5',\n  'images': [{'height': 640,\n    'url': 'https://i.scdn.co/image/ab6761610000e5ebadd503b411a712e277895c8a',\n    'width': 640},\n   {'height': 320,\n    'url': 'https://i.scdn.co/image/ab67616100005174add503b411a712e277895c8a',\n    'width': 320},\n   {'height': 160,\n    'url': 'https://i.scdn.co/image/ab6761610000f178add503b411a712e277895c8a',\n    'width': 160}],\n  'name': 'J. Cole',\n  'popularity': 85,\n  'type': 'artist',\n  'uri': 'spotify:artist:6l3HvQ5sa6mXTsMTB19rO5'},\n {'external_urls': {'spotify': 'https://open.spotify.com/artist/6l3HvQ5sa6mXTsMTB19rO5'},\n  'followers': {'href': None, 'total': 17738788},\n  'genres': ['conscious hip hop', 'hip hop', 'north carolina hip hop', 'rap'],\n  'href': 'https://api.spotify.com/v1/artists/6l3HvQ5sa6mXTsMTB19rO5',\n  'id': '6l3HvQ5sa6mXTsMTB19rO5',\n  'images': [{'height': 640,\n    'url': 'https://i.scdn.co/image/ab6761610000e5ebadd503b411a712e277895c8a',\n    'width': 640},\n   {'height': 320,\n    'url': 'https://i.scdn.co/image/ab67616100005174add503b411a712e277895c8a',\n    'width': 320},\n   {'height': 160,\n    'url': 'https://i.scdn.co/image/ab6761610000f178add503b411a712e277895c8a',\n    'width': 160}],\n  'name': 'J. Cole',\n  'popularity': 85,\n  'type': 'artist',\n  'uri': 'spotify:artist:6l3HvQ5sa6mXTsMTB19rO5'},\n {'external_urls': {'spotify': 'https://open.spotify.com/artist/6l3HvQ5sa6mXTsMTB19rO5'},\n  'followers': {'href': None, 'total': 17738788},\n  'genres': ['conscious hip hop', 'hip hop', 'north carolina hip hop', 'rap'],\n  'href': 'https://api.spotify.com/v1/artists/6l3HvQ5sa6mXTsMTB19rO5',\n  'id': '6l3HvQ5sa6mXTsMTB19rO5',\n  'images': [{'height': 640,\n    'url': 'https://i.scdn.co/image/ab6761610000e5ebadd503b411a712e277895c8a',\n    'width': 640},\n   {'height': 320,\n    'url': 'https://i.scdn.co/image/ab67616100005174add503b411a712e277895c8a',\n    'width': 320},\n   {'height': 160,\n    'url': 'https://i.scdn.co/image/ab6761610000f178add503b411a712e277895c8a',\n    'width': 160}],\n  'name': 'J. Cole',\n  'popularity': 85,\n  'type': 'artist',\n  'uri': 'spotify:artist:6l3HvQ5sa6mXTsMTB19rO5'},\n {'external_urls': {'spotify': 'https://open.spotify.com/artist/6l3HvQ5sa6mXTsMTB19rO5'},\n  'followers': {'href': None, 'total': 17738788},\n  'genres': ['conscious hip hop', 'hip hop', 'north carolina hip hop', 'rap'],\n  'href': 'https://api.spotify.com/v1/artists/6l3HvQ5sa6mXTsMTB19rO5',\n  'id': '6l3HvQ5sa6mXTsMTB19rO5',\n  'images': [{'height': 640,\n    'url': 'https://i.scdn.co/image/ab6761610000e5ebadd503b411a712e277895c8a',\n    'width': 640},\n   {'height': 320,\n    'url': 'https://i.scdn.co/image/ab67616100005174add503b411a712e277895c8a',\n    'width': 320},\n   {'height': 160,\n    'url': 'https://i.scdn.co/image/ab6761610000f178add503b411a712e277895c8a',\n    'width': 160}],\n  'name': 'J. Cole',\n  'popularity': 85,\n  'type': 'artist',\n  'uri': 'spotify:artist:6l3HvQ5sa6mXTsMTB19rO5'},\n {'external_urls': {'spotify': 'https://open.spotify.com/artist/7vfydQ0nVBVgJ0ajs8EtRM'},\n  'followers': {'href': None, 'total': 31526},\n  'genres': ['classical', 'classical era', 'early music', 'galante era'],\n  'href': 'https://api.spotify.com/v1/artists/7vfydQ0nVBVgJ0ajs8EtRM',\n  'id': '7vfydQ0nVBVgJ0ajs8EtRM',\n  'images': [{'height': 1000,\n    'url': 'https://i.scdn.co/image/48b9b2909457ffacdd795badab855875c73dbab5',\n    'width': 1000},\n   {'height': 640,\n    'url': 'https://i.scdn.co/image/cd535906caf6709807b6cea01469a4a62b35e467',\n    'width': 640},\n   {'height': 200,\n    'url': 'https://i.scdn.co/image/d5e86132cb4cb9620ae2adc594c33d1140b1b7af',\n    'width': 200},\n   {'height': 64,\n    'url': 'https://i.scdn.co/image/4168882ff88aa27cfda062e6cdd2bf24f0b494c7',\n    'width': 64}],\n  'name': 'Christoph Willibald Gluck',\n  'popularity': 51,\n  'type': 'artist',\n  'uri': 'spotify:artist:7vfydQ0nVBVgJ0ajs8EtRM'},\n {'external_urls': {'spotify': 'https://open.spotify.com/artist/2yzaWNFV3cxmcRZtwtr5WC'},\n  'followers': {'href': None, 'total': 20671},\n  'genres': ['early romantic era', 'german romanticism'],\n  'href': 'https://api.spotify.com/v1/artists/2yzaWNFV3cxmcRZtwtr5WC',\n  'id': '2yzaWNFV3cxmcRZtwtr5WC',\n  'images': [{'height': 1159,\n    'url': 'https://i.scdn.co/image/08c9068e3e64a29e3e613a80057fd8408cfc363e',\n    'width': 828},\n   {'height': 896,\n    'url': 'https://i.scdn.co/image/725e5ca806465643c15199a52836ea258efa8f84',\n    'width': 640},\n   {'height': 280,\n    'url': 'https://i.scdn.co/image/5a1548643b5f13536846bb925fbfdfa9d6302b03',\n    'width': 200},\n   {'height': 90,\n    'url': 'https://i.scdn.co/image/9bfb39b522bbdebd8c8f712184ce885668459543',\n    'width': 64}],\n  'name': 'Clara Schumann',\n  'popularity': 46,\n  'type': 'artist',\n  'uri': 'spotify:artist:2yzaWNFV3cxmcRZtwtr5WC'},\n {'external_urls': {'spotify': 'https://open.spotify.com/artist/6UbmqUEgjLA6jAcXwbM1Z9'},\n  'followers': {'href': None, 'total': 481208},\n  'genres': ['k-pop', 'korean r&b'],\n  'href': 'https://api.spotify.com/v1/artists/6UbmqUEgjLA6jAcXwbM1Z9',\n  'id': '6UbmqUEgjLA6jAcXwbM1Z9',\n  'images': [{'height': 640,\n    'url': 'https://i.scdn.co/image/ab6761610000e5eb5233361075d4e8b0fdb3097c',\n    'width': 640},\n   {'height': 320,\n    'url': 'https://i.scdn.co/image/ab676161000051745233361075d4e8b0fdb3097c',\n    'width': 320},\n   {'height': 160,\n    'url': 'https://i.scdn.co/image/ab6761610000f1785233361075d4e8b0fdb3097c',\n    'width': 160}],\n  'name': 'BIBI',\n  'popularity': 65,\n  'type': 'artist',\n  'uri': 'spotify:artist:6UbmqUEgjLA6jAcXwbM1Z9'}]"
     },
     "execution_count": 22,
     "metadata": {},
     "output_type": "execute_result"
    }
   ],
   "source": [
    "artists_features # check what data are in the list"
   ],
   "metadata": {
    "collapsed": false,
    "pycharm": {
     "name": "#%%\n"
    }
   }
  },
  {
   "cell_type": "code",
   "execution_count": 23,
   "outputs": [
    {
     "data": {
      "text/plain": "dict_keys(['external_urls', 'followers', 'genres', 'href', 'id', 'images', 'name', 'popularity', 'type', 'uri'])"
     },
     "execution_count": 23,
     "metadata": {},
     "output_type": "execute_result"
    }
   ],
   "source": [
    "artists_features[0].keys() # check keys in the list"
   ],
   "metadata": {
    "collapsed": false,
    "pycharm": {
     "name": "#%%\n"
    }
   }
  },
  {
   "cell_type": "code",
   "execution_count": 24,
   "outputs": [],
   "source": [
    "for i in range(100): # use for loop to append the data I need to the empty lists created at the beginning. As 100 is the limit of the value I can get from Spotify API, the range is till 100.\n",
    "    followers.append(artists_features[i]['followers']['total']) # append the value of followers of each artist into the empty list of followers\n",
    "    genres.append(artists_features[i]['genres']) # append the genres of each artist into the empty list of genres\n",
    "    id.append(artists_features[i]['id']) # append the id of each artist into the empty list of id\n",
    "    artist_name.append(artists_features[i]['name']) # append the name of each artist into the empty list of artist_name\n",
    "    artist_popularity.append(artists_features[i]['popularity']) # append the value of popularity of each artist into the empty list of artist_popularity\n",
    "    artist_url.append(artists_features[i]['href']) # append the value of href of each artist into the empty list of artist_url"
   ],
   "metadata": {
    "collapsed": false,
    "pycharm": {
     "name": "#%%\n"
    }
   }
  },
  {
   "cell_type": "code",
   "execution_count": 25,
   "outputs": [],
   "source": [
    "# create a dataframe regarding the dictionary\n",
    "df_artists_features_dic = pd.DataFrame(artists_features_dic)"
   ],
   "metadata": {
    "collapsed": false,
    "pycharm": {
     "name": "#%%\n"
    }
   }
  },
  {
   "cell_type": "code",
   "execution_count": 26,
   "outputs": [],
   "source": [
    "#save the dataframe as csv file in the local drive\n",
    "df_artists_features_dic.to_csv('artists_features.csv', index = False)"
   ],
   "metadata": {
    "collapsed": false,
    "pycharm": {
     "name": "#%%\n"
    }
   }
  },
  {
   "cell_type": "code",
   "execution_count": 30,
   "outputs": [
    {
     "data": {
      "text/plain": "   followers                                             genres  \\\n0   20044493                           [dance pop, pop, uk pop]   \n1   21552164                                   [dance pop, pop]   \n2    6828617                                        [viral pop]   \n3   21436080  [conscious hip hop, hip hop, rap, west coast rap]   \n4     110514  [chinese indie, mandopop, taiwan hip hop, taiw...   \n\n                       id     artist_name  artist_popularity  \\\n0  2wY79sveU1sp5g7SokKOiI       Sam Smith                 82   \n1  5cj0lLjcoR7YOSnhnX0Po5        Doja Cat                 88   \n2  3MZsBdqDrRTJihTHQrO6Dq            Joji                 85   \n3  2YZyLoL8N0Wb9xBt1NhZWg  Kendrick Lamar                 88   \n4  3Xp3DA50zRP4TYOtNR7k1T       Soft Lipa                 45   \n\n                                          artist_url  \n0  https://api.spotify.com/v1/artists/2wY79sveU1s...  \n1  https://api.spotify.com/v1/artists/5cj0lLjcoR7...  \n2  https://api.spotify.com/v1/artists/3MZsBdqDrRT...  \n3  https://api.spotify.com/v1/artists/2YZyLoL8N0W...  \n4  https://api.spotify.com/v1/artists/3Xp3DA50zRP...  ",
      "text/html": "<div>\n<style scoped>\n    .dataframe tbody tr th:only-of-type {\n        vertical-align: middle;\n    }\n\n    .dataframe tbody tr th {\n        vertical-align: top;\n    }\n\n    .dataframe thead th {\n        text-align: right;\n    }\n</style>\n<table border=\"1\" class=\"dataframe\">\n  <thead>\n    <tr style=\"text-align: right;\">\n      <th></th>\n      <th>followers</th>\n      <th>genres</th>\n      <th>id</th>\n      <th>artist_name</th>\n      <th>artist_popularity</th>\n      <th>artist_url</th>\n    </tr>\n  </thead>\n  <tbody>\n    <tr>\n      <th>0</th>\n      <td>20044493</td>\n      <td>[dance pop, pop, uk pop]</td>\n      <td>2wY79sveU1sp5g7SokKOiI</td>\n      <td>Sam Smith</td>\n      <td>82</td>\n      <td>https://api.spotify.com/v1/artists/2wY79sveU1s...</td>\n    </tr>\n    <tr>\n      <th>1</th>\n      <td>21552164</td>\n      <td>[dance pop, pop]</td>\n      <td>5cj0lLjcoR7YOSnhnX0Po5</td>\n      <td>Doja Cat</td>\n      <td>88</td>\n      <td>https://api.spotify.com/v1/artists/5cj0lLjcoR7...</td>\n    </tr>\n    <tr>\n      <th>2</th>\n      <td>6828617</td>\n      <td>[viral pop]</td>\n      <td>3MZsBdqDrRTJihTHQrO6Dq</td>\n      <td>Joji</td>\n      <td>85</td>\n      <td>https://api.spotify.com/v1/artists/3MZsBdqDrRT...</td>\n    </tr>\n    <tr>\n      <th>3</th>\n      <td>21436080</td>\n      <td>[conscious hip hop, hip hop, rap, west coast rap]</td>\n      <td>2YZyLoL8N0Wb9xBt1NhZWg</td>\n      <td>Kendrick Lamar</td>\n      <td>88</td>\n      <td>https://api.spotify.com/v1/artists/2YZyLoL8N0W...</td>\n    </tr>\n    <tr>\n      <th>4</th>\n      <td>110514</td>\n      <td>[chinese indie, mandopop, taiwan hip hop, taiw...</td>\n      <td>3Xp3DA50zRP4TYOtNR7k1T</td>\n      <td>Soft Lipa</td>\n      <td>45</td>\n      <td>https://api.spotify.com/v1/artists/3Xp3DA50zRP...</td>\n    </tr>\n  </tbody>\n</table>\n</div>"
     },
     "execution_count": 30,
     "metadata": {},
     "output_type": "execute_result"
    }
   ],
   "source": [
    "df_artists_features_dic.head() # check the dataframe"
   ],
   "metadata": {
    "collapsed": false,
    "pycharm": {
     "name": "#%%\n"
    }
   }
  },
  {
   "cell_type": "markdown",
   "source": [
    "## Get Toptracks of the artists"
   ],
   "metadata": {
    "collapsed": false,
    "pycharm": {
     "name": "#%% md\n"
    }
   }
  },
  {
   "cell_type": "code",
   "execution_count": 31,
   "outputs": [],
   "source": [
    "# create a function to request the toptracks of the artists in my playlist\n",
    "def get_toptracks(token,artist_id):\n",
    "    toptracks_endpoint = f'\thttps://api.spotify.com/v1/artists/{artist_id}/top-tracks?market=GB'\n",
    "    get_header = {\n",
    "        'Authorization': f'Bearer {token}',\n",
    "        'Content-Type': 'application/json',\n",
    "        'Accept': 'application/json'\n",
    "\n",
    "    }\n",
    "    r = requests.get(toptracks_endpoint, headers = get_header, )\n",
    "    toptracks_response = r.json()\n",
    "    return toptracks_response"
   ],
   "metadata": {
    "collapsed": false,
    "pycharm": {
     "name": "#%%\n"
    }
   }
  },
  {
   "cell_type": "code",
   "execution_count": 32,
   "outputs": [],
   "source": [
    "toptracks = [] # create an empty list\n",
    "token = access_token\n",
    "for artist_id in df_tracklist['artist_id']: # use for loop to loop the function with artist_id I have from the first dataframe df_tracklist\n",
    "    toptracks_list = get_toptracks(token, artist_id ) # assign the data I get by the function each loop\n",
    "    toptracks.append(toptracks_list) # append all the data I got of each artist_id  in terms of the top tracks into the empty list toptracks"
   ],
   "metadata": {
    "collapsed": false,
    "pycharm": {
     "name": "#%%\n"
    }
   }
  },
  {
   "cell_type": "code",
   "execution_count": 33,
   "outputs": [
    {
     "data": {
      "text/plain": "dict_keys(['album', 'artists', 'disc_number', 'duration_ms', 'explicit', 'external_ids', 'external_urls', 'href', 'id', 'is_local', 'is_playable', 'name', 'popularity', 'preview_url', 'track_number', 'type', 'uri'])"
     },
     "execution_count": 33,
     "metadata": {},
     "output_type": "execute_result"
    }
   ],
   "source": [
    "toptracks[1]['tracks'][9].keys() # check the keys of each track from the list"
   ],
   "metadata": {
    "collapsed": false,
    "pycharm": {
     "name": "#%%\n"
    }
   }
  },
  {
   "cell_type": "code",
   "execution_count": 34,
   "outputs": [
    {
     "data": {
      "text/plain": "{'tracks': [{'album': {'album_type': 'single',\n    'artists': [{'external_urls': {'spotify': 'https://open.spotify.com/artist/1AhjOkOLkbHUfcHDSErXQs'},\n      'href': 'https://api.spotify.com/v1/artists/1AhjOkOLkbHUfcHDSErXQs',\n      'id': '1AhjOkOLkbHUfcHDSErXQs',\n      'name': '88rising',\n      'type': 'artist',\n      'uri': 'spotify:artist:1AhjOkOLkbHUfcHDSErXQs'},\n     {'external_urls': {'spotify': 'https://open.spotify.com/artist/6UbmqUEgjLA6jAcXwbM1Z9'},\n      'href': 'https://api.spotify.com/v1/artists/6UbmqUEgjLA6jAcXwbM1Z9',\n      'id': '6UbmqUEgjLA6jAcXwbM1Z9',\n      'name': 'BIBI',\n      'type': 'artist',\n      'uri': 'spotify:artist:6UbmqUEgjLA6jAcXwbM1Z9'}],\n    'external_urls': {'spotify': 'https://open.spotify.com/album/6zQD9g698P2LjEtKpoBXWq'},\n    'href': 'https://api.spotify.com/v1/albums/6zQD9g698P2LjEtKpoBXWq',\n    'id': '6zQD9g698P2LjEtKpoBXWq',\n    'images': [{'height': 640,\n      'url': 'https://i.scdn.co/image/ab67616d0000b273d373d58ad02ede9bfba2dbb5',\n      'width': 640},\n     {'height': 300,\n      'url': 'https://i.scdn.co/image/ab67616d00001e02d373d58ad02ede9bfba2dbb5',\n      'width': 300},\n     {'height': 64,\n      'url': 'https://i.scdn.co/image/ab67616d00004851d373d58ad02ede9bfba2dbb5',\n      'width': 64}],\n    'name': 'The Weekend',\n    'release_date': '2021-10-14',\n    'release_date_precision': 'day',\n    'total_tracks': 1,\n    'type': 'album',\n    'uri': 'spotify:album:6zQD9g698P2LjEtKpoBXWq'},\n   'artists': [{'external_urls': {'spotify': 'https://open.spotify.com/artist/1AhjOkOLkbHUfcHDSErXQs'},\n     'href': 'https://api.spotify.com/v1/artists/1AhjOkOLkbHUfcHDSErXQs',\n     'id': '1AhjOkOLkbHUfcHDSErXQs',\n     'name': '88rising',\n     'type': 'artist',\n     'uri': 'spotify:artist:1AhjOkOLkbHUfcHDSErXQs'},\n    {'external_urls': {'spotify': 'https://open.spotify.com/artist/6UbmqUEgjLA6jAcXwbM1Z9'},\n     'href': 'https://api.spotify.com/v1/artists/6UbmqUEgjLA6jAcXwbM1Z9',\n     'id': '6UbmqUEgjLA6jAcXwbM1Z9',\n     'name': 'BIBI',\n     'type': 'artist',\n     'uri': 'spotify:artist:6UbmqUEgjLA6jAcXwbM1Z9'}],\n   'disc_number': 1,\n   'duration_ms': 167661,\n   'explicit': True,\n   'external_ids': {'isrc': 'USWB12103706'},\n   'external_urls': {'spotify': 'https://open.spotify.com/track/5q3LwAHTqo9d3rET2EA9Nq'},\n   'href': 'https://api.spotify.com/v1/tracks/5q3LwAHTqo9d3rET2EA9Nq',\n   'id': '5q3LwAHTqo9d3rET2EA9Nq',\n   'is_local': False,\n   'is_playable': True,\n   'name': 'The Weekend',\n   'popularity': 69,\n   'preview_url': 'https://p.scdn.co/mp3-preview/6d55bfa417372b1f14a5f8462caf4970b35a3da8?cid=8ee26094be3742b3a7870f9bb7174c0f',\n   'track_number': 1,\n   'type': 'track',\n   'uri': 'spotify:track:5q3LwAHTqo9d3rET2EA9Nq'},\n  {'album': {'album_type': 'single',\n    'artists': [{'external_urls': {'spotify': 'https://open.spotify.com/artist/1AhjOkOLkbHUfcHDSErXQs'},\n      'href': 'https://api.spotify.com/v1/artists/1AhjOkOLkbHUfcHDSErXQs',\n      'id': '1AhjOkOLkbHUfcHDSErXQs',\n      'name': '88rising',\n      'type': 'artist',\n      'uri': 'spotify:artist:1AhjOkOLkbHUfcHDSErXQs'}],\n    'external_urls': {'spotify': 'https://open.spotify.com/album/0LxjjZ20pPOakBSYwrmbjv'},\n    'href': 'https://api.spotify.com/v1/albums/0LxjjZ20pPOakBSYwrmbjv',\n    'id': '0LxjjZ20pPOakBSYwrmbjv',\n    'images': [{'height': 640,\n      'url': 'https://i.scdn.co/image/ab67616d0000b27337f52943ae8411665e041bad',\n      'width': 640},\n     {'height': 300,\n      'url': 'https://i.scdn.co/image/ab67616d00001e0237f52943ae8411665e041bad',\n      'width': 300},\n     {'height': 64,\n      'url': 'https://i.scdn.co/image/ab67616d0000485137f52943ae8411665e041bad',\n      'width': 64}],\n    'name': 'Head In The Clouds Forever',\n    'release_date': '2022-04-16',\n    'release_date_precision': 'day',\n    'total_tracks': 3,\n    'type': 'album',\n    'uri': 'spotify:album:0LxjjZ20pPOakBSYwrmbjv'},\n   'artists': [{'external_urls': {'spotify': 'https://open.spotify.com/artist/1AhjOkOLkbHUfcHDSErXQs'},\n     'href': 'https://api.spotify.com/v1/artists/1AhjOkOLkbHUfcHDSErXQs',\n     'id': '1AhjOkOLkbHUfcHDSErXQs',\n     'name': '88rising',\n     'type': 'artist',\n     'uri': 'spotify:artist:1AhjOkOLkbHUfcHDSErXQs'},\n    {'external_urls': {'spotify': 'https://open.spotify.com/artist/6UbmqUEgjLA6jAcXwbM1Z9'},\n     'href': 'https://api.spotify.com/v1/artists/6UbmqUEgjLA6jAcXwbM1Z9',\n     'id': '6UbmqUEgjLA6jAcXwbM1Z9',\n     'name': 'BIBI',\n     'type': 'artist',\n     'uri': 'spotify:artist:6UbmqUEgjLA6jAcXwbM1Z9'}],\n   'disc_number': 1,\n   'duration_ms': 152910,\n   'explicit': True,\n   'external_ids': {'isrc': 'USWB12201362'},\n   'external_urls': {'spotify': 'https://open.spotify.com/track/0iWFz0Q5Qha9bx325ocFWq'},\n   'href': 'https://api.spotify.com/v1/tracks/0iWFz0Q5Qha9bx325ocFWq',\n   'id': '0iWFz0Q5Qha9bx325ocFWq',\n   'is_local': False,\n   'is_playable': True,\n   'name': 'Best Lover',\n   'popularity': 65,\n   'preview_url': 'https://p.scdn.co/mp3-preview/26e62d14f808f99955ecb985817b63ecf743e5f6?cid=8ee26094be3742b3a7870f9bb7174c0f',\n   'track_number': 1,\n   'type': 'track',\n   'uri': 'spotify:track:0iWFz0Q5Qha9bx325ocFWq'},\n  {'album': {'album_type': 'single',\n    'artists': [{'external_urls': {'spotify': 'https://open.spotify.com/artist/6UbmqUEgjLA6jAcXwbM1Z9'},\n      'href': 'https://api.spotify.com/v1/artists/6UbmqUEgjLA6jAcXwbM1Z9',\n      'id': '6UbmqUEgjLA6jAcXwbM1Z9',\n      'name': 'BIBI',\n      'type': 'artist',\n      'uri': 'spotify:artist:6UbmqUEgjLA6jAcXwbM1Z9'}],\n    'external_urls': {'spotify': 'https://open.spotify.com/album/1f9cws6SZ0iKoHrcmn39ZY'},\n    'href': 'https://api.spotify.com/v1/albums/1f9cws6SZ0iKoHrcmn39ZY',\n    'id': '1f9cws6SZ0iKoHrcmn39ZY',\n    'images': [{'height': 640,\n      'url': 'https://i.scdn.co/image/ab67616d0000b273ba84f2821a0c0ff527121229',\n      'width': 640},\n     {'height': 300,\n      'url': 'https://i.scdn.co/image/ab67616d00001e02ba84f2821a0c0ff527121229',\n      'width': 300},\n     {'height': 64,\n      'url': 'https://i.scdn.co/image/ab67616d00004851ba84f2821a0c0ff527121229',\n      'width': 64}],\n    'name': 'KAZINO',\n    'release_date': '2020-04-29',\n    'release_date_precision': 'day',\n    'total_tracks': 1,\n    'type': 'album',\n    'uri': 'spotify:album:1f9cws6SZ0iKoHrcmn39ZY'},\n   'artists': [{'external_urls': {'spotify': 'https://open.spotify.com/artist/6UbmqUEgjLA6jAcXwbM1Z9'},\n     'href': 'https://api.spotify.com/v1/artists/6UbmqUEgjLA6jAcXwbM1Z9',\n     'id': '6UbmqUEgjLA6jAcXwbM1Z9',\n     'name': 'BIBI',\n     'type': 'artist',\n     'uri': 'spotify:artist:6UbmqUEgjLA6jAcXwbM1Z9'}],\n   'disc_number': 1,\n   'duration_ms': 185946,\n   'explicit': False,\n   'external_ids': {'isrc': 'KRA382001273'},\n   'external_urls': {'spotify': 'https://open.spotify.com/track/245onUPHGD1DYuiacxTuW0'},\n   'href': 'https://api.spotify.com/v1/tracks/245onUPHGD1DYuiacxTuW0',\n   'id': '245onUPHGD1DYuiacxTuW0',\n   'is_local': False,\n   'is_playable': True,\n   'name': 'KAZINO',\n   'popularity': 65,\n   'preview_url': 'https://p.scdn.co/mp3-preview/89992342fbbc16c559413f10a25a985b309a02b3?cid=8ee26094be3742b3a7870f9bb7174c0f',\n   'track_number': 1,\n   'type': 'track',\n   'uri': 'spotify:track:245onUPHGD1DYuiacxTuW0'},\n  {'album': {'album_type': 'single',\n    'artists': [{'external_urls': {'spotify': 'https://open.spotify.com/artist/6UbmqUEgjLA6jAcXwbM1Z9'},\n      'href': 'https://api.spotify.com/v1/artists/6UbmqUEgjLA6jAcXwbM1Z9',\n      'id': '6UbmqUEgjLA6jAcXwbM1Z9',\n      'name': 'BIBI',\n      'type': 'artist',\n      'uri': 'spotify:artist:6UbmqUEgjLA6jAcXwbM1Z9'}],\n    'external_urls': {'spotify': 'https://open.spotify.com/album/0VDb4oas0usbuPljrSZH5s'},\n    'href': 'https://api.spotify.com/v1/albums/0VDb4oas0usbuPljrSZH5s',\n    'id': '0VDb4oas0usbuPljrSZH5s',\n    'images': [{'height': 640,\n      'url': 'https://i.scdn.co/image/ab67616d0000b2735ab0f207b5e583a951915b2d',\n      'width': 640},\n     {'height': 300,\n      'url': 'https://i.scdn.co/image/ab67616d00001e025ab0f207b5e583a951915b2d',\n      'width': 300},\n     {'height': 64,\n      'url': 'https://i.scdn.co/image/ab67616d000048515ab0f207b5e583a951915b2d',\n      'width': 64}],\n    'name': 'Life is a Bi…',\n    'release_date': '2021-04-28',\n    'release_date_precision': 'day',\n    'total_tracks': 5,\n    'type': 'album',\n    'uri': 'spotify:album:0VDb4oas0usbuPljrSZH5s'},\n   'artists': [{'external_urls': {'spotify': 'https://open.spotify.com/artist/6UbmqUEgjLA6jAcXwbM1Z9'},\n     'href': 'https://api.spotify.com/v1/artists/6UbmqUEgjLA6jAcXwbM1Z9',\n     'id': '6UbmqUEgjLA6jAcXwbM1Z9',\n     'name': 'BIBI',\n     'type': 'artist',\n     'uri': 'spotify:artist:6UbmqUEgjLA6jAcXwbM1Z9'}],\n   'disc_number': 1,\n   'duration_ms': 154988,\n   'explicit': False,\n   'external_ids': {'isrc': 'KRA382103026'},\n   'external_urls': {'spotify': 'https://open.spotify.com/track/0zPbUxvYRlCGwruakkXPLI'},\n   'href': 'https://api.spotify.com/v1/tracks/0zPbUxvYRlCGwruakkXPLI',\n   'id': '0zPbUxvYRlCGwruakkXPLI',\n   'is_local': False,\n   'is_playable': True,\n   'name': 'BAD SAD AND MAD',\n   'popularity': 63,\n   'preview_url': 'https://p.scdn.co/mp3-preview/119c459f9cb949b25a32105687cc28195483c5fd?cid=8ee26094be3742b3a7870f9bb7174c0f',\n   'track_number': 2,\n   'type': 'track',\n   'uri': 'spotify:track:0zPbUxvYRlCGwruakkXPLI'},\n  {'album': {'album_type': 'single',\n    'artists': [{'external_urls': {'spotify': 'https://open.spotify.com/artist/1AhjOkOLkbHUfcHDSErXQs'},\n      'href': 'https://api.spotify.com/v1/artists/1AhjOkOLkbHUfcHDSErXQs',\n      'id': '1AhjOkOLkbHUfcHDSErXQs',\n      'name': '88rising',\n      'type': 'artist',\n      'uri': 'spotify:artist:1AhjOkOLkbHUfcHDSErXQs'},\n     {'external_urls': {'spotify': 'https://open.spotify.com/artist/6UbmqUEgjLA6jAcXwbM1Z9'},\n      'href': 'https://api.spotify.com/v1/artists/6UbmqUEgjLA6jAcXwbM1Z9',\n      'id': '6UbmqUEgjLA6jAcXwbM1Z9',\n      'name': 'BIBI',\n      'type': 'artist',\n      'uri': 'spotify:artist:6UbmqUEgjLA6jAcXwbM1Z9'},\n     {'external_urls': {'spotify': 'https://open.spotify.com/artist/1eVPKI2R4NlX6P5FIuMXis'},\n      'href': 'https://api.spotify.com/v1/artists/1eVPKI2R4NlX6P5FIuMXis',\n      'id': '1eVPKI2R4NlX6P5FIuMXis',\n      'name': 'MILLI',\n      'type': 'artist',\n      'uri': 'spotify:artist:1eVPKI2R4NlX6P5FIuMXis'}],\n    'external_urls': {'spotify': 'https://open.spotify.com/album/4d6HwJXZUDUPC46qWPwTbq'},\n    'href': 'https://api.spotify.com/v1/albums/4d6HwJXZUDUPC46qWPwTbq',\n    'id': '4d6HwJXZUDUPC46qWPwTbq',\n    'images': [{'height': 640,\n      'url': 'https://i.scdn.co/image/ab67616d0000b2738fad9cf6de1cd1ceed0104c4',\n      'width': 640},\n     {'height': 300,\n      'url': 'https://i.scdn.co/image/ab67616d00001e028fad9cf6de1cd1ceed0104c4',\n      'width': 300},\n     {'height': 64,\n      'url': 'https://i.scdn.co/image/ab67616d000048518fad9cf6de1cd1ceed0104c4',\n      'width': 64}],\n    'name': 'The Weekend (MILLI Remix)',\n    'release_date': '2022-01-18',\n    'release_date_precision': 'day',\n    'total_tracks': 1,\n    'type': 'album',\n    'uri': 'spotify:album:4d6HwJXZUDUPC46qWPwTbq'},\n   'artists': [{'external_urls': {'spotify': 'https://open.spotify.com/artist/1AhjOkOLkbHUfcHDSErXQs'},\n     'href': 'https://api.spotify.com/v1/artists/1AhjOkOLkbHUfcHDSErXQs',\n     'id': '1AhjOkOLkbHUfcHDSErXQs',\n     'name': '88rising',\n     'type': 'artist',\n     'uri': 'spotify:artist:1AhjOkOLkbHUfcHDSErXQs'},\n    {'external_urls': {'spotify': 'https://open.spotify.com/artist/6UbmqUEgjLA6jAcXwbM1Z9'},\n     'href': 'https://api.spotify.com/v1/artists/6UbmqUEgjLA6jAcXwbM1Z9',\n     'id': '6UbmqUEgjLA6jAcXwbM1Z9',\n     'name': 'BIBI',\n     'type': 'artist',\n     'uri': 'spotify:artist:6UbmqUEgjLA6jAcXwbM1Z9'},\n    {'external_urls': {'spotify': 'https://open.spotify.com/artist/1eVPKI2R4NlX6P5FIuMXis'},\n     'href': 'https://api.spotify.com/v1/artists/1eVPKI2R4NlX6P5FIuMXis',\n     'id': '1eVPKI2R4NlX6P5FIuMXis',\n     'name': 'MILLI',\n     'type': 'artist',\n     'uri': 'spotify:artist:1eVPKI2R4NlX6P5FIuMXis'}],\n   'disc_number': 1,\n   'duration_ms': 168852,\n   'explicit': False,\n   'external_ids': {'isrc': 'USWB12200111'},\n   'external_urls': {'spotify': 'https://open.spotify.com/track/1XVQu6SXMMEJ3nc9BOGhgk'},\n   'href': 'https://api.spotify.com/v1/tracks/1XVQu6SXMMEJ3nc9BOGhgk',\n   'id': '1XVQu6SXMMEJ3nc9BOGhgk',\n   'is_local': False,\n   'is_playable': True,\n   'name': 'The Weekend - MILLI Remix',\n   'popularity': 63,\n   'preview_url': 'https://p.scdn.co/mp3-preview/2143c72ad9138da32f7ae8f0f99f2c7e91fd0cc0?cid=8ee26094be3742b3a7870f9bb7174c0f',\n   'track_number': 1,\n   'type': 'track',\n   'uri': 'spotify:track:1XVQu6SXMMEJ3nc9BOGhgk'},\n  {'album': {'album_type': 'single',\n    'artists': [{'external_urls': {'spotify': 'https://open.spotify.com/artist/6UbmqUEgjLA6jAcXwbM1Z9'},\n      'href': 'https://api.spotify.com/v1/artists/6UbmqUEgjLA6jAcXwbM1Z9',\n      'id': '6UbmqUEgjLA6jAcXwbM1Z9',\n      'name': 'BIBI',\n      'type': 'artist',\n      'uri': 'spotify:artist:6UbmqUEgjLA6jAcXwbM1Z9'}],\n    'external_urls': {'spotify': 'https://open.spotify.com/album/3KKlnC97LdYrHuOvolb8GP'},\n    'href': 'https://api.spotify.com/v1/albums/3KKlnC97LdYrHuOvolb8GP',\n    'id': '3KKlnC97LdYrHuOvolb8GP',\n    'images': [{'height': 640,\n      'url': 'https://i.scdn.co/image/ab67616d0000b2732203ab1155ee6c579c257e55',\n      'width': 640},\n     {'height': 300,\n      'url': 'https://i.scdn.co/image/ab67616d00001e022203ab1155ee6c579c257e55',\n      'width': 300},\n     {'height': 64,\n      'url': 'https://i.scdn.co/image/ab67616d000048512203ab1155ee6c579c257e55',\n      'width': 64}],\n    'name': 'Twenty-Five Twenty-One OST Part 3',\n    'release_date': '2022-02-20',\n    'release_date_precision': 'day',\n    'total_tracks': 2,\n    'type': 'album',\n    'uri': 'spotify:album:3KKlnC97LdYrHuOvolb8GP'},\n   'artists': [{'external_urls': {'spotify': 'https://open.spotify.com/artist/6UbmqUEgjLA6jAcXwbM1Z9'},\n     'href': 'https://api.spotify.com/v1/artists/6UbmqUEgjLA6jAcXwbM1Z9',\n     'id': '6UbmqUEgjLA6jAcXwbM1Z9',\n     'name': 'BIBI',\n     'type': 'artist',\n     'uri': 'spotify:artist:6UbmqUEgjLA6jAcXwbM1Z9'}],\n   'disc_number': 1,\n   'duration_ms': 214851,\n   'explicit': False,\n   'external_ids': {'isrc': 'KSA002101469'},\n   'external_urls': {'spotify': 'https://open.spotify.com/track/7GkHIsnziYgk6j1lx2TK6H'},\n   'href': 'https://api.spotify.com/v1/tracks/7GkHIsnziYgk6j1lx2TK6H',\n   'id': '7GkHIsnziYgk6j1lx2TK6H',\n   'is_local': False,\n   'is_playable': True,\n   'name': 'Very, Slowly',\n   'popularity': 62,\n   'preview_url': 'https://p.scdn.co/mp3-preview/24d3ca8b3af3f133b3c4908ab264160b91c88c6c?cid=8ee26094be3742b3a7870f9bb7174c0f',\n   'track_number': 1,\n   'type': 'track',\n   'uri': 'spotify:track:7GkHIsnziYgk6j1lx2TK6H'},\n  {'album': {'album_type': 'single',\n    'artists': [{'external_urls': {'spotify': 'https://open.spotify.com/artist/6UbmqUEgjLA6jAcXwbM1Z9'},\n      'href': 'https://api.spotify.com/v1/artists/6UbmqUEgjLA6jAcXwbM1Z9',\n      'id': '6UbmqUEgjLA6jAcXwbM1Z9',\n      'name': 'BIBI',\n      'type': 'artist',\n      'uri': 'spotify:artist:6UbmqUEgjLA6jAcXwbM1Z9'}],\n    'external_urls': {'spotify': 'https://open.spotify.com/album/5xDX8Uv4ojXg0ONDEcAMra'},\n    'href': 'https://api.spotify.com/v1/albums/5xDX8Uv4ojXg0ONDEcAMra',\n    'id': '5xDX8Uv4ojXg0ONDEcAMra',\n    'images': [{'height': 640,\n      'url': 'https://i.scdn.co/image/ab67616d0000b273af13d05d63fc8199472511d3',\n      'width': 640},\n     {'height': 300,\n      'url': 'https://i.scdn.co/image/ab67616d00001e02af13d05d63fc8199472511d3',\n      'width': 300},\n     {'height': 64,\n      'url': 'https://i.scdn.co/image/ab67616d00004851af13d05d63fc8199472511d3',\n      'width': 64}],\n    'name': 'LISTEN 035 Restless',\n    'release_date': '2020-02-02',\n    'release_date_precision': 'day',\n    'total_tracks': 1,\n    'type': 'album',\n    'uri': 'spotify:album:5xDX8Uv4ojXg0ONDEcAMra'},\n   'artists': [{'external_urls': {'spotify': 'https://open.spotify.com/artist/6UbmqUEgjLA6jAcXwbM1Z9'},\n     'href': 'https://api.spotify.com/v1/artists/6UbmqUEgjLA6jAcXwbM1Z9',\n     'id': '6UbmqUEgjLA6jAcXwbM1Z9',\n     'name': 'BIBI',\n     'type': 'artist',\n     'uri': 'spotify:artist:6UbmqUEgjLA6jAcXwbM1Z9'}],\n   'disc_number': 1,\n   'duration_ms': 267080,\n   'explicit': False,\n   'external_ids': {'isrc': 'KRA382000185'},\n   'external_urls': {'spotify': 'https://open.spotify.com/track/4AHNi316rl3KI3hKIsdxZe'},\n   'href': 'https://api.spotify.com/v1/tracks/4AHNi316rl3KI3hKIsdxZe',\n   'id': '4AHNi316rl3KI3hKIsdxZe',\n   'is_local': False,\n   'is_playable': True,\n   'name': 'Restless',\n   'popularity': 59,\n   'preview_url': 'https://p.scdn.co/mp3-preview/6a39a7a1f59f5ab3254af76195d6ffa42e7ef018?cid=8ee26094be3742b3a7870f9bb7174c0f',\n   'track_number': 1,\n   'type': 'track',\n   'uri': 'spotify:track:4AHNi316rl3KI3hKIsdxZe'},\n  {'album': {'album_type': 'single',\n    'artists': [{'external_urls': {'spotify': 'https://open.spotify.com/artist/6UbmqUEgjLA6jAcXwbM1Z9'},\n      'href': 'https://api.spotify.com/v1/artists/6UbmqUEgjLA6jAcXwbM1Z9',\n      'id': '6UbmqUEgjLA6jAcXwbM1Z9',\n      'name': 'BIBI',\n      'type': 'artist',\n      'uri': 'spotify:artist:6UbmqUEgjLA6jAcXwbM1Z9'}],\n    'external_urls': {'spotify': 'https://open.spotify.com/album/0VDb4oas0usbuPljrSZH5s'},\n    'href': 'https://api.spotify.com/v1/albums/0VDb4oas0usbuPljrSZH5s',\n    'id': '0VDb4oas0usbuPljrSZH5s',\n    'images': [{'height': 640,\n      'url': 'https://i.scdn.co/image/ab67616d0000b2735ab0f207b5e583a951915b2d',\n      'width': 640},\n     {'height': 300,\n      'url': 'https://i.scdn.co/image/ab67616d00001e025ab0f207b5e583a951915b2d',\n      'width': 300},\n     {'height': 64,\n      'url': 'https://i.scdn.co/image/ab67616d000048515ab0f207b5e583a951915b2d',\n      'width': 64}],\n    'name': 'Life is a Bi…',\n    'release_date': '2021-04-28',\n    'release_date_precision': 'day',\n    'total_tracks': 5,\n    'type': 'album',\n    'uri': 'spotify:album:0VDb4oas0usbuPljrSZH5s'},\n   'artists': [{'external_urls': {'spotify': 'https://open.spotify.com/artist/6UbmqUEgjLA6jAcXwbM1Z9'},\n     'href': 'https://api.spotify.com/v1/artists/6UbmqUEgjLA6jAcXwbM1Z9',\n     'id': '6UbmqUEgjLA6jAcXwbM1Z9',\n     'name': 'BIBI',\n     'type': 'artist',\n     'uri': 'spotify:artist:6UbmqUEgjLA6jAcXwbM1Z9'}],\n   'disc_number': 1,\n   'duration_ms': 156741,\n   'explicit': False,\n   'external_ids': {'isrc': 'KRA382103029'},\n   'external_urls': {'spotify': 'https://open.spotify.com/track/4d79iPe88TzFewhFk2vrcy'},\n   'href': 'https://api.spotify.com/v1/tracks/4d79iPe88TzFewhFk2vrcy',\n   'id': '4d79iPe88TzFewhFk2vrcy',\n   'is_local': False,\n   'is_playable': True,\n   'name': 'Life is a Bi…',\n   'popularity': 58,\n   'preview_url': 'https://p.scdn.co/mp3-preview/7346e9249a141582af22d96954cc66095f1e1016?cid=8ee26094be3742b3a7870f9bb7174c0f',\n   'track_number': 5,\n   'type': 'track',\n   'uri': 'spotify:track:4d79iPe88TzFewhFk2vrcy'},\n  {'album': {'album_type': 'single',\n    'artists': [{'external_urls': {'spotify': 'https://open.spotify.com/artist/6UbmqUEgjLA6jAcXwbM1Z9'},\n      'href': 'https://api.spotify.com/v1/artists/6UbmqUEgjLA6jAcXwbM1Z9',\n      'id': '6UbmqUEgjLA6jAcXwbM1Z9',\n      'name': 'BIBI',\n      'type': 'artist',\n      'uri': 'spotify:artist:6UbmqUEgjLA6jAcXwbM1Z9'}],\n    'external_urls': {'spotify': 'https://open.spotify.com/album/5VC48G4kgYR2SrDrK9XWXt'},\n    'href': 'https://api.spotify.com/v1/albums/5VC48G4kgYR2SrDrK9XWXt',\n    'id': '5VC48G4kgYR2SrDrK9XWXt',\n    'images': [{'height': 640,\n      'url': 'https://i.scdn.co/image/ab67616d0000b273c018bf3e5a234493b5573642',\n      'width': 640},\n     {'height': 300,\n      'url': 'https://i.scdn.co/image/ab67616d00001e02c018bf3e5a234493b5573642',\n      'width': 300},\n     {'height': 64,\n      'url': 'https://i.scdn.co/image/ab67616d00004851c018bf3e5a234493b5573642',\n      'width': 64}],\n    'name': 'Our Beloved Summer (Original Television Soundtrack), Pt. 2',\n    'release_date': '2021-12-13',\n    'release_date_precision': 'day',\n    'total_tracks': 2,\n    'type': 'album',\n    'uri': 'spotify:album:5VC48G4kgYR2SrDrK9XWXt'},\n   'artists': [{'external_urls': {'spotify': 'https://open.spotify.com/artist/6UbmqUEgjLA6jAcXwbM1Z9'},\n     'href': 'https://api.spotify.com/v1/artists/6UbmqUEgjLA6jAcXwbM1Z9',\n     'id': '6UbmqUEgjLA6jAcXwbM1Z9',\n     'name': 'BIBI',\n     'type': 'artist',\n     'uri': 'spotify:artist:6UbmqUEgjLA6jAcXwbM1Z9'}],\n   'disc_number': 1,\n   'duration_ms': 209600,\n   'explicit': False,\n   'external_ids': {'isrc': 'KRMIM2178444'},\n   'external_urls': {'spotify': 'https://open.spotify.com/track/6MxIazgQENgaa6StpFxGpu'},\n   'href': 'https://api.spotify.com/v1/tracks/6MxIazgQENgaa6StpFxGpu',\n   'id': '6MxIazgQENgaa6StpFxGpu',\n   'is_local': False,\n   'is_playable': True,\n   'name': 'Maybe if',\n   'popularity': 58,\n   'preview_url': 'https://p.scdn.co/mp3-preview/d6185bdc5f52d7f0852c361c208dcb0c1b6235ed?cid=8ee26094be3742b3a7870f9bb7174c0f',\n   'track_number': 1,\n   'type': 'track',\n   'uri': 'spotify:track:6MxIazgQENgaa6StpFxGpu'},\n  {'album': {'album_type': 'single',\n    'artists': [{'external_urls': {'spotify': 'https://open.spotify.com/artist/6UbmqUEgjLA6jAcXwbM1Z9'},\n      'href': 'https://api.spotify.com/v1/artists/6UbmqUEgjLA6jAcXwbM1Z9',\n      'id': '6UbmqUEgjLA6jAcXwbM1Z9',\n      'name': 'BIBI',\n      'type': 'artist',\n      'uri': 'spotify:artist:6UbmqUEgjLA6jAcXwbM1Z9'}],\n    'external_urls': {'spotify': 'https://open.spotify.com/album/3iW45o3MaH1WmO9KpURWit'},\n    'href': 'https://api.spotify.com/v1/albums/3iW45o3MaH1WmO9KpURWit',\n    'id': '3iW45o3MaH1WmO9KpURWit',\n    'images': [{'height': 640,\n      'url': 'https://i.scdn.co/image/ab67616d0000b2731d6160ffb77a53520e818c8d',\n      'width': 640},\n     {'height': 300,\n      'url': 'https://i.scdn.co/image/ab67616d00001e021d6160ffb77a53520e818c8d',\n      'width': 300},\n     {'height': 64,\n      'url': 'https://i.scdn.co/image/ab67616d000048511d6160ffb77a53520e818c8d',\n      'width': 64}],\n    'name': 'PADO',\n    'release_date': '2021-09-10',\n    'release_date_precision': 'day',\n    'total_tracks': 1,\n    'type': 'album',\n    'uri': 'spotify:album:3iW45o3MaH1WmO9KpURWit'},\n   'artists': [{'external_urls': {'spotify': 'https://open.spotify.com/artist/6UbmqUEgjLA6jAcXwbM1Z9'},\n     'href': 'https://api.spotify.com/v1/artists/6UbmqUEgjLA6jAcXwbM1Z9',\n     'id': '6UbmqUEgjLA6jAcXwbM1Z9',\n     'name': 'BIBI',\n     'type': 'artist',\n     'uri': 'spotify:artist:6UbmqUEgjLA6jAcXwbM1Z9'}],\n   'disc_number': 1,\n   'duration_ms': 193132,\n   'explicit': False,\n   'external_ids': {'isrc': 'KRA382161002'},\n   'external_urls': {'spotify': 'https://open.spotify.com/track/1PSDpiTgnkxHc7GhKrHCaA'},\n   'href': 'https://api.spotify.com/v1/tracks/1PSDpiTgnkxHc7GhKrHCaA',\n   'id': '1PSDpiTgnkxHc7GhKrHCaA',\n   'is_local': False,\n   'is_playable': True,\n   'name': 'PADO',\n   'popularity': 55,\n   'preview_url': 'https://p.scdn.co/mp3-preview/20776428d7acd3b1c8e617eddd54cf756cd26876?cid=8ee26094be3742b3a7870f9bb7174c0f',\n   'track_number': 1,\n   'type': 'track',\n   'uri': 'spotify:track:1PSDpiTgnkxHc7GhKrHCaA'}]}"
     },
     "execution_count": 34,
     "metadata": {},
     "output_type": "execute_result"
    }
   ],
   "source": [
    "toptracks[99] # toptracks[0] contains the information of all the 10 top tracks of the first artist"
   ],
   "metadata": {
    "collapsed": false,
    "pycharm": {
     "name": "#%%\n"
    }
   }
  },
  {
   "cell_type": "code",
   "execution_count": 84,
   "outputs": [],
   "source": [
    "# create empty lists for the data I want\n",
    "artist_name =[]\n",
    "artist_id =[]\n",
    "track_name =[]\n",
    "track_id =[]\n",
    "track_popularity =[]\n",
    "track_url = []\n"
   ],
   "metadata": {
    "collapsed": false,
    "pycharm": {
     "name": "#%%\n"
    }
   }
  },
  {
   "cell_type": "code",
   "execution_count": 86,
   "outputs": [],
   "source": [
    "# use the library itertools to loop two variables (the artists and the 10 top tracks of each artist\n",
    "\n",
    "for i,j in itertools.product([0,99],[0,9]):\n",
    "        artist_name.append(toptracks[i]['tracks'][j]['artists'][0]['name']) # append the artist name of each top track of each artist into the empty list artist_name\n",
    "        artist_id.append(toptracks[i]['tracks'][j]['artists'][0]['id']) # append the artist id of each top track of each artist into the empty list artist_id\n",
    "        track_name.append(toptracks[i]['tracks'][j]['name']) # append the track name of each top track of each artist into the empty list track_name\n",
    "        track_id.append(toptracks[i]['tracks'][j]['id']) # append the track id of each top track of each artist into the empty list track_id\n",
    "        track_popularity.append(toptracks[i]['tracks'][j]['popularity']) # append the value of the popularity of each top track of each artist into the empty list track_popularity\n",
    "        track_url.append(toptracks[i]['tracks'][j]['href']) # append the url of each top track of each artist into the empty list track_url"
   ],
   "metadata": {
    "collapsed": false,
    "pycharm": {
     "name": "#%%\n"
    }
   }
  },
  {
   "cell_type": "code",
   "execution_count": 90,
   "outputs": [],
   "source": [
    "# create the dictionary for the data based on the lists\n",
    "toptracks_dic = {\n",
    "    'artist_name':artist_name,\n",
    "    'artist_id':artist_id,\n",
    "    'track_name':track_name,\n",
    "    'track_id':track_id,\n",
    "    'track_popularity':track_popularity,\n",
    "    'track_url':track_url\n",
    "}"
   ],
   "metadata": {
    "collapsed": false,
    "pycharm": {
     "name": "#%%\n"
    }
   }
  },
  {
   "cell_type": "code",
   "execution_count": 91,
   "outputs": [],
   "source": [
    "# create a dataframe regarding the dictionary\n",
    "df_toptracks_dic = pd.DataFrame(toptracks_dic)"
   ],
   "metadata": {
    "collapsed": false,
    "pycharm": {
     "name": "#%%\n"
    }
   }
  },
  {
   "cell_type": "code",
   "execution_count": 92,
   "outputs": [],
   "source": [
    "# save the dataframe as csv file in local drive\n",
    "df_toptracks_dic.to_csv('toptracks.csv', index = False)"
   ],
   "metadata": {
    "collapsed": false,
    "pycharm": {
     "name": "#%%\n"
    }
   }
  },
  {
   "cell_type": "markdown",
   "source": [
    "## Get the features of the tracks in the tracklis"
   ],
   "metadata": {
    "collapsed": false,
    "pycharm": {
     "name": "#%% md\n"
    }
   }
  },
  {
   "cell_type": "code",
   "execution_count": 41,
   "outputs": [],
   "source": [
    "# create a function to request the data of tracks' audio features\n",
    "def get_features (token,track_id):\n",
    "    features_endpoint = f'https://api.spotify.com/v1/audio-features/{track_id}'\n",
    "    get_header = {\n",
    "        'Authorization': f'Bearer {token}',\n",
    "        'Content-Type': 'application/json',\n",
    "        'Accept': 'application/json'\n",
    "    }\n",
    "\n",
    "    r = requests.get(features_endpoint, headers = get_header, )\n",
    "    features_response = r.json()\n",
    "    return features_response"
   ],
   "metadata": {
    "collapsed": false,
    "pycharm": {
     "name": "#%%\n"
    }
   }
  },
  {
   "cell_type": "code",
   "execution_count": 42,
   "outputs": [],
   "source": [
    "# create empty lists for the data I want, preparing for creating a dataframe\n",
    "danceability = []\n",
    "energy = []\n",
    "key = []\n",
    "loudness = []\n",
    "mode = []\n",
    "speechiness = []\n",
    "acousticness = []\n",
    "instrumentalness = []\n",
    "liveness = []\n",
    "valence = []\n",
    "tempo = []\n",
    "type = []\n",
    "id = []\n",
    "track_href = []\n",
    "analysis_url = []\n",
    "duration_ms =[]"
   ],
   "metadata": {
    "collapsed": false,
    "pycharm": {
     "name": "#%%\n"
    }
   }
  },
  {
   "cell_type": "code",
   "execution_count": 43,
   "outputs": [],
   "source": [
    "# create a dictionary regarding the lists above\n",
    "features_dic = {\n",
    "    'danceability':danceability,\n",
    "    'energy':energy,\n",
    "    'key':key,\n",
    "    'loudness':loudness,\n",
    "    'mode':mode,\n",
    "    'speechiness':speechiness,\n",
    "    'acousticness':acousticness,\n",
    "    'instrumentalness':instrumentalness,\n",
    "    'liveness':liveness,\n",
    "    'valence':valence,\n",
    "    'tempo':tempo,\n",
    "    'type':type,\n",
    "    'id':id,\n",
    "    'track_href':track_href,\n",
    "    'analysis_url':analysis_url,\n",
    "    'duration_ms':duration_ms\n",
    "}"
   ],
   "metadata": {
    "collapsed": false,
    "pycharm": {
     "name": "#%%\n"
    }
   }
  },
  {
   "cell_type": "code",
   "execution_count": 44,
   "outputs": [],
   "source": [
    "track_features = [] # create an empty list for all the data requested\n",
    "token = access_token\n",
    "for track_id in df_tracklist['track_id']: # use for loop to get every track's features where the track id is in the tracklist\n",
    "    features_list = get_features(token, track_id ) # assign the data I got with the function to a variable\n",
    "    track_features.append(features_list) # append all the data of the features of each track to the empty list\n"
   ],
   "metadata": {
    "collapsed": false,
    "pycharm": {
     "name": "#%%\n"
    }
   }
  },
  {
   "cell_type": "code",
   "execution_count": 46,
   "outputs": [],
   "source": [
    "# use for loop to append the value of each feature of each song in the tracklist to the empty lists created above\n",
    "for i in range(100):\n",
    "    danceability.append(track_features[i]['danceability'])\n",
    "    energy.append(track_features[i]['energy'])\n",
    "    key.append(track_features[i]['key'])\n",
    "    loudness.append(track_features[i]['loudness'])\n",
    "    mode.append(track_features[i]['mode'])\n",
    "    speechiness.append(track_features[i]['speechiness'])\n",
    "    acousticness.append(track_features[i]['acousticness'])\n",
    "    instrumentalness.append(track_features[i]['instrumentalness'])\n",
    "    liveness.append(track_features[i]['liveness'])\n",
    "    valence.append(track_features[i]['valence'])\n",
    "    tempo.append(track_features[i]['tempo'])\n",
    "    type.append(track_features[i]['type'])\n",
    "    id.append(track_features[i]['id'])\n",
    "    track_href.append(track_features[i]['track_href'])\n",
    "    analysis_url.append(track_features[i]['analysis_url'])\n",
    "    duration_ms.append(track_features[i]['duration_ms'])"
   ],
   "metadata": {
    "collapsed": false,
    "pycharm": {
     "name": "#%%\n"
    }
   }
  },
  {
   "cell_type": "code",
   "execution_count": 47,
   "outputs": [],
   "source": [
    "# create a dataframe of the dictionary\n",
    "df_features_dic = pd.DataFrame(features_dic)"
   ],
   "metadata": {
    "collapsed": false,
    "pycharm": {
     "name": "#%%\n"
    }
   }
  },
  {
   "cell_type": "code",
   "execution_count": 48,
   "outputs": [
    {
     "name": "stdout",
     "output_type": "stream",
     "text": [
      "<class 'pandas.core.frame.DataFrame'>\n",
      "RangeIndex: 100 entries, 0 to 99\n",
      "Data columns (total 16 columns):\n",
      " #   Column            Non-Null Count  Dtype  \n",
      "---  ------            --------------  -----  \n",
      " 0   danceability      100 non-null    float64\n",
      " 1   energy            100 non-null    float64\n",
      " 2   key               100 non-null    int64  \n",
      " 3   loudness          100 non-null    float64\n",
      " 4   mode              100 non-null    int64  \n",
      " 5   speechiness       100 non-null    float64\n",
      " 6   acousticness      100 non-null    float64\n",
      " 7   instrumentalness  100 non-null    float64\n",
      " 8   liveness          100 non-null    float64\n",
      " 9   valence           100 non-null    float64\n",
      " 10  tempo             100 non-null    float64\n",
      " 11  type              100 non-null    object \n",
      " 12  id                100 non-null    object \n",
      " 13  track_href        100 non-null    object \n",
      " 14  analysis_url      100 non-null    object \n",
      " 15  duration_ms       100 non-null    int64  \n",
      "dtypes: float64(9), int64(3), object(4)\n",
      "memory usage: 12.6+ KB\n"
     ]
    }
   ],
   "source": [
    "df_features_dic.info() # check the infomation of the dataframe"
   ],
   "metadata": {
    "collapsed": false,
    "pycharm": {
     "name": "#%%\n"
    }
   }
  },
  {
   "cell_type": "code",
   "execution_count": 35,
   "outputs": [],
   "source": [
    "# save the dataframe as csv file in local drive\n",
    "df_features_dic.to_csv('features.csv', index = False)"
   ],
   "metadata": {
    "collapsed": false,
    "pycharm": {
     "name": "#%%\n"
    }
   }
  }
 ]
}