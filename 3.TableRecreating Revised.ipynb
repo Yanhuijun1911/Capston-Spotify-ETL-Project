{
 "cells": [
  {
   "cell_type": "markdown",
   "source": [
    "# Recreate the files according to the created schema, utify the column names"
   ],
   "metadata": {
    "collapsed": false,
    "pycharm": {
     "name": "#%% md\n"
    }
   }
  },
  {
   "cell_type": "code",
   "execution_count": 2,
   "outputs": [],
   "source": [
    "# import the library\n",
    "import pandas as pd"
   ],
   "metadata": {
    "collapsed": false,
    "pycharm": {
     "name": "#%%\n"
    }
   }
  },
  {
   "cell_type": "code",
   "execution_count": 3,
   "outputs": [],
   "source": [
    "# read all cleaned files as dataframes\n",
    "df_artist_features = pd.read_csv('artists_features_cleaned.csv')\n",
    "df_toptracks = pd.read_csv('toptracks_cleaned.csv')\n",
    "df_tracklist = pd.read_csv('tracklist_cleaned.csv')\n",
    "df_track_features = pd.read_csv('features copy.csv')\n"
   ],
   "metadata": {
    "collapsed": false,
    "pycharm": {
     "name": "#%%\n"
    }
   }
  },
  {
   "cell_type": "markdown",
   "source": [
    "## 1.track_features_fact.csv"
   ],
   "metadata": {
    "collapsed": false,
    "pycharm": {
     "name": "#%% md\n"
    }
   }
  },
  {
   "cell_type": "code",
   "execution_count": 4,
   "outputs": [],
   "source": [
    "# clarify & unify the column names\n",
    "df_track_features['track_popularity'] = df_tracklist['Popularity']"
   ],
   "metadata": {
    "collapsed": false,
    "pycharm": {
     "name": "#%%\n"
    }
   }
  },
  {
   "cell_type": "code",
   "execution_count": 5,
   "outputs": [],
   "source": [
    "# drop useless columns\n",
    "df_track_features.drop(['track_href','analysis_url','type'], axis = 1, inplace = True)"
   ],
   "metadata": {
    "collapsed": false,
    "pycharm": {
     "name": "#%%\n"
    }
   }
  },
  {
   "cell_type": "code",
   "execution_count": 7,
   "outputs": [],
   "source": [
    "# rename the colum id as a key\n",
    "df_track_features.rename(columns = {'id':'listtrack_key'}, inplace = True)"
   ],
   "metadata": {
    "collapsed": false,
    "pycharm": {
     "name": "#%%\n"
    }
   }
  },
  {
   "cell_type": "code",
   "execution_count": 9,
   "outputs": [
    {
     "data": {
      "text/plain": "Index(['danceability', 'energy', 'key', 'loudness', 'mode', 'speechiness',\n       'acousticness', 'instrumentalness', 'liveness', 'valence', 'tempo',\n       'listtrack_key', 'duration_ms', 'track_popularity'],\n      dtype='object')"
     },
     "execution_count": 9,
     "metadata": {},
     "output_type": "execute_result"
    }
   ],
   "source": [
    "df_track_features.columns # check the column names"
   ],
   "metadata": {
    "collapsed": false,
    "pycharm": {
     "name": "#%%\n"
    }
   }
  },
  {
   "cell_type": "code",
   "execution_count": 10,
   "outputs": [],
   "source": [
    "# reorder the dataframe\n",
    "df_track_features = df_track_features[['listtrack_key','track_popularity','danceability', 'energy', 'key', 'loudness', 'mode', 'speechiness',\n",
    "                                       'acousticness', 'instrumentalness', 'liveness', 'valence', 'tempo',\n",
    "                                        'duration_ms']]"
   ],
   "metadata": {
    "collapsed": false,
    "pycharm": {
     "name": "#%%\n"
    }
   }
  },
  {
   "cell_type": "code",
   "execution_count": 11,
   "outputs": [
    {
     "data": {
      "text/plain": "            listtrack_key  track_popularity  danceability  energy  key  \\\n0  74sb4Gib0cL3TQeCjYF8vh                67         0.417   0.332    4   \n1  6XgBxK1v4li6dOI5to10Sz                61         0.776   0.692    8   \n2  6xGruZOHLs39ZbVccQTuPZ                96         0.440   0.317    8   \n3  5qbhVL3vB7HwWvb0042B7y                65         0.700   0.812    1   \n4  13tJ9Mkj7cjXxrTjOh0LAN                47         0.918   0.371    9   \n\n   loudness  mode  speechiness  acousticness  instrumentalness  liveness  \\\n0    -9.482     1       0.0494         0.773          0.000019    0.1090   \n1    -4.409     1       0.0279         0.391          0.000917    0.1130   \n2    -9.258     1       0.0531         0.891          0.000005    0.1410   \n3    -8.128     0       0.2970         0.183          0.000000    0.0756   \n4   -10.493     1       0.1040         0.591          0.000000    0.1100   \n\n   valence    tempo  duration_ms  \n0    0.172  119.156       253208  \n1    0.749  110.964       209943  \n2    0.268  169.914       233456  \n3    0.801   97.405       332229  \n4    0.769   92.983       316920  ",
      "text/html": "<div>\n<style scoped>\n    .dataframe tbody tr th:only-of-type {\n        vertical-align: middle;\n    }\n\n    .dataframe tbody tr th {\n        vertical-align: top;\n    }\n\n    .dataframe thead th {\n        text-align: right;\n    }\n</style>\n<table border=\"1\" class=\"dataframe\">\n  <thead>\n    <tr style=\"text-align: right;\">\n      <th></th>\n      <th>listtrack_key</th>\n      <th>track_popularity</th>\n      <th>danceability</th>\n      <th>energy</th>\n      <th>key</th>\n      <th>loudness</th>\n      <th>mode</th>\n      <th>speechiness</th>\n      <th>acousticness</th>\n      <th>instrumentalness</th>\n      <th>liveness</th>\n      <th>valence</th>\n      <th>tempo</th>\n      <th>duration_ms</th>\n    </tr>\n  </thead>\n  <tbody>\n    <tr>\n      <th>0</th>\n      <td>74sb4Gib0cL3TQeCjYF8vh</td>\n      <td>67</td>\n      <td>0.417</td>\n      <td>0.332</td>\n      <td>4</td>\n      <td>-9.482</td>\n      <td>1</td>\n      <td>0.0494</td>\n      <td>0.773</td>\n      <td>0.000019</td>\n      <td>0.1090</td>\n      <td>0.172</td>\n      <td>119.156</td>\n      <td>253208</td>\n    </tr>\n    <tr>\n      <th>1</th>\n      <td>6XgBxK1v4li6dOI5to10Sz</td>\n      <td>61</td>\n      <td>0.776</td>\n      <td>0.692</td>\n      <td>8</td>\n      <td>-4.409</td>\n      <td>1</td>\n      <td>0.0279</td>\n      <td>0.391</td>\n      <td>0.000917</td>\n      <td>0.1130</td>\n      <td>0.749</td>\n      <td>110.964</td>\n      <td>209943</td>\n    </tr>\n    <tr>\n      <th>2</th>\n      <td>6xGruZOHLs39ZbVccQTuPZ</td>\n      <td>96</td>\n      <td>0.440</td>\n      <td>0.317</td>\n      <td>8</td>\n      <td>-9.258</td>\n      <td>1</td>\n      <td>0.0531</td>\n      <td>0.891</td>\n      <td>0.000005</td>\n      <td>0.1410</td>\n      <td>0.268</td>\n      <td>169.914</td>\n      <td>233456</td>\n    </tr>\n    <tr>\n      <th>3</th>\n      <td>5qbhVL3vB7HwWvb0042B7y</td>\n      <td>65</td>\n      <td>0.700</td>\n      <td>0.812</td>\n      <td>1</td>\n      <td>-8.128</td>\n      <td>0</td>\n      <td>0.2970</td>\n      <td>0.183</td>\n      <td>0.000000</td>\n      <td>0.0756</td>\n      <td>0.801</td>\n      <td>97.405</td>\n      <td>332229</td>\n    </tr>\n    <tr>\n      <th>4</th>\n      <td>13tJ9Mkj7cjXxrTjOh0LAN</td>\n      <td>47</td>\n      <td>0.918</td>\n      <td>0.371</td>\n      <td>9</td>\n      <td>-10.493</td>\n      <td>1</td>\n      <td>0.1040</td>\n      <td>0.591</td>\n      <td>0.000000</td>\n      <td>0.1100</td>\n      <td>0.769</td>\n      <td>92.983</td>\n      <td>316920</td>\n    </tr>\n  </tbody>\n</table>\n</div>"
     },
     "execution_count": 11,
     "metadata": {},
     "output_type": "execute_result"
    }
   ],
   "source": [
    "df_track_features.head() # check the changes"
   ],
   "metadata": {
    "collapsed": false,
    "pycharm": {
     "name": "#%%\n"
    }
   }
  },
  {
   "cell_type": "code",
   "execution_count": 12,
   "outputs": [],
   "source": [
    "# save the revised dataframe as a new csv file\n",
    "df_track_features.to_csv('listtracks_features_fact.csv', index = False, encoding = 'utf-8')"
   ],
   "metadata": {
    "collapsed": false,
    "pycharm": {
     "name": "#%%\n"
    }
   }
  },
  {
   "cell_type": "markdown",
   "source": [
    "## 2.toptracks_popularity_fact"
   ],
   "metadata": {
    "collapsed": false,
    "pycharm": {
     "name": "#%% md\n"
    }
   }
  },
  {
   "cell_type": "code",
   "execution_count": 13,
   "outputs": [],
   "source": [
    "# choose the columns for the fact table\n",
    "df_toptracks_new = df_toptracks[['track_id','track_popularity']]"
   ],
   "metadata": {
    "collapsed": false,
    "pycharm": {
     "name": "#%%\n"
    }
   }
  },
  {
   "cell_type": "code",
   "execution_count": 14,
   "outputs": [
    {
     "name": "stderr",
     "output_type": "stream",
     "text": [
      "<ipython-input-14-ac0a5fdb42f1>:2: SettingWithCopyWarning: \n",
      "A value is trying to be set on a copy of a slice from a DataFrame\n",
      "\n",
      "See the caveats in the documentation: https://pandas.pydata.org/pandas-docs/stable/user_guide/indexing.html#returning-a-view-versus-a-copy\n",
      "  df_toptracks_new.rename(columns = {'track_id':'toptrack_key'}, inplace = True)\n"
     ]
    }
   ],
   "source": [
    "# rename the column names\n",
    "df_toptracks_new.rename(columns = {'track_id':'toptrack_key'}, inplace = True)"
   ],
   "metadata": {
    "collapsed": false,
    "pycharm": {
     "name": "#%%\n"
    }
   }
  },
  {
   "cell_type": "code",
   "execution_count": 15,
   "outputs": [
    {
     "data": {
      "text/plain": "             toptrack_key  track_popularity\n0  7795WJLVKJoAyVoOtCWqXN                83\n1  5Nm9ERjJZ5oyfXZTECKmRt                81\n2  1mXVgsBdtIVeCLJnSnmtdV                79\n3  2TeLIzFBe3hxkPR5FIQZut                79\n4  16MQETUgqXwY4lZcyRafU3                77",
      "text/html": "<div>\n<style scoped>\n    .dataframe tbody tr th:only-of-type {\n        vertical-align: middle;\n    }\n\n    .dataframe tbody tr th {\n        vertical-align: top;\n    }\n\n    .dataframe thead th {\n        text-align: right;\n    }\n</style>\n<table border=\"1\" class=\"dataframe\">\n  <thead>\n    <tr style=\"text-align: right;\">\n      <th></th>\n      <th>toptrack_key</th>\n      <th>track_popularity</th>\n    </tr>\n  </thead>\n  <tbody>\n    <tr>\n      <th>0</th>\n      <td>7795WJLVKJoAyVoOtCWqXN</td>\n      <td>83</td>\n    </tr>\n    <tr>\n      <th>1</th>\n      <td>5Nm9ERjJZ5oyfXZTECKmRt</td>\n      <td>81</td>\n    </tr>\n    <tr>\n      <th>2</th>\n      <td>1mXVgsBdtIVeCLJnSnmtdV</td>\n      <td>79</td>\n    </tr>\n    <tr>\n      <th>3</th>\n      <td>2TeLIzFBe3hxkPR5FIQZut</td>\n      <td>79</td>\n    </tr>\n    <tr>\n      <th>4</th>\n      <td>16MQETUgqXwY4lZcyRafU3</td>\n      <td>77</td>\n    </tr>\n  </tbody>\n</table>\n</div>"
     },
     "execution_count": 15,
     "metadata": {},
     "output_type": "execute_result"
    }
   ],
   "source": [
    "df_toptracks_new.head() # Check the new dataframe"
   ],
   "metadata": {
    "collapsed": false,
    "pycharm": {
     "name": "#%%\n"
    }
   }
  },
  {
   "cell_type": "code",
   "execution_count": 16,
   "outputs": [],
   "source": [
    "# save the dataframe as the troptracks' popularity fact file\n",
    "df_toptracks_new.to_csv('toptracks_popularity_fact.csv', index = False,encoding = 'utf-8')"
   ],
   "metadata": {
    "collapsed": false,
    "pycharm": {
     "name": "#%%\n"
    }
   }
  },
  {
   "cell_type": "markdown",
   "source": [
    "## 3.artists_features_fact"
   ],
   "metadata": {
    "collapsed": false,
    "pycharm": {
     "name": "#%% md\n"
    }
   }
  },
  {
   "cell_type": "code",
   "execution_count": 17,
   "outputs": [
    {
     "data": {
      "text/plain": "   followers                                             genres  \\\n0   19995331                       'dance pop', 'pop', 'uk pop'   \n1   21348771                                 'dance pop', 'pop'   \n2    6757545                                        'viral pop'   \n3   21339012  'conscious hip hop', 'hip hop', 'rap', 'west c...   \n4     109663  'chinese indie', 'mandopop', 'taiwan hip hop',...   \n\n                       id     artist_name  artist_popularity  \\\n0  2wY79sveU1sp5g7SokKOiI       Sam Smith                 81   \n1  5cj0lLjcoR7YOSnhnX0Po5        Doja Cat                 88   \n2  3MZsBdqDrRTJihTHQrO6Dq            Joji                 84   \n3  2YZyLoL8N0Wb9xBt1NhZWg  Kendrick Lamar                 88   \n4  3Xp3DA50zRP4TYOtNR7k1T       Soft Lipa                 45   \n\n                                          artist_url  \n0  https://api.spotify.com/v1/artists/2wY79sveU1s...  \n1  https://api.spotify.com/v1/artists/5cj0lLjcoR7...  \n2  https://api.spotify.com/v1/artists/3MZsBdqDrRT...  \n3  https://api.spotify.com/v1/artists/2YZyLoL8N0W...  \n4  https://api.spotify.com/v1/artists/3Xp3DA50zRP...  ",
      "text/html": "<div>\n<style scoped>\n    .dataframe tbody tr th:only-of-type {\n        vertical-align: middle;\n    }\n\n    .dataframe tbody tr th {\n        vertical-align: top;\n    }\n\n    .dataframe thead th {\n        text-align: right;\n    }\n</style>\n<table border=\"1\" class=\"dataframe\">\n  <thead>\n    <tr style=\"text-align: right;\">\n      <th></th>\n      <th>followers</th>\n      <th>genres</th>\n      <th>id</th>\n      <th>artist_name</th>\n      <th>artist_popularity</th>\n      <th>artist_url</th>\n    </tr>\n  </thead>\n  <tbody>\n    <tr>\n      <th>0</th>\n      <td>19995331</td>\n      <td>'dance pop', 'pop', 'uk pop'</td>\n      <td>2wY79sveU1sp5g7SokKOiI</td>\n      <td>Sam Smith</td>\n      <td>81</td>\n      <td>https://api.spotify.com/v1/artists/2wY79sveU1s...</td>\n    </tr>\n    <tr>\n      <th>1</th>\n      <td>21348771</td>\n      <td>'dance pop', 'pop'</td>\n      <td>5cj0lLjcoR7YOSnhnX0Po5</td>\n      <td>Doja Cat</td>\n      <td>88</td>\n      <td>https://api.spotify.com/v1/artists/5cj0lLjcoR7...</td>\n    </tr>\n    <tr>\n      <th>2</th>\n      <td>6757545</td>\n      <td>'viral pop'</td>\n      <td>3MZsBdqDrRTJihTHQrO6Dq</td>\n      <td>Joji</td>\n      <td>84</td>\n      <td>https://api.spotify.com/v1/artists/3MZsBdqDrRT...</td>\n    </tr>\n    <tr>\n      <th>3</th>\n      <td>21339012</td>\n      <td>'conscious hip hop', 'hip hop', 'rap', 'west c...</td>\n      <td>2YZyLoL8N0Wb9xBt1NhZWg</td>\n      <td>Kendrick Lamar</td>\n      <td>88</td>\n      <td>https://api.spotify.com/v1/artists/2YZyLoL8N0W...</td>\n    </tr>\n    <tr>\n      <th>4</th>\n      <td>109663</td>\n      <td>'chinese indie', 'mandopop', 'taiwan hip hop',...</td>\n      <td>3Xp3DA50zRP4TYOtNR7k1T</td>\n      <td>Soft Lipa</td>\n      <td>45</td>\n      <td>https://api.spotify.com/v1/artists/3Xp3DA50zRP...</td>\n    </tr>\n  </tbody>\n</table>\n</div>"
     },
     "execution_count": 17,
     "metadata": {},
     "output_type": "execute_result"
    }
   ],
   "source": [
    "# look for the data I need for the fact table\n",
    "df_artist_features.head()"
   ],
   "metadata": {
    "collapsed": false,
    "pycharm": {
     "name": "#%%\n"
    }
   }
  },
  {
   "cell_type": "code",
   "execution_count": 18,
   "outputs": [],
   "source": [
    "# extract the columns needed for the fact table and assign into a new dataframe\n",
    "df_artist_features_fact = df_artist_features[['id','followers','artist_popularity']]"
   ],
   "metadata": {
    "collapsed": false,
    "pycharm": {
     "name": "#%%\n"
    }
   }
  },
  {
   "cell_type": "code",
   "execution_count": 19,
   "outputs": [
    {
     "name": "stderr",
     "output_type": "stream",
     "text": [
      "<ipython-input-19-59c6fe78d315>:2: SettingWithCopyWarning: \n",
      "A value is trying to be set on a copy of a slice from a DataFrame\n",
      "\n",
      "See the caveats in the documentation: https://pandas.pydata.org/pandas-docs/stable/user_guide/indexing.html#returning-a-view-versus-a-copy\n",
      "  df_artist_features_fact.rename(columns = {'id':'artist_key'}, inplace = True)\n"
     ]
    }
   ],
   "source": [
    "#rename the column name\n",
    "df_artist_features_fact.rename(columns = {'id':'artist_key'}, inplace = True)"
   ],
   "metadata": {
    "collapsed": false,
    "pycharm": {
     "name": "#%%\n"
    }
   }
  },
  {
   "cell_type": "code",
   "execution_count": 20,
   "outputs": [],
   "source": [
    "#save the dataframe as a csv file of the fact table of artists' popularity\n",
    "df_artist_features_fact.to_csv('artists_features_fact.csv', index = False, encoding = 'utf-8')"
   ],
   "metadata": {
    "collapsed": false,
    "pycharm": {
     "name": "#%%\n"
    }
   }
  },
  {
   "cell_type": "markdown",
   "source": [
    "## 4.my_artists_DIM"
   ],
   "metadata": {
    "collapsed": false,
    "pycharm": {
     "name": "#%% md\n"
    }
   }
  },
  {
   "cell_type": "code",
   "execution_count": 21,
   "outputs": [
    {
     "data": {
      "text/plain": "   followers                                             genres  \\\n0   19995331                       'dance pop', 'pop', 'uk pop'   \n1   21348771                                 'dance pop', 'pop'   \n2    6757545                                        'viral pop'   \n3   21339012  'conscious hip hop', 'hip hop', 'rap', 'west c...   \n4     109663  'chinese indie', 'mandopop', 'taiwan hip hop',...   \n\n                       id     artist_name  artist_popularity  \\\n0  2wY79sveU1sp5g7SokKOiI       Sam Smith                 81   \n1  5cj0lLjcoR7YOSnhnX0Po5        Doja Cat                 88   \n2  3MZsBdqDrRTJihTHQrO6Dq            Joji                 84   \n3  2YZyLoL8N0Wb9xBt1NhZWg  Kendrick Lamar                 88   \n4  3Xp3DA50zRP4TYOtNR7k1T       Soft Lipa                 45   \n\n                                          artist_url  \n0  https://api.spotify.com/v1/artists/2wY79sveU1s...  \n1  https://api.spotify.com/v1/artists/5cj0lLjcoR7...  \n2  https://api.spotify.com/v1/artists/3MZsBdqDrRT...  \n3  https://api.spotify.com/v1/artists/2YZyLoL8N0W...  \n4  https://api.spotify.com/v1/artists/3Xp3DA50zRP...  ",
      "text/html": "<div>\n<style scoped>\n    .dataframe tbody tr th:only-of-type {\n        vertical-align: middle;\n    }\n\n    .dataframe tbody tr th {\n        vertical-align: top;\n    }\n\n    .dataframe thead th {\n        text-align: right;\n    }\n</style>\n<table border=\"1\" class=\"dataframe\">\n  <thead>\n    <tr style=\"text-align: right;\">\n      <th></th>\n      <th>followers</th>\n      <th>genres</th>\n      <th>id</th>\n      <th>artist_name</th>\n      <th>artist_popularity</th>\n      <th>artist_url</th>\n    </tr>\n  </thead>\n  <tbody>\n    <tr>\n      <th>0</th>\n      <td>19995331</td>\n      <td>'dance pop', 'pop', 'uk pop'</td>\n      <td>2wY79sveU1sp5g7SokKOiI</td>\n      <td>Sam Smith</td>\n      <td>81</td>\n      <td>https://api.spotify.com/v1/artists/2wY79sveU1s...</td>\n    </tr>\n    <tr>\n      <th>1</th>\n      <td>21348771</td>\n      <td>'dance pop', 'pop'</td>\n      <td>5cj0lLjcoR7YOSnhnX0Po5</td>\n      <td>Doja Cat</td>\n      <td>88</td>\n      <td>https://api.spotify.com/v1/artists/5cj0lLjcoR7...</td>\n    </tr>\n    <tr>\n      <th>2</th>\n      <td>6757545</td>\n      <td>'viral pop'</td>\n      <td>3MZsBdqDrRTJihTHQrO6Dq</td>\n      <td>Joji</td>\n      <td>84</td>\n      <td>https://api.spotify.com/v1/artists/3MZsBdqDrRT...</td>\n    </tr>\n    <tr>\n      <th>3</th>\n      <td>21339012</td>\n      <td>'conscious hip hop', 'hip hop', 'rap', 'west c...</td>\n      <td>2YZyLoL8N0Wb9xBt1NhZWg</td>\n      <td>Kendrick Lamar</td>\n      <td>88</td>\n      <td>https://api.spotify.com/v1/artists/2YZyLoL8N0W...</td>\n    </tr>\n    <tr>\n      <th>4</th>\n      <td>109663</td>\n      <td>'chinese indie', 'mandopop', 'taiwan hip hop',...</td>\n      <td>3Xp3DA50zRP4TYOtNR7k1T</td>\n      <td>Soft Lipa</td>\n      <td>45</td>\n      <td>https://api.spotify.com/v1/artists/3Xp3DA50zRP...</td>\n    </tr>\n  </tbody>\n</table>\n</div>"
     },
     "execution_count": 21,
     "metadata": {},
     "output_type": "execute_result"
    }
   ],
   "source": [
    "df_artist_features.head()# look for the data needed"
   ],
   "metadata": {
    "collapsed": false,
    "pycharm": {
     "name": "#%%\n"
    }
   }
  },
  {
   "cell_type": "code",
   "execution_count": 22,
   "outputs": [],
   "source": [
    "# extract the data for the artist dimension table\n",
    "df_artist_dim = df_artist_features[['id','artist_url','artist_name','genres']]"
   ],
   "metadata": {
    "collapsed": false,
    "pycharm": {
     "name": "#%%\n"
    }
   }
  },
  {
   "cell_type": "code",
   "execution_count": 23,
   "outputs": [
    {
     "name": "stderr",
     "output_type": "stream",
     "text": [
      "<ipython-input-23-2186f3142be6>:2: SettingWithCopyWarning: \n",
      "A value is trying to be set on a copy of a slice from a DataFrame\n",
      "\n",
      "See the caveats in the documentation: https://pandas.pydata.org/pandas-docs/stable/user_guide/indexing.html#returning-a-view-versus-a-copy\n",
      "  df_artist_dim.rename(columns = {'id':'artist_key'},inplace = True)\n"
     ]
    }
   ],
   "source": [
    "# rename the id column as key\n",
    "df_artist_dim.rename(columns = {'id':'artist_key'},inplace = True)"
   ],
   "metadata": {
    "collapsed": false,
    "pycharm": {
     "name": "#%%\n"
    }
   }
  },
  {
   "cell_type": "code",
   "execution_count": 24,
   "outputs": [],
   "source": [
    "# save the dataframe to the dimension table as a csv file\n",
    "df_artist_dim.to_csv('my_artists_DIM.csv', index = False, encoding = 'utf-8')"
   ],
   "metadata": {
    "collapsed": false,
    "pycharm": {
     "name": "#%%\n"
    }
   }
  },
  {
   "cell_type": "markdown",
   "source": [
    "## 5.toptracks_DIM"
   ],
   "metadata": {
    "collapsed": false,
    "pycharm": {
     "name": "#%% md\n"
    }
   }
  },
  {
   "cell_type": "code",
   "execution_count": 25,
   "outputs": [
    {
     "data": {
      "text/plain": "  artist_name               artist_id            track_name  \\\n0   Sam Smith  2wY79sveU1sp5g7SokKOiI  I'm Not The Only One   \n1   Sam Smith  2wY79sveU1sp5g7SokKOiI          Stay With Me   \n2   Sam Smith  2wY79sveU1sp5g7SokKOiI  Too Good At Goodbyes   \n3   Sam Smith  2wY79sveU1sp5g7SokKOiI            Like I Can   \n4   Sam Smith  2wY79sveU1sp5g7SokKOiI          Love Me More   \n\n                 track_id  track_popularity  \\\n0  7795WJLVKJoAyVoOtCWqXN                83   \n1  5Nm9ERjJZ5oyfXZTECKmRt                81   \n2  1mXVgsBdtIVeCLJnSnmtdV                79   \n3  2TeLIzFBe3hxkPR5FIQZut                79   \n4  16MQETUgqXwY4lZcyRafU3                77   \n\n                                           track_url  \n0  https://api.spotify.com/v1/tracks/7795WJLVKJoA...  \n1  https://api.spotify.com/v1/tracks/5Nm9ERjJZ5oy...  \n2  https://api.spotify.com/v1/tracks/1mXVgsBdtIVe...  \n3  https://api.spotify.com/v1/tracks/2TeLIzFBe3hx...  \n4  https://api.spotify.com/v1/tracks/16MQETUgqXwY...  ",
      "text/html": "<div>\n<style scoped>\n    .dataframe tbody tr th:only-of-type {\n        vertical-align: middle;\n    }\n\n    .dataframe tbody tr th {\n        vertical-align: top;\n    }\n\n    .dataframe thead th {\n        text-align: right;\n    }\n</style>\n<table border=\"1\" class=\"dataframe\">\n  <thead>\n    <tr style=\"text-align: right;\">\n      <th></th>\n      <th>artist_name</th>\n      <th>artist_id</th>\n      <th>track_name</th>\n      <th>track_id</th>\n      <th>track_popularity</th>\n      <th>track_url</th>\n    </tr>\n  </thead>\n  <tbody>\n    <tr>\n      <th>0</th>\n      <td>Sam Smith</td>\n      <td>2wY79sveU1sp5g7SokKOiI</td>\n      <td>I'm Not The Only One</td>\n      <td>7795WJLVKJoAyVoOtCWqXN</td>\n      <td>83</td>\n      <td>https://api.spotify.com/v1/tracks/7795WJLVKJoA...</td>\n    </tr>\n    <tr>\n      <th>1</th>\n      <td>Sam Smith</td>\n      <td>2wY79sveU1sp5g7SokKOiI</td>\n      <td>Stay With Me</td>\n      <td>5Nm9ERjJZ5oyfXZTECKmRt</td>\n      <td>81</td>\n      <td>https://api.spotify.com/v1/tracks/5Nm9ERjJZ5oy...</td>\n    </tr>\n    <tr>\n      <th>2</th>\n      <td>Sam Smith</td>\n      <td>2wY79sveU1sp5g7SokKOiI</td>\n      <td>Too Good At Goodbyes</td>\n      <td>1mXVgsBdtIVeCLJnSnmtdV</td>\n      <td>79</td>\n      <td>https://api.spotify.com/v1/tracks/1mXVgsBdtIVe...</td>\n    </tr>\n    <tr>\n      <th>3</th>\n      <td>Sam Smith</td>\n      <td>2wY79sveU1sp5g7SokKOiI</td>\n      <td>Like I Can</td>\n      <td>2TeLIzFBe3hxkPR5FIQZut</td>\n      <td>79</td>\n      <td>https://api.spotify.com/v1/tracks/2TeLIzFBe3hx...</td>\n    </tr>\n    <tr>\n      <th>4</th>\n      <td>Sam Smith</td>\n      <td>2wY79sveU1sp5g7SokKOiI</td>\n      <td>Love Me More</td>\n      <td>16MQETUgqXwY4lZcyRafU3</td>\n      <td>77</td>\n      <td>https://api.spotify.com/v1/tracks/16MQETUgqXwY...</td>\n    </tr>\n  </tbody>\n</table>\n</div>"
     },
     "execution_count": 25,
     "metadata": {},
     "output_type": "execute_result"
    }
   ],
   "source": [
    "df_toptracks.head() # look for the data needed"
   ],
   "metadata": {
    "collapsed": false,
    "pycharm": {
     "name": "#%%\n"
    }
   }
  },
  {
   "cell_type": "code",
   "execution_count": 26,
   "outputs": [],
   "source": [
    "# extract the data needed for the toptracks dimension table\n",
    "df_toptracks_dim = df_toptracks[['track_id','track_url','track_name','artist_id']]"
   ],
   "metadata": {
    "collapsed": false,
    "pycharm": {
     "name": "#%%\n"
    }
   }
  },
  {
   "cell_type": "code",
   "execution_count": 27,
   "outputs": [
    {
     "name": "stderr",
     "output_type": "stream",
     "text": [
      "<ipython-input-27-fac419221578>:2: SettingWithCopyWarning: \n",
      "A value is trying to be set on a copy of a slice from a DataFrame\n",
      "\n",
      "See the caveats in the documentation: https://pandas.pydata.org/pandas-docs/stable/user_guide/indexing.html#returning-a-view-versus-a-copy\n",
      "  df_toptracks_dim.rename(columns = {'track_id':'toptrack_key','artist_id':'artist_key'}, inplace = True)\n"
     ]
    }
   ],
   "source": [
    "#rename the column names\n",
    "df_toptracks_dim.rename(columns = {'track_id':'toptrack_key','artist_id':'artist_key'}, inplace = True)"
   ],
   "metadata": {
    "collapsed": false,
    "pycharm": {
     "name": "#%%\n"
    }
   }
  },
  {
   "cell_type": "code",
   "execution_count": 28,
   "outputs": [],
   "source": [
    "# save the new dataframe as a csv file for the toptracks dimension table\n",
    "df_toptracks_dim.to_csv('toptracks_DIM.csv', index = False, encoding = 'utf-8')"
   ],
   "metadata": {
    "collapsed": false,
    "pycharm": {
     "name": "#%%\n"
    }
   }
  },
  {
   "cell_type": "markdown",
   "source": [
    "## 6.playlist_tracks_DIM"
   ],
   "metadata": {
    "collapsed": false,
    "pycharm": {
     "name": "#%% md\n"
    }
   }
  },
  {
   "cell_type": "code",
   "execution_count": 31,
   "outputs": [
    {
     "data": {
      "text/plain": "     Artist_names                                         Artist_url  \\\n0       Sam Smith  https://open.spotify.com/artist/2wY79sveU1sp5g...   \n1        Doja Cat  https://open.spotify.com/artist/5cj0lLjcoR7YOS...   \n2            Joji  https://open.spotify.com/artist/3MZsBdqDrRTJih...   \n3  Kendrick Lamar  https://open.spotify.com/artist/2YZyLoL8N0Wb9x...   \n4       Soft Lipa  https://open.spotify.com/artist/3Xp3DA50zRP4TY...   \n\n                Artist_id                          Track_names  \\\n0  2wY79sveU1sp5g7SokKOiI                          Lay Me Down   \n1  5cj0lLjcoR7YOSnhnX0Po5  Kiss Me More (feat. Naomi Watanabe)   \n2  3MZsBdqDrRTJihTHQrO6Dq                        Glimpse of Us   \n3  2YZyLoL8N0Wb9xBt1NhZWg                     The Heart Part 5   \n4  3Xp3DA50zRP4TYOtNR7k1T                                 關於小熊   \n\n                                           Track_url                Track_id  \\\n0  https://open.spotify.com/track/74sb4Gib0cL3TQe...  74sb4Gib0cL3TQeCjYF8vh   \n1  https://open.spotify.com/track/6XgBxK1v4li6dOI...  6XgBxK1v4li6dOI5to10Sz   \n2  https://open.spotify.com/track/6xGruZOHLs39ZbV...  6xGruZOHLs39ZbVccQTuPZ   \n3  https://open.spotify.com/track/5qbhVL3vB7HwWvb...  5qbhVL3vB7HwWvb0042B7y   \n4  https://open.spotify.com/track/13tJ9Mkj7cjXxrT...  13tJ9Mkj7cjXxrTjOh0LAN   \n\n   Popularity  \n0          67  \n1          61  \n2          96  \n3          65  \n4          47  ",
      "text/html": "<div>\n<style scoped>\n    .dataframe tbody tr th:only-of-type {\n        vertical-align: middle;\n    }\n\n    .dataframe tbody tr th {\n        vertical-align: top;\n    }\n\n    .dataframe thead th {\n        text-align: right;\n    }\n</style>\n<table border=\"1\" class=\"dataframe\">\n  <thead>\n    <tr style=\"text-align: right;\">\n      <th></th>\n      <th>Artist_names</th>\n      <th>Artist_url</th>\n      <th>Artist_id</th>\n      <th>Track_names</th>\n      <th>Track_url</th>\n      <th>Track_id</th>\n      <th>Popularity</th>\n    </tr>\n  </thead>\n  <tbody>\n    <tr>\n      <th>0</th>\n      <td>Sam Smith</td>\n      <td>https://open.spotify.com/artist/2wY79sveU1sp5g...</td>\n      <td>2wY79sveU1sp5g7SokKOiI</td>\n      <td>Lay Me Down</td>\n      <td>https://open.spotify.com/track/74sb4Gib0cL3TQe...</td>\n      <td>74sb4Gib0cL3TQeCjYF8vh</td>\n      <td>67</td>\n    </tr>\n    <tr>\n      <th>1</th>\n      <td>Doja Cat</td>\n      <td>https://open.spotify.com/artist/5cj0lLjcoR7YOS...</td>\n      <td>5cj0lLjcoR7YOSnhnX0Po5</td>\n      <td>Kiss Me More (feat. Naomi Watanabe)</td>\n      <td>https://open.spotify.com/track/6XgBxK1v4li6dOI...</td>\n      <td>6XgBxK1v4li6dOI5to10Sz</td>\n      <td>61</td>\n    </tr>\n    <tr>\n      <th>2</th>\n      <td>Joji</td>\n      <td>https://open.spotify.com/artist/3MZsBdqDrRTJih...</td>\n      <td>3MZsBdqDrRTJihTHQrO6Dq</td>\n      <td>Glimpse of Us</td>\n      <td>https://open.spotify.com/track/6xGruZOHLs39ZbV...</td>\n      <td>6xGruZOHLs39ZbVccQTuPZ</td>\n      <td>96</td>\n    </tr>\n    <tr>\n      <th>3</th>\n      <td>Kendrick Lamar</td>\n      <td>https://open.spotify.com/artist/2YZyLoL8N0Wb9x...</td>\n      <td>2YZyLoL8N0Wb9xBt1NhZWg</td>\n      <td>The Heart Part 5</td>\n      <td>https://open.spotify.com/track/5qbhVL3vB7HwWvb...</td>\n      <td>5qbhVL3vB7HwWvb0042B7y</td>\n      <td>65</td>\n    </tr>\n    <tr>\n      <th>4</th>\n      <td>Soft Lipa</td>\n      <td>https://open.spotify.com/artist/3Xp3DA50zRP4TY...</td>\n      <td>3Xp3DA50zRP4TYOtNR7k1T</td>\n      <td>關於小熊</td>\n      <td>https://open.spotify.com/track/13tJ9Mkj7cjXxrT...</td>\n      <td>13tJ9Mkj7cjXxrTjOh0LAN</td>\n      <td>47</td>\n    </tr>\n  </tbody>\n</table>\n</div>"
     },
     "execution_count": 31,
     "metadata": {},
     "output_type": "execute_result"
    }
   ],
   "source": [
    "df_tracklist.head() # look for the data needed"
   ],
   "metadata": {
    "collapsed": false,
    "pycharm": {
     "name": "#%%\n"
    }
   }
  },
  {
   "cell_type": "code",
   "execution_count": 33,
   "outputs": [],
   "source": [
    "# unify the column names as lower cases\n",
    "df_tracklist.columns = df_tracklist.columns.str.lower()"
   ],
   "metadata": {
    "collapsed": false,
    "pycharm": {
     "name": "#%%\n"
    }
   }
  },
  {
   "cell_type": "code",
   "execution_count": 36,
   "outputs": [],
   "source": [
    "# extract the data needed for tracklist dimension table\n",
    "df_tracklist_dim = df_tracklist[['track_id','track_url','track_names','artist_id']]"
   ],
   "metadata": {
    "collapsed": false,
    "pycharm": {
     "name": "#%%\n"
    }
   }
  },
  {
   "cell_type": "code",
   "execution_count": 37,
   "outputs": [
    {
     "name": "stderr",
     "output_type": "stream",
     "text": [
      "<ipython-input-37-2aafaf974ab2>:2: SettingWithCopyWarning: \n",
      "A value is trying to be set on a copy of a slice from a DataFrame\n",
      "\n",
      "See the caveats in the documentation: https://pandas.pydata.org/pandas-docs/stable/user_guide/indexing.html#returning-a-view-versus-a-copy\n",
      "  df_tracklist_dim.rename(columns = {'track_id':'listtrack_key','track_names':'track_name','artist_id':'artist_key'}, inplace = True)\n"
     ]
    }
   ],
   "source": [
    "# rename the column names, unify the names\n",
    "df_tracklist_dim.rename(columns = {'track_id':'listtrack_key','track_names':'track_name','artist_id':'artist_key'}, inplace = True)"
   ],
   "metadata": {
    "collapsed": false,
    "pycharm": {
     "name": "#%%\n"
    }
   }
  },
  {
   "cell_type": "code",
   "execution_count": 38,
   "outputs": [],
   "source": [
    "# save the dataframe as a csv file for the track list dimension table\n",
    "df_tracklist_dim.to_csv('listtracks_DIM.csv', index = False, encoding = 'utf-8')"
   ],
   "metadata": {
    "collapsed": false,
    "pycharm": {
     "name": "#%%\n"
    }
   }
  }
 ],
 "metadata": {
  "kernelspec": {
   "display_name": "Python 3",
   "language": "python",
   "name": "python3"
  },
  "language_info": {
   "codemirror_mode": {
    "name": "ipython",
    "version": 2
   },
   "file_extension": ".py",
   "mimetype": "text/x-python",
   "name": "python",
   "nbconvert_exporter": "python",
   "pygments_lexer": "ipython2",
   "version": "2.7.6"
  }
 },
 "nbformat": 4,
 "nbformat_minor": 0
}