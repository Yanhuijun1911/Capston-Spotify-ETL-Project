{
 "cells": [
  {
   "cell_type": "code",
   "execution_count": 1,
   "outputs": [],
   "source": [
    "# import the library\n",
    "import pandas as pd"
   ],
   "metadata": {
    "collapsed": false,
    "pycharm": {
     "name": "#%%\n"
    }
   }
  },
  {
   "cell_type": "markdown",
   "source": [
    "## 1. Clean the tracklist data"
   ],
   "metadata": {
    "collapsed": false,
    "pycharm": {
     "name": "#%% md\n"
    }
   }
  },
  {
   "cell_type": "code",
   "execution_count": 3,
   "outputs": [],
   "source": [
    "# read the copy file of tracklist and assign it as a dataframe df_tracklist\n",
    "df_tracklist = pd.read_csv('tracklist copy.csv')"
   ],
   "metadata": {
    "collapsed": false,
    "pycharm": {
     "name": "#%%\n"
    }
   }
  },
  {
   "cell_type": "code",
   "execution_count": 5,
   "outputs": [
    {
     "data": {
      "text/plain": "     artist_names                                         artist_url  \\\n0       Sam Smith  {'spotify': 'https://open.spotify.com/artist/2...   \n1        Doja Cat  {'spotify': 'https://open.spotify.com/artist/5...   \n2            Joji  {'spotify': 'https://open.spotify.com/artist/3...   \n3  Kendrick Lamar  {'spotify': 'https://open.spotify.com/artist/2...   \n4       Soft Lipa  {'spotify': 'https://open.spotify.com/artist/3...   \n\n                artist_id                          track_names  \\\n0  2wY79sveU1sp5g7SokKOiI                          Lay Me Down   \n1  5cj0lLjcoR7YOSnhnX0Po5  Kiss Me More (feat. Naomi Watanabe)   \n2  3MZsBdqDrRTJihTHQrO6Dq                        Glimpse of Us   \n3  2YZyLoL8N0Wb9xBt1NhZWg                     The Heart Part 5   \n4  3Xp3DA50zRP4TYOtNR7k1T                                 關於小熊   \n\n                                           track_url                track_id  \\\n0  {'spotify': 'https://open.spotify.com/track/74...  74sb4Gib0cL3TQeCjYF8vh   \n1  {'spotify': 'https://open.spotify.com/track/6X...  6XgBxK1v4li6dOI5to10Sz   \n2  {'spotify': 'https://open.spotify.com/track/6x...  6xGruZOHLs39ZbVccQTuPZ   \n3  {'spotify': 'https://open.spotify.com/track/5q...  5qbhVL3vB7HwWvb0042B7y   \n4  {'spotify': 'https://open.spotify.com/track/13...  13tJ9Mkj7cjXxrTjOh0LAN   \n\n   popularity  \n0          67  \n1          59  \n2          96  \n3          65  \n4          47  ",
      "text/html": "<div>\n<style scoped>\n    .dataframe tbody tr th:only-of-type {\n        vertical-align: middle;\n    }\n\n    .dataframe tbody tr th {\n        vertical-align: top;\n    }\n\n    .dataframe thead th {\n        text-align: right;\n    }\n</style>\n<table border=\"1\" class=\"dataframe\">\n  <thead>\n    <tr style=\"text-align: right;\">\n      <th></th>\n      <th>artist_names</th>\n      <th>artist_url</th>\n      <th>artist_id</th>\n      <th>track_names</th>\n      <th>track_url</th>\n      <th>track_id</th>\n      <th>popularity</th>\n    </tr>\n  </thead>\n  <tbody>\n    <tr>\n      <th>0</th>\n      <td>Sam Smith</td>\n      <td>{'spotify': 'https://open.spotify.com/artist/2...</td>\n      <td>2wY79sveU1sp5g7SokKOiI</td>\n      <td>Lay Me Down</td>\n      <td>{'spotify': 'https://open.spotify.com/track/74...</td>\n      <td>74sb4Gib0cL3TQeCjYF8vh</td>\n      <td>67</td>\n    </tr>\n    <tr>\n      <th>1</th>\n      <td>Doja Cat</td>\n      <td>{'spotify': 'https://open.spotify.com/artist/5...</td>\n      <td>5cj0lLjcoR7YOSnhnX0Po5</td>\n      <td>Kiss Me More (feat. Naomi Watanabe)</td>\n      <td>{'spotify': 'https://open.spotify.com/track/6X...</td>\n      <td>6XgBxK1v4li6dOI5to10Sz</td>\n      <td>59</td>\n    </tr>\n    <tr>\n      <th>2</th>\n      <td>Joji</td>\n      <td>{'spotify': 'https://open.spotify.com/artist/3...</td>\n      <td>3MZsBdqDrRTJihTHQrO6Dq</td>\n      <td>Glimpse of Us</td>\n      <td>{'spotify': 'https://open.spotify.com/track/6x...</td>\n      <td>6xGruZOHLs39ZbVccQTuPZ</td>\n      <td>96</td>\n    </tr>\n    <tr>\n      <th>3</th>\n      <td>Kendrick Lamar</td>\n      <td>{'spotify': 'https://open.spotify.com/artist/2...</td>\n      <td>2YZyLoL8N0Wb9xBt1NhZWg</td>\n      <td>The Heart Part 5</td>\n      <td>{'spotify': 'https://open.spotify.com/track/5q...</td>\n      <td>5qbhVL3vB7HwWvb0042B7y</td>\n      <td>65</td>\n    </tr>\n    <tr>\n      <th>4</th>\n      <td>Soft Lipa</td>\n      <td>{'spotify': 'https://open.spotify.com/artist/3...</td>\n      <td>3Xp3DA50zRP4TYOtNR7k1T</td>\n      <td>關於小熊</td>\n      <td>{'spotify': 'https://open.spotify.com/track/13...</td>\n      <td>13tJ9Mkj7cjXxrTjOh0LAN</td>\n      <td>47</td>\n    </tr>\n  </tbody>\n</table>\n</div>"
     },
     "execution_count": 5,
     "metadata": {},
     "output_type": "execute_result"
    }
   ],
   "source": [
    "df_tracklist.head() # check the dataframe"
   ],
   "metadata": {
    "collapsed": false,
    "pycharm": {
     "name": "#%%\n"
    }
   }
  },
  {
   "cell_type": "code",
   "execution_count": 6,
   "outputs": [
    {
     "name": "stdout",
     "output_type": "stream",
     "text": [
      "<class 'pandas.core.frame.DataFrame'>\n",
      "RangeIndex: 100 entries, 0 to 99\n",
      "Data columns (total 7 columns):\n",
      " #   Column        Non-Null Count  Dtype \n",
      "---  ------        --------------  ----- \n",
      " 0   artist_names  100 non-null    object\n",
      " 1   artist_url    100 non-null    object\n",
      " 2   artist_id     100 non-null    object\n",
      " 3   track_names   100 non-null    object\n",
      " 4   track_url     100 non-null    object\n",
      " 5   track_id      100 non-null    object\n",
      " 6   popularity    100 non-null    int64 \n",
      "dtypes: int64(1), object(6)\n",
      "memory usage: 5.6+ KB\n"
     ]
    }
   ],
   "source": [
    "df_tracklist.info() # check the data type and null values of each column"
   ],
   "metadata": {
    "collapsed": false,
    "pycharm": {
     "name": "#%%\n"
    }
   }
  },
  {
   "cell_type": "code",
   "execution_count": 8,
   "outputs": [],
   "source": [
    "# remove extra strings in the url columns\n",
    "df_tracklist['artist_url'] = df_tracklist['artist_url'].str.strip(\"{'spotify': ''}\")\n",
    "df_tracklist['track_url'] = df_tracklist['track_url'].str.strip(\"{'spotify': ''}\")\n"
   ],
   "metadata": {
    "collapsed": false,
    "pycharm": {
     "name": "#%%\n"
    }
   }
  },
  {
   "cell_type": "code",
   "execution_count": 9,
   "outputs": [
    {
     "data": {
      "text/plain": "                 artist_names  \\\n0                   Sam Smith   \n1                    Doja Cat   \n2                        Joji   \n3              Kendrick Lamar   \n4                   Soft Lipa   \n..                        ...   \n95                    J. Cole   \n96                    J. Cole   \n97  Christoph Willibald Gluck   \n98             Clara Schumann   \n99                       BIBI   \n\n                                           artist_url               artist_id  \\\n0   https://open.spotify.com/artist/2wY79sveU1sp5g...  2wY79sveU1sp5g7SokKOiI   \n1   https://open.spotify.com/artist/5cj0lLjcoR7YOS...  5cj0lLjcoR7YOSnhnX0Po5   \n2   https://open.spotify.com/artist/3MZsBdqDrRTJih...  3MZsBdqDrRTJihTHQrO6Dq   \n3   https://open.spotify.com/artist/2YZyLoL8N0Wb9x...  2YZyLoL8N0Wb9xBt1NhZWg   \n4   https://open.spotify.com/artist/3Xp3DA50zRP4TY...  3Xp3DA50zRP4TYOtNR7k1T   \n..                                                ...                     ...   \n95  https://open.spotify.com/artist/6l3HvQ5sa6mXTs...  6l3HvQ5sa6mXTsMTB19rO5   \n96  https://open.spotify.com/artist/6l3HvQ5sa6mXTs...  6l3HvQ5sa6mXTsMTB19rO5   \n97  https://open.spotify.com/artist/7vfydQ0nVBVgJ0...  7vfydQ0nVBVgJ0ajs8EtRM   \n98  https://open.spotify.com/artist/2yzaWNFV3cxmcR...  2yzaWNFV3cxmcRZtwtr5WC   \n99  https://open.spotify.com/artist/6UbmqUEgjLA6jA...  6UbmqUEgjLA6jAcXwbM1Z9   \n\n                                          track_names  \\\n0                                         Lay Me Down   \n1                 Kiss Me More (feat. Naomi Watanabe)   \n2                                       Glimpse of Us   \n3                                    The Heart Part 5   \n4                                                關於小熊   \n..                                                ...   \n95                         1 0 0 . m i l ‘ (with Bas)   \n96                                          a m a r i   \n97  Melodie from \"Orfeo ed Euridice\", Wq. 30 (Arr....   \n98  Schumann: 12 Gedichte aus Liebesfrühling, Op. ...   \n99                                               BINU   \n\n                                            track_url                track_id  \\\n0   https://open.spotify.com/track/74sb4Gib0cL3TQe...  74sb4Gib0cL3TQeCjYF8vh   \n1   https://open.spotify.com/track/6XgBxK1v4li6dOI...  6XgBxK1v4li6dOI5to10Sz   \n2   https://open.spotify.com/track/6xGruZOHLs39ZbV...  6xGruZOHLs39ZbVccQTuPZ   \n3   https://open.spotify.com/track/5qbhVL3vB7HwWvb...  5qbhVL3vB7HwWvb0042B7y   \n4   https://open.spotify.com/track/13tJ9Mkj7cjXxrT...  13tJ9Mkj7cjXxrTjOh0LAN   \n..                                                ...                     ...   \n95  https://open.spotify.com/track/4n6NDfYake476tr...  4n6NDfYake476trCjJRNl0   \n96  https://open.spotify.com/track/2cnKST6T9qUo2i9...  2cnKST6T9qUo2i907lm8zX   \n97  https://open.spotify.com/track/71S0ksOIsXEqvUN...  71S0ksOIsXEqvUNNTb1RJd   \n98  https://open.spotify.com/track/1NechTDnTtSaciA...  1NechTDnTtSaciAT6gmvJQ   \n99  https://open.spotify.com/track/0lSJQip2wVidbu1...  0lSJQip2wVidbu1JfZ4IEQ   \n\n    popularity  \n0           67  \n1           59  \n2           96  \n3           65  \n4           47  \n..         ...  \n95          62  \n96          74  \n97          31  \n98          58  \n99          54  \n\n[100 rows x 7 columns]",
      "text/html": "<div>\n<style scoped>\n    .dataframe tbody tr th:only-of-type {\n        vertical-align: middle;\n    }\n\n    .dataframe tbody tr th {\n        vertical-align: top;\n    }\n\n    .dataframe thead th {\n        text-align: right;\n    }\n</style>\n<table border=\"1\" class=\"dataframe\">\n  <thead>\n    <tr style=\"text-align: right;\">\n      <th></th>\n      <th>artist_names</th>\n      <th>artist_url</th>\n      <th>artist_id</th>\n      <th>track_names</th>\n      <th>track_url</th>\n      <th>track_id</th>\n      <th>popularity</th>\n    </tr>\n  </thead>\n  <tbody>\n    <tr>\n      <th>0</th>\n      <td>Sam Smith</td>\n      <td>https://open.spotify.com/artist/2wY79sveU1sp5g...</td>\n      <td>2wY79sveU1sp5g7SokKOiI</td>\n      <td>Lay Me Down</td>\n      <td>https://open.spotify.com/track/74sb4Gib0cL3TQe...</td>\n      <td>74sb4Gib0cL3TQeCjYF8vh</td>\n      <td>67</td>\n    </tr>\n    <tr>\n      <th>1</th>\n      <td>Doja Cat</td>\n      <td>https://open.spotify.com/artist/5cj0lLjcoR7YOS...</td>\n      <td>5cj0lLjcoR7YOSnhnX0Po5</td>\n      <td>Kiss Me More (feat. Naomi Watanabe)</td>\n      <td>https://open.spotify.com/track/6XgBxK1v4li6dOI...</td>\n      <td>6XgBxK1v4li6dOI5to10Sz</td>\n      <td>59</td>\n    </tr>\n    <tr>\n      <th>2</th>\n      <td>Joji</td>\n      <td>https://open.spotify.com/artist/3MZsBdqDrRTJih...</td>\n      <td>3MZsBdqDrRTJihTHQrO6Dq</td>\n      <td>Glimpse of Us</td>\n      <td>https://open.spotify.com/track/6xGruZOHLs39ZbV...</td>\n      <td>6xGruZOHLs39ZbVccQTuPZ</td>\n      <td>96</td>\n    </tr>\n    <tr>\n      <th>3</th>\n      <td>Kendrick Lamar</td>\n      <td>https://open.spotify.com/artist/2YZyLoL8N0Wb9x...</td>\n      <td>2YZyLoL8N0Wb9xBt1NhZWg</td>\n      <td>The Heart Part 5</td>\n      <td>https://open.spotify.com/track/5qbhVL3vB7HwWvb...</td>\n      <td>5qbhVL3vB7HwWvb0042B7y</td>\n      <td>65</td>\n    </tr>\n    <tr>\n      <th>4</th>\n      <td>Soft Lipa</td>\n      <td>https://open.spotify.com/artist/3Xp3DA50zRP4TY...</td>\n      <td>3Xp3DA50zRP4TYOtNR7k1T</td>\n      <td>關於小熊</td>\n      <td>https://open.spotify.com/track/13tJ9Mkj7cjXxrT...</td>\n      <td>13tJ9Mkj7cjXxrTjOh0LAN</td>\n      <td>47</td>\n    </tr>\n    <tr>\n      <th>...</th>\n      <td>...</td>\n      <td>...</td>\n      <td>...</td>\n      <td>...</td>\n      <td>...</td>\n      <td>...</td>\n      <td>...</td>\n    </tr>\n    <tr>\n      <th>95</th>\n      <td>J. Cole</td>\n      <td>https://open.spotify.com/artist/6l3HvQ5sa6mXTs...</td>\n      <td>6l3HvQ5sa6mXTsMTB19rO5</td>\n      <td>1 0 0 . m i l ‘ (with Bas)</td>\n      <td>https://open.spotify.com/track/4n6NDfYake476tr...</td>\n      <td>4n6NDfYake476trCjJRNl0</td>\n      <td>62</td>\n    </tr>\n    <tr>\n      <th>96</th>\n      <td>J. Cole</td>\n      <td>https://open.spotify.com/artist/6l3HvQ5sa6mXTs...</td>\n      <td>6l3HvQ5sa6mXTsMTB19rO5</td>\n      <td>a m a r i</td>\n      <td>https://open.spotify.com/track/2cnKST6T9qUo2i9...</td>\n      <td>2cnKST6T9qUo2i907lm8zX</td>\n      <td>74</td>\n    </tr>\n    <tr>\n      <th>97</th>\n      <td>Christoph Willibald Gluck</td>\n      <td>https://open.spotify.com/artist/7vfydQ0nVBVgJ0...</td>\n      <td>7vfydQ0nVBVgJ0ajs8EtRM</td>\n      <td>Melodie from \"Orfeo ed Euridice\", Wq. 30 (Arr....</td>\n      <td>https://open.spotify.com/track/71S0ksOIsXEqvUN...</td>\n      <td>71S0ksOIsXEqvUNNTb1RJd</td>\n      <td>31</td>\n    </tr>\n    <tr>\n      <th>98</th>\n      <td>Clara Schumann</td>\n      <td>https://open.spotify.com/artist/2yzaWNFV3cxmcR...</td>\n      <td>2yzaWNFV3cxmcRZtwtr5WC</td>\n      <td>Schumann: 12 Gedichte aus Liebesfrühling, Op. ...</td>\n      <td>https://open.spotify.com/track/1NechTDnTtSaciA...</td>\n      <td>1NechTDnTtSaciAT6gmvJQ</td>\n      <td>58</td>\n    </tr>\n    <tr>\n      <th>99</th>\n      <td>BIBI</td>\n      <td>https://open.spotify.com/artist/6UbmqUEgjLA6jA...</td>\n      <td>6UbmqUEgjLA6jAcXwbM1Z9</td>\n      <td>BINU</td>\n      <td>https://open.spotify.com/track/0lSJQip2wVidbu1...</td>\n      <td>0lSJQip2wVidbu1JfZ4IEQ</td>\n      <td>54</td>\n    </tr>\n  </tbody>\n</table>\n<p>100 rows × 7 columns</p>\n</div>"
     },
     "execution_count": 9,
     "metadata": {},
     "output_type": "execute_result"
    }
   ],
   "source": [
    "df_tracklist # check the dataframe"
   ],
   "metadata": {
    "collapsed": false,
    "pycharm": {
     "name": "#%%\n"
    }
   }
  },
  {
   "cell_type": "code",
   "execution_count": 9,
   "outputs": [],
   "source": [
    "df_tracklist.to_csv('tracklist_cleaned.csv',index = False) # save the cleaned dataframe to csv file"
   ],
   "metadata": {
    "collapsed": false,
    "pycharm": {
     "name": "#%%\n"
    }
   }
  },
  {
   "cell_type": "markdown",
   "source": [],
   "metadata": {
    "collapsed": false,
    "pycharm": {
     "name": "#%% md\n"
    }
   }
  },
  {
   "cell_type": "markdown",
   "source": [
    "## 2. Clean the tracks's features file"
   ],
   "metadata": {
    "collapsed": false,
    "pycharm": {
     "name": "#%% md\n"
    }
   }
  },
  {
   "cell_type": "code",
   "execution_count": 10,
   "outputs": [],
   "source": [
    "# read the copy of the track features file as a dataframe\n",
    "df_features = pd.read_csv('features copy.csv')"
   ],
   "metadata": {
    "collapsed": false,
    "pycharm": {
     "name": "#%%\n"
    }
   }
  },
  {
   "cell_type": "code",
   "execution_count": 11,
   "outputs": [
    {
     "data": {
      "text/plain": "   danceability  energy  key  loudness  mode  speechiness  acousticness  \\\n0         0.417   0.332    4    -9.482     1       0.0494         0.773   \n1         0.776   0.692    8    -4.409     1       0.0279         0.391   \n2         0.440   0.317    8    -9.258     1       0.0531         0.891   \n3         0.700   0.812    1    -8.128     0       0.2970         0.183   \n4         0.918   0.371    9   -10.493     1       0.1040         0.591   \n\n   instrumentalness  liveness  valence    tempo            type  \\\n0          0.000019    0.1090    0.172  119.156  audio_features   \n1          0.000917    0.1130    0.749  110.964  audio_features   \n2          0.000005    0.1410    0.268  169.914  audio_features   \n3          0.000000    0.0756    0.801   97.405  audio_features   \n4          0.000000    0.1100    0.769   92.983  audio_features   \n\n                       id                                         track_href  \\\n0  74sb4Gib0cL3TQeCjYF8vh  https://api.spotify.com/v1/tracks/74sb4Gib0cL3...   \n1  6XgBxK1v4li6dOI5to10Sz  https://api.spotify.com/v1/tracks/6XgBxK1v4li6...   \n2  6xGruZOHLs39ZbVccQTuPZ  https://api.spotify.com/v1/tracks/6xGruZOHLs39...   \n3  5qbhVL3vB7HwWvb0042B7y  https://api.spotify.com/v1/tracks/5qbhVL3vB7Hw...   \n4  13tJ9Mkj7cjXxrTjOh0LAN  https://api.spotify.com/v1/tracks/13tJ9Mkj7cjX...   \n\n                                        analysis_url  duration_ms  \n0  https://api.spotify.com/v1/audio-analysis/74sb...       253208  \n1  https://api.spotify.com/v1/audio-analysis/6XgB...       209943  \n2  https://api.spotify.com/v1/audio-analysis/6xGr...       233456  \n3  https://api.spotify.com/v1/audio-analysis/5qbh...       332229  \n4  https://api.spotify.com/v1/audio-analysis/13tJ...       316920  ",
      "text/html": "<div>\n<style scoped>\n    .dataframe tbody tr th:only-of-type {\n        vertical-align: middle;\n    }\n\n    .dataframe tbody tr th {\n        vertical-align: top;\n    }\n\n    .dataframe thead th {\n        text-align: right;\n    }\n</style>\n<table border=\"1\" class=\"dataframe\">\n  <thead>\n    <tr style=\"text-align: right;\">\n      <th></th>\n      <th>danceability</th>\n      <th>energy</th>\n      <th>key</th>\n      <th>loudness</th>\n      <th>mode</th>\n      <th>speechiness</th>\n      <th>acousticness</th>\n      <th>instrumentalness</th>\n      <th>liveness</th>\n      <th>valence</th>\n      <th>tempo</th>\n      <th>type</th>\n      <th>id</th>\n      <th>track_href</th>\n      <th>analysis_url</th>\n      <th>duration_ms</th>\n    </tr>\n  </thead>\n  <tbody>\n    <tr>\n      <th>0</th>\n      <td>0.417</td>\n      <td>0.332</td>\n      <td>4</td>\n      <td>-9.482</td>\n      <td>1</td>\n      <td>0.0494</td>\n      <td>0.773</td>\n      <td>0.000019</td>\n      <td>0.1090</td>\n      <td>0.172</td>\n      <td>119.156</td>\n      <td>audio_features</td>\n      <td>74sb4Gib0cL3TQeCjYF8vh</td>\n      <td>https://api.spotify.com/v1/tracks/74sb4Gib0cL3...</td>\n      <td>https://api.spotify.com/v1/audio-analysis/74sb...</td>\n      <td>253208</td>\n    </tr>\n    <tr>\n      <th>1</th>\n      <td>0.776</td>\n      <td>0.692</td>\n      <td>8</td>\n      <td>-4.409</td>\n      <td>1</td>\n      <td>0.0279</td>\n      <td>0.391</td>\n      <td>0.000917</td>\n      <td>0.1130</td>\n      <td>0.749</td>\n      <td>110.964</td>\n      <td>audio_features</td>\n      <td>6XgBxK1v4li6dOI5to10Sz</td>\n      <td>https://api.spotify.com/v1/tracks/6XgBxK1v4li6...</td>\n      <td>https://api.spotify.com/v1/audio-analysis/6XgB...</td>\n      <td>209943</td>\n    </tr>\n    <tr>\n      <th>2</th>\n      <td>0.440</td>\n      <td>0.317</td>\n      <td>8</td>\n      <td>-9.258</td>\n      <td>1</td>\n      <td>0.0531</td>\n      <td>0.891</td>\n      <td>0.000005</td>\n      <td>0.1410</td>\n      <td>0.268</td>\n      <td>169.914</td>\n      <td>audio_features</td>\n      <td>6xGruZOHLs39ZbVccQTuPZ</td>\n      <td>https://api.spotify.com/v1/tracks/6xGruZOHLs39...</td>\n      <td>https://api.spotify.com/v1/audio-analysis/6xGr...</td>\n      <td>233456</td>\n    </tr>\n    <tr>\n      <th>3</th>\n      <td>0.700</td>\n      <td>0.812</td>\n      <td>1</td>\n      <td>-8.128</td>\n      <td>0</td>\n      <td>0.2970</td>\n      <td>0.183</td>\n      <td>0.000000</td>\n      <td>0.0756</td>\n      <td>0.801</td>\n      <td>97.405</td>\n      <td>audio_features</td>\n      <td>5qbhVL3vB7HwWvb0042B7y</td>\n      <td>https://api.spotify.com/v1/tracks/5qbhVL3vB7Hw...</td>\n      <td>https://api.spotify.com/v1/audio-analysis/5qbh...</td>\n      <td>332229</td>\n    </tr>\n    <tr>\n      <th>4</th>\n      <td>0.918</td>\n      <td>0.371</td>\n      <td>9</td>\n      <td>-10.493</td>\n      <td>1</td>\n      <td>0.1040</td>\n      <td>0.591</td>\n      <td>0.000000</td>\n      <td>0.1100</td>\n      <td>0.769</td>\n      <td>92.983</td>\n      <td>audio_features</td>\n      <td>13tJ9Mkj7cjXxrTjOh0LAN</td>\n      <td>https://api.spotify.com/v1/tracks/13tJ9Mkj7cjX...</td>\n      <td>https://api.spotify.com/v1/audio-analysis/13tJ...</td>\n      <td>316920</td>\n    </tr>\n  </tbody>\n</table>\n</div>"
     },
     "execution_count": 11,
     "metadata": {},
     "output_type": "execute_result"
    }
   ],
   "source": [
    "df_features.head() # check the dataframe"
   ],
   "metadata": {
    "collapsed": false,
    "pycharm": {
     "name": "#%%\n"
    }
   }
  },
  {
   "cell_type": "code",
   "execution_count": 12,
   "outputs": [
    {
     "name": "stdout",
     "output_type": "stream",
     "text": [
      "<class 'pandas.core.frame.DataFrame'>\n",
      "RangeIndex: 100 entries, 0 to 99\n",
      "Data columns (total 16 columns):\n",
      " #   Column            Non-Null Count  Dtype  \n",
      "---  ------            --------------  -----  \n",
      " 0   danceability      100 non-null    float64\n",
      " 1   energy            100 non-null    float64\n",
      " 2   key               100 non-null    int64  \n",
      " 3   loudness          100 non-null    float64\n",
      " 4   mode              100 non-null    int64  \n",
      " 5   speechiness       100 non-null    float64\n",
      " 6   acousticness      100 non-null    float64\n",
      " 7   instrumentalness  100 non-null    float64\n",
      " 8   liveness          100 non-null    float64\n",
      " 9   valence           100 non-null    float64\n",
      " 10  tempo             100 non-null    float64\n",
      " 11  type              100 non-null    object \n",
      " 12  id                100 non-null    object \n",
      " 13  track_href        100 non-null    object \n",
      " 14  analysis_url      100 non-null    object \n",
      " 15  duration_ms       100 non-null    int64  \n",
      "dtypes: float64(9), int64(3), object(4)\n",
      "memory usage: 12.6+ KB\n"
     ]
    }
   ],
   "source": [
    "df_features.info() # check the data type and the null value of each column. As the data is quite clean, the original dataset will be used later"
   ],
   "metadata": {
    "collapsed": false,
    "pycharm": {
     "name": "#%%\n"
    }
   }
  },
  {
   "cell_type": "markdown",
   "source": [
    "## 3.Clean the artists_features file"
   ],
   "metadata": {
    "collapsed": false,
    "pycharm": {
     "name": "#%% md\n"
    }
   }
  },
  {
   "cell_type": "code",
   "execution_count": 13,
   "outputs": [],
   "source": [
    "# read the copy of the artists features file as a dataframe\n",
    "df_artifeatures = pd.read_csv('artists_features copy.csv')"
   ],
   "metadata": {
    "collapsed": false,
    "pycharm": {
     "name": "#%%\n"
    }
   }
  },
  {
   "cell_type": "code",
   "execution_count": 14,
   "outputs": [
    {
     "data": {
      "text/plain": "   followers                                             genres  \\\n0   19995331                     ['dance pop', 'pop', 'uk pop']   \n1   21348771                               ['dance pop', 'pop']   \n2    6757545                                      ['viral pop']   \n3   21339012  ['conscious hip hop', 'hip hop', 'rap', 'west ...   \n4     109663  ['chinese indie', 'mandopop', 'taiwan hip hop'...   \n\n                       id     artist_name  artist_popularity  \\\n0  2wY79sveU1sp5g7SokKOiI       Sam Smith                 81   \n1  5cj0lLjcoR7YOSnhnX0Po5        Doja Cat                 88   \n2  3MZsBdqDrRTJihTHQrO6Dq            Joji                 84   \n3  2YZyLoL8N0Wb9xBt1NhZWg  Kendrick Lamar                 88   \n4  3Xp3DA50zRP4TYOtNR7k1T       Soft Lipa                 45   \n\n                                          artist_url  \n0  https://api.spotify.com/v1/artists/2wY79sveU1s...  \n1  https://api.spotify.com/v1/artists/5cj0lLjcoR7...  \n2  https://api.spotify.com/v1/artists/3MZsBdqDrRT...  \n3  https://api.spotify.com/v1/artists/2YZyLoL8N0W...  \n4  https://api.spotify.com/v1/artists/3Xp3DA50zRP...  ",
      "text/html": "<div>\n<style scoped>\n    .dataframe tbody tr th:only-of-type {\n        vertical-align: middle;\n    }\n\n    .dataframe tbody tr th {\n        vertical-align: top;\n    }\n\n    .dataframe thead th {\n        text-align: right;\n    }\n</style>\n<table border=\"1\" class=\"dataframe\">\n  <thead>\n    <tr style=\"text-align: right;\">\n      <th></th>\n      <th>followers</th>\n      <th>genres</th>\n      <th>id</th>\n      <th>artist_name</th>\n      <th>artist_popularity</th>\n      <th>artist_url</th>\n    </tr>\n  </thead>\n  <tbody>\n    <tr>\n      <th>0</th>\n      <td>19995331</td>\n      <td>['dance pop', 'pop', 'uk pop']</td>\n      <td>2wY79sveU1sp5g7SokKOiI</td>\n      <td>Sam Smith</td>\n      <td>81</td>\n      <td>https://api.spotify.com/v1/artists/2wY79sveU1s...</td>\n    </tr>\n    <tr>\n      <th>1</th>\n      <td>21348771</td>\n      <td>['dance pop', 'pop']</td>\n      <td>5cj0lLjcoR7YOSnhnX0Po5</td>\n      <td>Doja Cat</td>\n      <td>88</td>\n      <td>https://api.spotify.com/v1/artists/5cj0lLjcoR7...</td>\n    </tr>\n    <tr>\n      <th>2</th>\n      <td>6757545</td>\n      <td>['viral pop']</td>\n      <td>3MZsBdqDrRTJihTHQrO6Dq</td>\n      <td>Joji</td>\n      <td>84</td>\n      <td>https://api.spotify.com/v1/artists/3MZsBdqDrRT...</td>\n    </tr>\n    <tr>\n      <th>3</th>\n      <td>21339012</td>\n      <td>['conscious hip hop', 'hip hop', 'rap', 'west ...</td>\n      <td>2YZyLoL8N0Wb9xBt1NhZWg</td>\n      <td>Kendrick Lamar</td>\n      <td>88</td>\n      <td>https://api.spotify.com/v1/artists/2YZyLoL8N0W...</td>\n    </tr>\n    <tr>\n      <th>4</th>\n      <td>109663</td>\n      <td>['chinese indie', 'mandopop', 'taiwan hip hop'...</td>\n      <td>3Xp3DA50zRP4TYOtNR7k1T</td>\n      <td>Soft Lipa</td>\n      <td>45</td>\n      <td>https://api.spotify.com/v1/artists/3Xp3DA50zRP...</td>\n    </tr>\n  </tbody>\n</table>\n</div>"
     },
     "execution_count": 14,
     "metadata": {},
     "output_type": "execute_result"
    }
   ],
   "source": [
    "df_artifeatures.head() # check the dataframe"
   ],
   "metadata": {
    "collapsed": false,
    "pycharm": {
     "name": "#%%\n"
    }
   }
  },
  {
   "cell_type": "code",
   "execution_count": 15,
   "outputs": [
    {
     "name": "stdout",
     "output_type": "stream",
     "text": [
      "<class 'pandas.core.frame.DataFrame'>\n",
      "RangeIndex: 100 entries, 0 to 99\n",
      "Data columns (total 6 columns):\n",
      " #   Column             Non-Null Count  Dtype \n",
      "---  ------             --------------  ----- \n",
      " 0   followers          100 non-null    int64 \n",
      " 1   genres             100 non-null    object\n",
      " 2   id                 100 non-null    object\n",
      " 3   artist_name        100 non-null    object\n",
      " 4   artist_popularity  100 non-null    int64 \n",
      " 5   artist_url         100 non-null    object\n",
      "dtypes: int64(2), object(4)\n",
      "memory usage: 4.8+ KB\n"
     ]
    }
   ],
   "source": [
    "df_artifeatures.info() # check the data type and the null value of each column"
   ],
   "metadata": {
    "collapsed": false,
    "pycharm": {
     "name": "#%%\n"
    }
   }
  },
  {
   "cell_type": "code",
   "execution_count": 15,
   "outputs": [],
   "source": [
    "# remove redundant strings from the column genres\n",
    "df_artifeatures.genres = df_artifeatures.genres.str.strip(\"[]\")"
   ],
   "metadata": {
    "collapsed": false,
    "pycharm": {
     "name": "#%%\n"
    }
   }
  },
  {
   "cell_type": "code",
   "execution_count": 17,
   "outputs": [
    {
     "data": {
      "text/plain": "   followers                                             genres  \\\n0   19995331                       'dance pop', 'pop', 'uk pop'   \n1   21348771                                 'dance pop', 'pop'   \n2    6757545                                        'viral pop'   \n3   21339012  'conscious hip hop', 'hip hop', 'rap', 'west c...   \n4     109663  'chinese indie', 'mandopop', 'taiwan hip hop',...   \n\n                       id     artist_name  artist_popularity  \\\n0  2wY79sveU1sp5g7SokKOiI       Sam Smith                 81   \n1  5cj0lLjcoR7YOSnhnX0Po5        Doja Cat                 88   \n2  3MZsBdqDrRTJihTHQrO6Dq            Joji                 84   \n3  2YZyLoL8N0Wb9xBt1NhZWg  Kendrick Lamar                 88   \n4  3Xp3DA50zRP4TYOtNR7k1T       Soft Lipa                 45   \n\n                                          artist_url  \n0  https://api.spotify.com/v1/artists/2wY79sveU1s...  \n1  https://api.spotify.com/v1/artists/5cj0lLjcoR7...  \n2  https://api.spotify.com/v1/artists/3MZsBdqDrRT...  \n3  https://api.spotify.com/v1/artists/2YZyLoL8N0W...  \n4  https://api.spotify.com/v1/artists/3Xp3DA50zRP...  ",
      "text/html": "<div>\n<style scoped>\n    .dataframe tbody tr th:only-of-type {\n        vertical-align: middle;\n    }\n\n    .dataframe tbody tr th {\n        vertical-align: top;\n    }\n\n    .dataframe thead th {\n        text-align: right;\n    }\n</style>\n<table border=\"1\" class=\"dataframe\">\n  <thead>\n    <tr style=\"text-align: right;\">\n      <th></th>\n      <th>followers</th>\n      <th>genres</th>\n      <th>id</th>\n      <th>artist_name</th>\n      <th>artist_popularity</th>\n      <th>artist_url</th>\n    </tr>\n  </thead>\n  <tbody>\n    <tr>\n      <th>0</th>\n      <td>19995331</td>\n      <td>'dance pop', 'pop', 'uk pop'</td>\n      <td>2wY79sveU1sp5g7SokKOiI</td>\n      <td>Sam Smith</td>\n      <td>81</td>\n      <td>https://api.spotify.com/v1/artists/2wY79sveU1s...</td>\n    </tr>\n    <tr>\n      <th>1</th>\n      <td>21348771</td>\n      <td>'dance pop', 'pop'</td>\n      <td>5cj0lLjcoR7YOSnhnX0Po5</td>\n      <td>Doja Cat</td>\n      <td>88</td>\n      <td>https://api.spotify.com/v1/artists/5cj0lLjcoR7...</td>\n    </tr>\n    <tr>\n      <th>2</th>\n      <td>6757545</td>\n      <td>'viral pop'</td>\n      <td>3MZsBdqDrRTJihTHQrO6Dq</td>\n      <td>Joji</td>\n      <td>84</td>\n      <td>https://api.spotify.com/v1/artists/3MZsBdqDrRT...</td>\n    </tr>\n    <tr>\n      <th>3</th>\n      <td>21339012</td>\n      <td>'conscious hip hop', 'hip hop', 'rap', 'west c...</td>\n      <td>2YZyLoL8N0Wb9xBt1NhZWg</td>\n      <td>Kendrick Lamar</td>\n      <td>88</td>\n      <td>https://api.spotify.com/v1/artists/2YZyLoL8N0W...</td>\n    </tr>\n    <tr>\n      <th>4</th>\n      <td>109663</td>\n      <td>'chinese indie', 'mandopop', 'taiwan hip hop',...</td>\n      <td>3Xp3DA50zRP4TYOtNR7k1T</td>\n      <td>Soft Lipa</td>\n      <td>45</td>\n      <td>https://api.spotify.com/v1/artists/3Xp3DA50zRP...</td>\n    </tr>\n  </tbody>\n</table>\n</div>"
     },
     "execution_count": 17,
     "metadata": {},
     "output_type": "execute_result"
    }
   ],
   "source": [
    "df_artifeatures.head() # check the change"
   ],
   "metadata": {
    "collapsed": false,
    "pycharm": {
     "name": "#%%\n"
    }
   }
  },
  {
   "cell_type": "code",
   "execution_count": 18,
   "outputs": [],
   "source": [
    "# drop the duplicate rows. As there are duplicate artists, there must be duplicated values from the dataframe\n",
    "df_artifeatures.drop_duplicates(inplace = True)"
   ],
   "metadata": {
    "collapsed": false,
    "pycharm": {
     "name": "#%%\n"
    }
   }
  },
  {
   "cell_type": "code",
   "execution_count": 19,
   "outputs": [
    {
     "name": "stdout",
     "output_type": "stream",
     "text": [
      "<class 'pandas.core.frame.DataFrame'>\n",
      "Int64Index: 62 entries, 0 to 99\n",
      "Data columns (total 6 columns):\n",
      " #   Column             Non-Null Count  Dtype \n",
      "---  ------             --------------  ----- \n",
      " 0   followers          62 non-null     int64 \n",
      " 1   genres             62 non-null     object\n",
      " 2   id                 62 non-null     object\n",
      " 3   artist_name        62 non-null     object\n",
      " 4   artist_popularity  62 non-null     int64 \n",
      " 5   artist_url         62 non-null     object\n",
      "dtypes: int64(2), object(4)\n",
      "memory usage: 3.4+ KB\n"
     ]
    }
   ],
   "source": [
    "# check the information of the dataframe there are total 62 rows left\n",
    "df_artifeatures.info()"
   ],
   "metadata": {
    "collapsed": false,
    "pycharm": {
     "name": "#%%\n"
    }
   }
  },
  {
   "cell_type": "code",
   "execution_count": 20,
   "outputs": [
    {
     "data": {
      "text/plain": "    followers genres                      id      artist_name  \\\n41       1167         3kU8TgZ3WouCr0GDkYnPbN               许钧   \n43       1188         1eDyy2XYcoDiJpzCEIR7bd             ARAI   \n61       2399         2G9gEEtYueq2WQqzfzWK0H  Robert Prizeman   \n\n    artist_popularity                                         artist_url  \n41                 21  https://api.spotify.com/v1/artists/3kU8TgZ3Wou...  \n43                 26  https://api.spotify.com/v1/artists/1eDyy2XYcoD...  \n61                 39  https://api.spotify.com/v1/artists/2G9gEEtYueq...  ",
      "text/html": "<div>\n<style scoped>\n    .dataframe tbody tr th:only-of-type {\n        vertical-align: middle;\n    }\n\n    .dataframe tbody tr th {\n        vertical-align: top;\n    }\n\n    .dataframe thead th {\n        text-align: right;\n    }\n</style>\n<table border=\"1\" class=\"dataframe\">\n  <thead>\n    <tr style=\"text-align: right;\">\n      <th></th>\n      <th>followers</th>\n      <th>genres</th>\n      <th>id</th>\n      <th>artist_name</th>\n      <th>artist_popularity</th>\n      <th>artist_url</th>\n    </tr>\n  </thead>\n  <tbody>\n    <tr>\n      <th>41</th>\n      <td>1167</td>\n      <td></td>\n      <td>3kU8TgZ3WouCr0GDkYnPbN</td>\n      <td>许钧</td>\n      <td>21</td>\n      <td>https://api.spotify.com/v1/artists/3kU8TgZ3Wou...</td>\n    </tr>\n    <tr>\n      <th>43</th>\n      <td>1188</td>\n      <td></td>\n      <td>1eDyy2XYcoDiJpzCEIR7bd</td>\n      <td>ARAI</td>\n      <td>26</td>\n      <td>https://api.spotify.com/v1/artists/1eDyy2XYcoD...</td>\n    </tr>\n    <tr>\n      <th>61</th>\n      <td>2399</td>\n      <td></td>\n      <td>2G9gEEtYueq2WQqzfzWK0H</td>\n      <td>Robert Prizeman</td>\n      <td>39</td>\n      <td>https://api.spotify.com/v1/artists/2G9gEEtYueq...</td>\n    </tr>\n  </tbody>\n</table>\n</div>"
     },
     "execution_count": 20,
     "metadata": {},
     "output_type": "execute_result"
    }
   ],
   "source": [
    "# look for empty strings\n",
    "df_artifeatures.loc[df_artifeatures['genres']== '']"
   ],
   "metadata": {
    "collapsed": false,
    "pycharm": {
     "name": "#%%\n"
    }
   }
  },
  {
   "cell_type": "code",
   "execution_count": 21,
   "outputs": [],
   "source": [
    "# replace empty strings to 'not known' in the genres\n",
    "df_artifeatures['genres'].replace('',\"'not known'\",inplace = True)"
   ],
   "metadata": {
    "collapsed": false,
    "pycharm": {
     "name": "#%%\n"
    }
   }
  },
  {
   "cell_type": "code",
   "execution_count": 22,
   "outputs": [
    {
     "data": {
      "text/plain": "    followers       genres                      id      artist_name  \\\n41       1167  'not known'  3kU8TgZ3WouCr0GDkYnPbN               许钧   \n43       1188  'not known'  1eDyy2XYcoDiJpzCEIR7bd             ARAI   \n61       2399  'not known'  2G9gEEtYueq2WQqzfzWK0H  Robert Prizeman   \n\n    artist_popularity                                         artist_url  \n41                 21  https://api.spotify.com/v1/artists/3kU8TgZ3Wou...  \n43                 26  https://api.spotify.com/v1/artists/1eDyy2XYcoD...  \n61                 39  https://api.spotify.com/v1/artists/2G9gEEtYueq...  ",
      "text/html": "<div>\n<style scoped>\n    .dataframe tbody tr th:only-of-type {\n        vertical-align: middle;\n    }\n\n    .dataframe tbody tr th {\n        vertical-align: top;\n    }\n\n    .dataframe thead th {\n        text-align: right;\n    }\n</style>\n<table border=\"1\" class=\"dataframe\">\n  <thead>\n    <tr style=\"text-align: right;\">\n      <th></th>\n      <th>followers</th>\n      <th>genres</th>\n      <th>id</th>\n      <th>artist_name</th>\n      <th>artist_popularity</th>\n      <th>artist_url</th>\n    </tr>\n  </thead>\n  <tbody>\n    <tr>\n      <th>41</th>\n      <td>1167</td>\n      <td>'not known'</td>\n      <td>3kU8TgZ3WouCr0GDkYnPbN</td>\n      <td>许钧</td>\n      <td>21</td>\n      <td>https://api.spotify.com/v1/artists/3kU8TgZ3Wou...</td>\n    </tr>\n    <tr>\n      <th>43</th>\n      <td>1188</td>\n      <td>'not known'</td>\n      <td>1eDyy2XYcoDiJpzCEIR7bd</td>\n      <td>ARAI</td>\n      <td>26</td>\n      <td>https://api.spotify.com/v1/artists/1eDyy2XYcoD...</td>\n    </tr>\n    <tr>\n      <th>61</th>\n      <td>2399</td>\n      <td>'not known'</td>\n      <td>2G9gEEtYueq2WQqzfzWK0H</td>\n      <td>Robert Prizeman</td>\n      <td>39</td>\n      <td>https://api.spotify.com/v1/artists/2G9gEEtYueq...</td>\n    </tr>\n  </tbody>\n</table>\n</div>"
     },
     "execution_count": 22,
     "metadata": {},
     "output_type": "execute_result"
    }
   ],
   "source": [
    "# check the change\n",
    "df_artifeatures.loc[df_artifeatures['genres']== \"'not known'\"]"
   ],
   "metadata": {
    "collapsed": false,
    "pycharm": {
     "name": "#%%\n"
    }
   }
  },
  {
   "cell_type": "code",
   "execution_count": 23,
   "outputs": [
    {
     "data": {
      "text/plain": "0"
     },
     "execution_count": 23,
     "metadata": {},
     "output_type": "execute_result"
    }
   ],
   "source": [
    "# check the null value of the column genres\n",
    "df_artifeatures['genres'].isnull().sum()"
   ],
   "metadata": {
    "collapsed": false,
    "pycharm": {
     "name": "#%%\n"
    }
   }
  },
  {
   "cell_type": "code",
   "execution_count": 24,
   "outputs": [],
   "source": [
    "# save the cleaned dataframe to a new csv file\n",
    "df_artifeatures.to_csv('artists_features_cleaned.csv', index = False)"
   ],
   "metadata": {
    "collapsed": false,
    "pycharm": {
     "name": "#%%\n"
    }
   }
  },
  {
   "cell_type": "markdown",
   "source": [
    "## 4. Clean the toptracks file"
   ],
   "metadata": {
    "collapsed": false,
    "pycharm": {
     "name": "#%% md\n"
    }
   }
  },
  {
   "cell_type": "code",
   "execution_count": 25,
   "outputs": [],
   "source": [
    "# read the copy of the toptracks file as a dataframe\n",
    "df_toptracks = pd.read_csv('toptracks copy.csv')"
   ],
   "metadata": {
    "collapsed": false,
    "pycharm": {
     "name": "#%%\n"
    }
   }
  },
  {
   "cell_type": "code",
   "execution_count": 26,
   "outputs": [
    {
     "name": "stdout",
     "output_type": "stream",
     "text": [
      "<class 'pandas.core.frame.DataFrame'>\n",
      "RangeIndex: 1646 entries, 0 to 1645\n",
      "Data columns (total 6 columns):\n",
      " #   Column            Non-Null Count  Dtype \n",
      "---  ------            --------------  ----- \n",
      " 0   artist_name       1646 non-null   object\n",
      " 1   artist_id         1646 non-null   object\n",
      " 2   track_name        1646 non-null   object\n",
      " 3   track_id          1646 non-null   object\n",
      " 4   track_popularity  1646 non-null   int64 \n",
      " 5   track_url         1646 non-null   object\n",
      "dtypes: int64(1), object(5)\n",
      "memory usage: 77.3+ KB\n"
     ]
    }
   ],
   "source": [
    "# check the data type and the null value of each column\n",
    "df_toptracks.info()"
   ],
   "metadata": {
    "collapsed": false,
    "pycharm": {
     "name": "#%%\n"
    }
   }
  },
  {
   "cell_type": "code",
   "execution_count": 27,
   "outputs": [],
   "source": [
    "# drop duplicated rows. As there are duplicated artists, there must be duplicated top tracks of the duplicated artists\n",
    "df_toptracks.drop_duplicates(inplace = True)"
   ],
   "metadata": {
    "collapsed": false,
    "pycharm": {
     "name": "#%%\n"
    }
   }
  },
  {
   "cell_type": "code",
   "execution_count": 29,
   "outputs": [
    {
     "data": {
      "text/plain": "(492, 6)"
     },
     "execution_count": 29,
     "metadata": {},
     "output_type": "execute_result"
    }
   ],
   "source": [
    "# check the number of the rows and columns of the dataframe\n",
    "df_toptracks.shape"
   ],
   "metadata": {
    "collapsed": false,
    "pycharm": {
     "name": "#%%\n"
    }
   }
  },
  {
   "cell_type": "code",
   "execution_count": 30,
   "outputs": [
    {
     "data": {
      "text/plain": "0        True\n1        True\n2        True\n3        True\n4        True\n        ...  \n912      True\n913      True\n918     False\n1643     True\n1645     True\nName: artist_id, Length: 492, dtype: bool"
     },
     "execution_count": 30,
     "metadata": {},
     "output_type": "execute_result"
    }
   ],
   "source": [
    "# as there are song top tracks having different artist_id with the artist_id which used to extract the top tracks data (show as below). This is because the track is made by two or more artists. This needs to be solved for later schema building.\n",
    "# there are 3 methods coming up to my mind:\n",
    "# 1) add those artist_id to the artist_id list and create a new column to distinguish if the artist _id is in my playlist (due to the time contraint, I didn't choose this one)\n",
    "# 2) change the artist_id into the one which was used to extract the top tracks data, but it would change how the data works from the spotify ( it may involve copyright)\n",
    "# 3) drop those tracks and remain the top tracks which are created only by the artists within my playlist, I chose this method at the end.\n",
    "df_toptracks['artist_id'].isin(df_artifeatures['id'])"
   ],
   "metadata": {
    "collapsed": false,
    "pycharm": {
     "name": "#%%\n"
    }
   }
  },
  {
   "cell_type": "code",
   "execution_count": 30,
   "outputs": [],
   "source": [
    "# remain the top tracks that are only created by the artists within my playlist\n",
    "df_toptracks = df_toptracks.loc[df_toptracks['artist_id'].isin(df_artifeatures['id'])== True]\n"
   ],
   "metadata": {
    "collapsed": false,
    "pycharm": {
     "name": "#%%\n"
    }
   }
  },
  {
   "cell_type": "code",
   "execution_count": 31,
   "outputs": [
    {
     "data": {
      "text/plain": "(440, 6)"
     },
     "execution_count": 31,
     "metadata": {},
     "output_type": "execute_result"
    }
   ],
   "source": [
    "df_toptracks.shape # check the number of rows and columns"
   ],
   "metadata": {
    "collapsed": false,
    "pycharm": {
     "name": "#%%\n"
    }
   }
  },
  {
   "cell_type": "code",
   "execution_count": 32,
   "outputs": [],
   "source": [
    "# save the cleaned dataframe into a new csv file\n",
    "df_toptracks.to_csv('toptracks_cleaned.csv', index = False)"
   ],
   "metadata": {
    "collapsed": false,
    "pycharm": {
     "name": "#%%\n"
    }
   }
  }
 ],
 "metadata": {
  "kernelspec": {
   "display_name": "Python 3",
   "language": "python",
   "name": "python3"
  },
  "language_info": {
   "codemirror_mode": {
    "name": "ipython",
    "version": 2
   },
   "file_extension": ".py",
   "mimetype": "text/x-python",
   "name": "python",
   "nbconvert_exporter": "python",
   "pygments_lexer": "ipython2",
   "version": "2.7.6"
  }
 },
 "nbformat": 4,
 "nbformat_minor": 0
}